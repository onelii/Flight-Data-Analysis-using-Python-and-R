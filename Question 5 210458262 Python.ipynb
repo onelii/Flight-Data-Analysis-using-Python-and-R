{
 "cells": [
  {
   "cell_type": "code",
   "execution_count": 1,
   "id": "f091c011",
   "metadata": {},
   "outputs": [],
   "source": [
    "import numpy as np\n",
    "import pandas as pd\n",
    "import seaborn as sns\n",
    "import matplotlib.pyplot as plt\n",
    "from pandas.api.types import is_string_dtype, is_numeric_dtype\n",
    "from sklearn.model_selection  import train_test_split\n",
    "from sklearn.preprocessing import MinMaxScaler\n",
    "import math\n",
    "from sklearn.linear_model import LogisticRegression\n",
    "from sklearn.ensemble import RandomForestRegressor\n",
    "from scipy import stats\n",
    "from sklearn.preprocessing import OneHotEncoder\n",
    "from sklearn.preprocessing import StandardScaler\n",
    "from sklearn.tree import DecisionTreeClassifier\n",
    "from sklearn.metrics import confusion_matrix  \n",
    "from sklearn.ensemble import RandomForestClassifier\n",
    "from sklearn.metrics import accuracy_score, confusion_matrix, precision_score, recall_score, ConfusionMatrixDisplay\n",
    "from sklearn import metrics\n",
    "from sklearn.metrics import f1_score\n",
    "from sklearn.linear_model import LinearRegression\n",
    "from sklearn.metrics import roc_curve, plot_roc_curve"
   ]
  },
  {
   "cell_type": "code",
   "execution_count": 2,
   "id": "1cbc35a4",
   "metadata": {},
   "outputs": [],
   "source": [
    "#uploading merged with plane data set which was already done in question 2"
   ]
  },
  {
   "cell_type": "code",
   "execution_count": 3,
   "id": "f6bf7b1f",
   "metadata": {},
   "outputs": [
    {
     "name": "stderr",
     "output_type": "stream",
     "text": [
      "C:\\Users\\DELL\\AppData\\Local\\Temp\\ipykernel_16764\\1071134838.py:1: DtypeWarning: Columns (29,30,31,32,33,34,35,36) have mixed types. Specify dtype option on import or set low_memory=False.\n",
      "  mergedwithplanedata=pd.read_csv(r\"C:\\Users\\DELL\\Desktop\\Coursework\\coursework data set\\mergedwithplanedata.csv\")\n"
     ]
    }
   ],
   "source": [
    "mergedwithplanedata=pd.read_csv(r\"C:\\Users\\DELL\\Desktop\\Coursework\\coursework data set\\mergedwithplanedata.csv\")"
   ]
  },
  {
   "cell_type": "code",
   "execution_count": 4,
   "id": "5dcf0597",
   "metadata": {},
   "outputs": [
    {
     "data": {
      "text/html": [
       "<div>\n",
       "<style scoped>\n",
       "    .dataframe tbody tr th:only-of-type {\n",
       "        vertical-align: middle;\n",
       "    }\n",
       "\n",
       "    .dataframe tbody tr th {\n",
       "        vertical-align: top;\n",
       "    }\n",
       "\n",
       "    .dataframe thead th {\n",
       "        text-align: right;\n",
       "    }\n",
       "</style>\n",
       "<table border=\"1\" class=\"dataframe\">\n",
       "  <thead>\n",
       "    <tr style=\"text-align: right;\">\n",
       "      <th></th>\n",
       "      <th>Year</th>\n",
       "      <th>Month</th>\n",
       "      <th>DayofMonth</th>\n",
       "      <th>DayOfWeek</th>\n",
       "      <th>DepTime</th>\n",
       "      <th>CRSDepTime</th>\n",
       "      <th>ArrTime</th>\n",
       "      <th>CRSArrTime</th>\n",
       "      <th>UniqueCarrier</th>\n",
       "      <th>FlightNum</th>\n",
       "      <th>...</th>\n",
       "      <th>SecurityDelay</th>\n",
       "      <th>LateAircraftDelay</th>\n",
       "      <th>type</th>\n",
       "      <th>manufacturer</th>\n",
       "      <th>issue_date</th>\n",
       "      <th>model</th>\n",
       "      <th>status</th>\n",
       "      <th>aircraft_type</th>\n",
       "      <th>engine_type</th>\n",
       "      <th>year</th>\n",
       "    </tr>\n",
       "  </thead>\n",
       "  <tbody>\n",
       "    <tr>\n",
       "      <th>0</th>\n",
       "      <td>2006</td>\n",
       "      <td>1</td>\n",
       "      <td>11</td>\n",
       "      <td>3</td>\n",
       "      <td>743.0</td>\n",
       "      <td>745</td>\n",
       "      <td>1024.0</td>\n",
       "      <td>1018</td>\n",
       "      <td>US</td>\n",
       "      <td>343</td>\n",
       "      <td>...</td>\n",
       "      <td>0</td>\n",
       "      <td>0</td>\n",
       "      <td>Corporation</td>\n",
       "      <td>AIRBUS INDUSTRIE</td>\n",
       "      <td>07/09/2004</td>\n",
       "      <td>A320-232</td>\n",
       "      <td>Valid</td>\n",
       "      <td>Fixed Wing Multi-Engine</td>\n",
       "      <td>Turbo-Jet</td>\n",
       "      <td>1999</td>\n",
       "    </tr>\n",
       "    <tr>\n",
       "      <th>1</th>\n",
       "      <td>2006</td>\n",
       "      <td>1</td>\n",
       "      <td>11</td>\n",
       "      <td>3</td>\n",
       "      <td>1053.0</td>\n",
       "      <td>1053</td>\n",
       "      <td>1313.0</td>\n",
       "      <td>1318</td>\n",
       "      <td>US</td>\n",
       "      <td>613</td>\n",
       "      <td>...</td>\n",
       "      <td>0</td>\n",
       "      <td>0</td>\n",
       "      <td>Corporation</td>\n",
       "      <td>AIRBUS</td>\n",
       "      <td>10/04/2004</td>\n",
       "      <td>A319-132</td>\n",
       "      <td>Valid</td>\n",
       "      <td>Fixed Wing Multi-Engine</td>\n",
       "      <td>Turbo-Fan</td>\n",
       "      <td>None</td>\n",
       "    </tr>\n",
       "    <tr>\n",
       "      <th>2</th>\n",
       "      <td>2006</td>\n",
       "      <td>1</td>\n",
       "      <td>11</td>\n",
       "      <td>3</td>\n",
       "      <td>1915.0</td>\n",
       "      <td>1915</td>\n",
       "      <td>2110.0</td>\n",
       "      <td>2133</td>\n",
       "      <td>US</td>\n",
       "      <td>617</td>\n",
       "      <td>...</td>\n",
       "      <td>0</td>\n",
       "      <td>0</td>\n",
       "      <td>Corporation</td>\n",
       "      <td>AIRBUS INDUSTRIE</td>\n",
       "      <td>01/25/2000</td>\n",
       "      <td>A320-232</td>\n",
       "      <td>Valid</td>\n",
       "      <td>Fixed Wing Multi-Engine</td>\n",
       "      <td>Turbo-Jet</td>\n",
       "      <td>1997</td>\n",
       "    </tr>\n",
       "    <tr>\n",
       "      <th>3</th>\n",
       "      <td>2006</td>\n",
       "      <td>1</td>\n",
       "      <td>11</td>\n",
       "      <td>3</td>\n",
       "      <td>1753.0</td>\n",
       "      <td>1755</td>\n",
       "      <td>1925.0</td>\n",
       "      <td>1933</td>\n",
       "      <td>US</td>\n",
       "      <td>300</td>\n",
       "      <td>...</td>\n",
       "      <td>0</td>\n",
       "      <td>0</td>\n",
       "      <td>NaN</td>\n",
       "      <td>NaN</td>\n",
       "      <td>NaN</td>\n",
       "      <td>NaN</td>\n",
       "      <td>NaN</td>\n",
       "      <td>NaN</td>\n",
       "      <td>NaN</td>\n",
       "      <td>NaN</td>\n",
       "    </tr>\n",
       "    <tr>\n",
       "      <th>4</th>\n",
       "      <td>2006</td>\n",
       "      <td>1</td>\n",
       "      <td>11</td>\n",
       "      <td>3</td>\n",
       "      <td>824.0</td>\n",
       "      <td>832</td>\n",
       "      <td>1015.0</td>\n",
       "      <td>1015</td>\n",
       "      <td>US</td>\n",
       "      <td>765</td>\n",
       "      <td>...</td>\n",
       "      <td>0</td>\n",
       "      <td>0</td>\n",
       "      <td>Corporation</td>\n",
       "      <td>BOEING</td>\n",
       "      <td>09/28/2005</td>\n",
       "      <td>737-3G7</td>\n",
       "      <td>Valid</td>\n",
       "      <td>Fixed Wing Multi-Engine</td>\n",
       "      <td>Turbo-Jet</td>\n",
       "      <td>1990</td>\n",
       "    </tr>\n",
       "  </tbody>\n",
       "</table>\n",
       "<p>5 rows × 37 columns</p>\n",
       "</div>"
      ],
      "text/plain": [
       "   Year  Month  DayofMonth  DayOfWeek  DepTime  CRSDepTime  ArrTime  \\\n",
       "0  2006      1          11          3    743.0         745   1024.0   \n",
       "1  2006      1          11          3   1053.0        1053   1313.0   \n",
       "2  2006      1          11          3   1915.0        1915   2110.0   \n",
       "3  2006      1          11          3   1753.0        1755   1925.0   \n",
       "4  2006      1          11          3    824.0         832   1015.0   \n",
       "\n",
       "   CRSArrTime UniqueCarrier  FlightNum  ... SecurityDelay  LateAircraftDelay  \\\n",
       "0        1018            US        343  ...             0                  0   \n",
       "1        1318            US        613  ...             0                  0   \n",
       "2        2133            US        617  ...             0                  0   \n",
       "3        1933            US        300  ...             0                  0   \n",
       "4        1015            US        765  ...             0                  0   \n",
       "\n",
       "          type      manufacturer  issue_date     model status  \\\n",
       "0  Corporation  AIRBUS INDUSTRIE  07/09/2004  A320-232  Valid   \n",
       "1  Corporation            AIRBUS  10/04/2004  A319-132  Valid   \n",
       "2  Corporation  AIRBUS INDUSTRIE  01/25/2000  A320-232  Valid   \n",
       "3          NaN               NaN         NaN       NaN    NaN   \n",
       "4  Corporation            BOEING  09/28/2005   737-3G7  Valid   \n",
       "\n",
       "             aircraft_type  engine_type  year  \n",
       "0  Fixed Wing Multi-Engine    Turbo-Jet  1999  \n",
       "1  Fixed Wing Multi-Engine    Turbo-Fan  None  \n",
       "2  Fixed Wing Multi-Engine    Turbo-Jet  1997  \n",
       "3                      NaN          NaN   NaN  \n",
       "4  Fixed Wing Multi-Engine    Turbo-Jet  1990  \n",
       "\n",
       "[5 rows x 37 columns]"
      ]
     },
     "execution_count": 4,
     "metadata": {},
     "output_type": "execute_result"
    }
   ],
   "source": [
    "mergedwithplanedata.head()"
   ]
  },
  {
   "cell_type": "code",
   "execution_count": 5,
   "id": "8db76f8a",
   "metadata": {},
   "outputs": [],
   "source": [
    "#changing 'year' to 'yearofmanufacture'"
   ]
  },
  {
   "cell_type": "code",
   "execution_count": 6,
   "id": "0ff8f5ad",
   "metadata": {},
   "outputs": [],
   "source": [
    "mergedwithplanedata = mergedwithplanedata.rename(columns={\"year\": \"YearOfManufacture\"})"
   ]
  },
  {
   "cell_type": "code",
   "execution_count": 7,
   "id": "db90dad7",
   "metadata": {},
   "outputs": [],
   "source": [
    "#checking the columns"
   ]
  },
  {
   "cell_type": "code",
   "execution_count": 8,
   "id": "79dba14d",
   "metadata": {},
   "outputs": [
    {
     "data": {
      "text/plain": [
       "Index(['Year', 'Month', 'DayofMonth', 'DayOfWeek', 'DepTime', 'CRSDepTime',\n",
       "       'ArrTime', 'CRSArrTime', 'UniqueCarrier', 'FlightNum', 'TailNum',\n",
       "       'ActualElapsedTime', 'CRSElapsedTime', 'AirTime', 'ArrDelay',\n",
       "       'DepDelay', 'Origin', 'Dest', 'Distance', 'TaxiIn', 'TaxiOut',\n",
       "       'Cancelled', 'CancellationCode', 'Diverted', 'CarrierDelay',\n",
       "       'WeatherDelay', 'NASDelay', 'SecurityDelay', 'LateAircraftDelay',\n",
       "       'type', 'manufacturer', 'issue_date', 'model', 'status',\n",
       "       'aircraft_type', 'engine_type', 'YearOfManufacture'],\n",
       "      dtype='object')"
      ]
     },
     "execution_count": 8,
     "metadata": {},
     "output_type": "execute_result"
    }
   ],
   "source": [
    "mergedwithplanedata.columns"
   ]
  },
  {
   "cell_type": "code",
   "execution_count": 9,
   "id": "f9851eec",
   "metadata": {},
   "outputs": [],
   "source": [
    "#checking for null values"
   ]
  },
  {
   "cell_type": "code",
   "execution_count": 10,
   "id": "1e17216c",
   "metadata": {},
   "outputs": [
    {
     "data": {
      "text/plain": [
       "Year                        0\n",
       "Month                       0\n",
       "DayofMonth                  0\n",
       "DayOfWeek                   0\n",
       "DepTime                282682\n",
       "CRSDepTime                  0\n",
       "ArrTime                316046\n",
       "CRSArrTime                  0\n",
       "UniqueCarrier               0\n",
       "FlightNum                   0\n",
       "TailNum                    22\n",
       "ActualElapsedTime      316046\n",
       "CRSElapsedTime            998\n",
       "AirTime                316046\n",
       "ArrDelay               316046\n",
       "DepDelay               282682\n",
       "Origin                      0\n",
       "Dest                        0\n",
       "Distance                    0\n",
       "TaxiIn                      0\n",
       "TaxiOut                     0\n",
       "Cancelled                   0\n",
       "CancellationCode     14312420\n",
       "Diverted                    0\n",
       "CarrierDelay                0\n",
       "WeatherDelay                0\n",
       "NASDelay                    0\n",
       "SecurityDelay               0\n",
       "LateAircraftDelay           0\n",
       "type                  2564554\n",
       "manufacturer          2564554\n",
       "issue_date            2564554\n",
       "model                 2564554\n",
       "status                2564554\n",
       "aircraft_type         2564554\n",
       "engine_type           2564554\n",
       "YearOfManufacture     2564554\n",
       "dtype: int64"
      ]
     },
     "execution_count": 10,
     "metadata": {},
     "output_type": "execute_result"
    }
   ],
   "source": [
    "pd.isnull(mergedwithplanedata).sum(axis=0)"
   ]
  },
  {
   "cell_type": "code",
   "execution_count": 11,
   "id": "3c164410",
   "metadata": {},
   "outputs": [],
   "source": [
    "#dropping columns"
   ]
  },
  {
   "cell_type": "code",
   "execution_count": 12,
   "id": "68fcd485",
   "metadata": {},
   "outputs": [],
   "source": [
    "q5data = mergedwithplanedata.drop(columns=[\"CancellationCode\",\"type\",\"manufacturer\",\"issue_date\",\"model\",\"status\",\"aircraft_type\",\"engine_type\"])"
   ]
  },
  {
   "cell_type": "code",
   "execution_count": 13,
   "id": "3a3b214a",
   "metadata": {},
   "outputs": [],
   "source": [
    "# making rows with '0000' values in \"year of manufacture\" column null values"
   ]
  },
  {
   "cell_type": "code",
   "execution_count": 14,
   "id": "b1432a4a",
   "metadata": {},
   "outputs": [],
   "source": [
    "q5data.loc[q5data['YearOfManufacture'] == '0000', 'YearOfManufacture'] = np.nan"
   ]
  },
  {
   "cell_type": "code",
   "execution_count": 15,
   "id": "a12a8344",
   "metadata": {},
   "outputs": [],
   "source": [
    "q5data.loc[q5data['YearOfManufacture'] == 'None', 'YearOfManufacture'] = np.nan"
   ]
  },
  {
   "cell_type": "code",
   "execution_count": 16,
   "id": "e35f2214",
   "metadata": {},
   "outputs": [],
   "source": [
    "#checking for null values and dropping"
   ]
  },
  {
   "cell_type": "code",
   "execution_count": 17,
   "id": "fe34a82f",
   "metadata": {},
   "outputs": [
    {
     "data": {
      "text/plain": [
       "Year                       0\n",
       "Month                      0\n",
       "DayofMonth                 0\n",
       "DayOfWeek                  0\n",
       "DepTime               282682\n",
       "CRSDepTime                 0\n",
       "ArrTime               316046\n",
       "CRSArrTime                 0\n",
       "UniqueCarrier              0\n",
       "FlightNum                  0\n",
       "TailNum                   22\n",
       "ActualElapsedTime     316046\n",
       "CRSElapsedTime           998\n",
       "AirTime               316046\n",
       "ArrDelay              316046\n",
       "DepDelay              282682\n",
       "Origin                     0\n",
       "Dest                       0\n",
       "Distance                   0\n",
       "TaxiIn                     0\n",
       "TaxiOut                    0\n",
       "Cancelled                  0\n",
       "Diverted                   0\n",
       "CarrierDelay               0\n",
       "WeatherDelay               0\n",
       "NASDelay                   0\n",
       "SecurityDelay              0\n",
       "LateAircraftDelay          0\n",
       "YearOfManufacture    2931046\n",
       "dtype: int64"
      ]
     },
     "execution_count": 17,
     "metadata": {},
     "output_type": "execute_result"
    }
   ],
   "source": [
    "pd.isnull(q5data).sum(axis=0)"
   ]
  },
  {
   "cell_type": "code",
   "execution_count": 18,
   "id": "e1bf2d18",
   "metadata": {},
   "outputs": [
    {
     "data": {
      "text/html": [
       "<div>\n",
       "<style scoped>\n",
       "    .dataframe tbody tr th:only-of-type {\n",
       "        vertical-align: middle;\n",
       "    }\n",
       "\n",
       "    .dataframe tbody tr th {\n",
       "        vertical-align: top;\n",
       "    }\n",
       "\n",
       "    .dataframe thead th {\n",
       "        text-align: right;\n",
       "    }\n",
       "</style>\n",
       "<table border=\"1\" class=\"dataframe\">\n",
       "  <thead>\n",
       "    <tr style=\"text-align: right;\">\n",
       "      <th></th>\n",
       "      <th>Year</th>\n",
       "      <th>Month</th>\n",
       "      <th>DayofMonth</th>\n",
       "      <th>DayOfWeek</th>\n",
       "      <th>DepTime</th>\n",
       "      <th>CRSDepTime</th>\n",
       "      <th>ArrTime</th>\n",
       "      <th>CRSArrTime</th>\n",
       "      <th>UniqueCarrier</th>\n",
       "      <th>FlightNum</th>\n",
       "      <th>...</th>\n",
       "      <th>TaxiIn</th>\n",
       "      <th>TaxiOut</th>\n",
       "      <th>Cancelled</th>\n",
       "      <th>Diverted</th>\n",
       "      <th>CarrierDelay</th>\n",
       "      <th>WeatherDelay</th>\n",
       "      <th>NASDelay</th>\n",
       "      <th>SecurityDelay</th>\n",
       "      <th>LateAircraftDelay</th>\n",
       "      <th>YearOfManufacture</th>\n",
       "    </tr>\n",
       "  </thead>\n",
       "  <tbody>\n",
       "    <tr>\n",
       "      <th>0</th>\n",
       "      <td>2006</td>\n",
       "      <td>1</td>\n",
       "      <td>11</td>\n",
       "      <td>3</td>\n",
       "      <td>743.0</td>\n",
       "      <td>745</td>\n",
       "      <td>1024.0</td>\n",
       "      <td>1018</td>\n",
       "      <td>US</td>\n",
       "      <td>343</td>\n",
       "      <td>...</td>\n",
       "      <td>45</td>\n",
       "      <td>13</td>\n",
       "      <td>0</td>\n",
       "      <td>0</td>\n",
       "      <td>0</td>\n",
       "      <td>0</td>\n",
       "      <td>0</td>\n",
       "      <td>0</td>\n",
       "      <td>0</td>\n",
       "      <td>1999</td>\n",
       "    </tr>\n",
       "    <tr>\n",
       "      <th>2</th>\n",
       "      <td>2006</td>\n",
       "      <td>1</td>\n",
       "      <td>11</td>\n",
       "      <td>3</td>\n",
       "      <td>1915.0</td>\n",
       "      <td>1915</td>\n",
       "      <td>2110.0</td>\n",
       "      <td>2133</td>\n",
       "      <td>US</td>\n",
       "      <td>617</td>\n",
       "      <td>...</td>\n",
       "      <td>4</td>\n",
       "      <td>11</td>\n",
       "      <td>0</td>\n",
       "      <td>0</td>\n",
       "      <td>0</td>\n",
       "      <td>0</td>\n",
       "      <td>0</td>\n",
       "      <td>0</td>\n",
       "      <td>0</td>\n",
       "      <td>1997</td>\n",
       "    </tr>\n",
       "    <tr>\n",
       "      <th>4</th>\n",
       "      <td>2006</td>\n",
       "      <td>1</td>\n",
       "      <td>11</td>\n",
       "      <td>3</td>\n",
       "      <td>824.0</td>\n",
       "      <td>832</td>\n",
       "      <td>1015.0</td>\n",
       "      <td>1015</td>\n",
       "      <td>US</td>\n",
       "      <td>765</td>\n",
       "      <td>...</td>\n",
       "      <td>27</td>\n",
       "      <td>12</td>\n",
       "      <td>0</td>\n",
       "      <td>0</td>\n",
       "      <td>0</td>\n",
       "      <td>0</td>\n",
       "      <td>0</td>\n",
       "      <td>0</td>\n",
       "      <td>0</td>\n",
       "      <td>1990</td>\n",
       "    </tr>\n",
       "    <tr>\n",
       "      <th>5</th>\n",
       "      <td>2006</td>\n",
       "      <td>1</td>\n",
       "      <td>11</td>\n",
       "      <td>3</td>\n",
       "      <td>627.0</td>\n",
       "      <td>630</td>\n",
       "      <td>834.0</td>\n",
       "      <td>832</td>\n",
       "      <td>US</td>\n",
       "      <td>295</td>\n",
       "      <td>...</td>\n",
       "      <td>6</td>\n",
       "      <td>13</td>\n",
       "      <td>0</td>\n",
       "      <td>0</td>\n",
       "      <td>0</td>\n",
       "      <td>0</td>\n",
       "      <td>0</td>\n",
       "      <td>0</td>\n",
       "      <td>0</td>\n",
       "      <td>2000</td>\n",
       "    </tr>\n",
       "    <tr>\n",
       "      <th>7</th>\n",
       "      <td>2006</td>\n",
       "      <td>1</td>\n",
       "      <td>11</td>\n",
       "      <td>3</td>\n",
       "      <td>942.0</td>\n",
       "      <td>945</td>\n",
       "      <td>1155.0</td>\n",
       "      <td>1148</td>\n",
       "      <td>US</td>\n",
       "      <td>356</td>\n",
       "      <td>...</td>\n",
       "      <td>4</td>\n",
       "      <td>8</td>\n",
       "      <td>0</td>\n",
       "      <td>0</td>\n",
       "      <td>0</td>\n",
       "      <td>0</td>\n",
       "      <td>0</td>\n",
       "      <td>0</td>\n",
       "      <td>0</td>\n",
       "      <td>1989</td>\n",
       "    </tr>\n",
       "  </tbody>\n",
       "</table>\n",
       "<p>5 rows × 29 columns</p>\n",
       "</div>"
      ],
      "text/plain": [
       "   Year  Month  DayofMonth  DayOfWeek  DepTime  CRSDepTime  ArrTime  \\\n",
       "0  2006      1          11          3    743.0         745   1024.0   \n",
       "2  2006      1          11          3   1915.0        1915   2110.0   \n",
       "4  2006      1          11          3    824.0         832   1015.0   \n",
       "5  2006      1          11          3    627.0         630    834.0   \n",
       "7  2006      1          11          3    942.0         945   1155.0   \n",
       "\n",
       "   CRSArrTime UniqueCarrier  FlightNum  ... TaxiIn  TaxiOut  Cancelled  \\\n",
       "0        1018            US        343  ...     45       13          0   \n",
       "2        2133            US        617  ...      4       11          0   \n",
       "4        1015            US        765  ...     27       12          0   \n",
       "5         832            US        295  ...      6       13          0   \n",
       "7        1148            US        356  ...      4        8          0   \n",
       "\n",
       "   Diverted  CarrierDelay  WeatherDelay NASDelay SecurityDelay  \\\n",
       "0         0             0             0        0             0   \n",
       "2         0             0             0        0             0   \n",
       "4         0             0             0        0             0   \n",
       "5         0             0             0        0             0   \n",
       "7         0             0             0        0             0   \n",
       "\n",
       "   LateAircraftDelay  YearOfManufacture  \n",
       "0                  0               1999  \n",
       "2                  0               1997  \n",
       "4                  0               1990  \n",
       "5                  0               2000  \n",
       "7                  0               1989  \n",
       "\n",
       "[5 rows x 29 columns]"
      ]
     },
     "execution_count": 18,
     "metadata": {},
     "output_type": "execute_result"
    }
   ],
   "source": [
    "q5data = q5data.dropna()\n",
    "q5data.head()"
   ]
  },
  {
   "cell_type": "code",
   "execution_count": 19,
   "id": "7fcf89e9",
   "metadata": {},
   "outputs": [
    {
     "data": {
      "text/plain": [
       "Year                 0\n",
       "Month                0\n",
       "DayofMonth           0\n",
       "DayOfWeek            0\n",
       "DepTime              0\n",
       "CRSDepTime           0\n",
       "ArrTime              0\n",
       "CRSArrTime           0\n",
       "UniqueCarrier        0\n",
       "FlightNum            0\n",
       "TailNum              0\n",
       "ActualElapsedTime    0\n",
       "CRSElapsedTime       0\n",
       "AirTime              0\n",
       "ArrDelay             0\n",
       "DepDelay             0\n",
       "Origin               0\n",
       "Dest                 0\n",
       "Distance             0\n",
       "TaxiIn               0\n",
       "TaxiOut              0\n",
       "Cancelled            0\n",
       "Diverted             0\n",
       "CarrierDelay         0\n",
       "WeatherDelay         0\n",
       "NASDelay             0\n",
       "SecurityDelay        0\n",
       "LateAircraftDelay    0\n",
       "YearOfManufacture    0\n",
       "dtype: int64"
      ]
     },
     "execution_count": 19,
     "metadata": {},
     "output_type": "execute_result"
    }
   ],
   "source": [
    "pd.isnull(q5data).sum(axis=0)"
   ]
  },
  {
   "cell_type": "code",
   "execution_count": 20,
   "id": "47a9d64f",
   "metadata": {},
   "outputs": [],
   "source": [
    "# change the data type of year of manufacture column from object to integer"
   ]
  },
  {
   "cell_type": "code",
   "execution_count": 21,
   "id": "49b595c9",
   "metadata": {},
   "outputs": [],
   "source": [
    "q5data.loc[:, 'YearOfManufacture'] = q5data['YearOfManufacture'].astype(int)"
   ]
  },
  {
   "cell_type": "code",
   "execution_count": 22,
   "id": "17353bc5",
   "metadata": {},
   "outputs": [],
   "source": [
    "#calculating plane age "
   ]
  },
  {
   "cell_type": "code",
   "execution_count": 23,
   "id": "7134b599",
   "metadata": {
    "scrolled": false
   },
   "outputs": [
    {
     "data": {
      "text/html": [
       "<div>\n",
       "<style scoped>\n",
       "    .dataframe tbody tr th:only-of-type {\n",
       "        vertical-align: middle;\n",
       "    }\n",
       "\n",
       "    .dataframe tbody tr th {\n",
       "        vertical-align: top;\n",
       "    }\n",
       "\n",
       "    .dataframe thead th {\n",
       "        text-align: right;\n",
       "    }\n",
       "</style>\n",
       "<table border=\"1\" class=\"dataframe\">\n",
       "  <thead>\n",
       "    <tr style=\"text-align: right;\">\n",
       "      <th></th>\n",
       "      <th>Year</th>\n",
       "      <th>Month</th>\n",
       "      <th>DayofMonth</th>\n",
       "      <th>DayOfWeek</th>\n",
       "      <th>DepTime</th>\n",
       "      <th>CRSDepTime</th>\n",
       "      <th>ArrTime</th>\n",
       "      <th>CRSArrTime</th>\n",
       "      <th>UniqueCarrier</th>\n",
       "      <th>FlightNum</th>\n",
       "      <th>...</th>\n",
       "      <th>TaxiOut</th>\n",
       "      <th>Cancelled</th>\n",
       "      <th>Diverted</th>\n",
       "      <th>CarrierDelay</th>\n",
       "      <th>WeatherDelay</th>\n",
       "      <th>NASDelay</th>\n",
       "      <th>SecurityDelay</th>\n",
       "      <th>LateAircraftDelay</th>\n",
       "      <th>YearOfManufacture</th>\n",
       "      <th>PlaneAge</th>\n",
       "    </tr>\n",
       "  </thead>\n",
       "  <tbody>\n",
       "    <tr>\n",
       "      <th>0</th>\n",
       "      <td>2006</td>\n",
       "      <td>1</td>\n",
       "      <td>11</td>\n",
       "      <td>3</td>\n",
       "      <td>743.0</td>\n",
       "      <td>745</td>\n",
       "      <td>1024.0</td>\n",
       "      <td>1018</td>\n",
       "      <td>US</td>\n",
       "      <td>343</td>\n",
       "      <td>...</td>\n",
       "      <td>13</td>\n",
       "      <td>0</td>\n",
       "      <td>0</td>\n",
       "      <td>0</td>\n",
       "      <td>0</td>\n",
       "      <td>0</td>\n",
       "      <td>0</td>\n",
       "      <td>0</td>\n",
       "      <td>1999</td>\n",
       "      <td>7</td>\n",
       "    </tr>\n",
       "    <tr>\n",
       "      <th>2</th>\n",
       "      <td>2006</td>\n",
       "      <td>1</td>\n",
       "      <td>11</td>\n",
       "      <td>3</td>\n",
       "      <td>1915.0</td>\n",
       "      <td>1915</td>\n",
       "      <td>2110.0</td>\n",
       "      <td>2133</td>\n",
       "      <td>US</td>\n",
       "      <td>617</td>\n",
       "      <td>...</td>\n",
       "      <td>11</td>\n",
       "      <td>0</td>\n",
       "      <td>0</td>\n",
       "      <td>0</td>\n",
       "      <td>0</td>\n",
       "      <td>0</td>\n",
       "      <td>0</td>\n",
       "      <td>0</td>\n",
       "      <td>1997</td>\n",
       "      <td>9</td>\n",
       "    </tr>\n",
       "    <tr>\n",
       "      <th>4</th>\n",
       "      <td>2006</td>\n",
       "      <td>1</td>\n",
       "      <td>11</td>\n",
       "      <td>3</td>\n",
       "      <td>824.0</td>\n",
       "      <td>832</td>\n",
       "      <td>1015.0</td>\n",
       "      <td>1015</td>\n",
       "      <td>US</td>\n",
       "      <td>765</td>\n",
       "      <td>...</td>\n",
       "      <td>12</td>\n",
       "      <td>0</td>\n",
       "      <td>0</td>\n",
       "      <td>0</td>\n",
       "      <td>0</td>\n",
       "      <td>0</td>\n",
       "      <td>0</td>\n",
       "      <td>0</td>\n",
       "      <td>1990</td>\n",
       "      <td>16</td>\n",
       "    </tr>\n",
       "    <tr>\n",
       "      <th>5</th>\n",
       "      <td>2006</td>\n",
       "      <td>1</td>\n",
       "      <td>11</td>\n",
       "      <td>3</td>\n",
       "      <td>627.0</td>\n",
       "      <td>630</td>\n",
       "      <td>834.0</td>\n",
       "      <td>832</td>\n",
       "      <td>US</td>\n",
       "      <td>295</td>\n",
       "      <td>...</td>\n",
       "      <td>13</td>\n",
       "      <td>0</td>\n",
       "      <td>0</td>\n",
       "      <td>0</td>\n",
       "      <td>0</td>\n",
       "      <td>0</td>\n",
       "      <td>0</td>\n",
       "      <td>0</td>\n",
       "      <td>2000</td>\n",
       "      <td>6</td>\n",
       "    </tr>\n",
       "    <tr>\n",
       "      <th>7</th>\n",
       "      <td>2006</td>\n",
       "      <td>1</td>\n",
       "      <td>11</td>\n",
       "      <td>3</td>\n",
       "      <td>942.0</td>\n",
       "      <td>945</td>\n",
       "      <td>1155.0</td>\n",
       "      <td>1148</td>\n",
       "      <td>US</td>\n",
       "      <td>356</td>\n",
       "      <td>...</td>\n",
       "      <td>8</td>\n",
       "      <td>0</td>\n",
       "      <td>0</td>\n",
       "      <td>0</td>\n",
       "      <td>0</td>\n",
       "      <td>0</td>\n",
       "      <td>0</td>\n",
       "      <td>0</td>\n",
       "      <td>1989</td>\n",
       "      <td>17</td>\n",
       "    </tr>\n",
       "  </tbody>\n",
       "</table>\n",
       "<p>5 rows × 30 columns</p>\n",
       "</div>"
      ],
      "text/plain": [
       "   Year  Month  DayofMonth  DayOfWeek  DepTime  CRSDepTime  ArrTime  \\\n",
       "0  2006      1          11          3    743.0         745   1024.0   \n",
       "2  2006      1          11          3   1915.0        1915   2110.0   \n",
       "4  2006      1          11          3    824.0         832   1015.0   \n",
       "5  2006      1          11          3    627.0         630    834.0   \n",
       "7  2006      1          11          3    942.0         945   1155.0   \n",
       "\n",
       "   CRSArrTime UniqueCarrier  FlightNum  ... TaxiOut  Cancelled  Diverted  \\\n",
       "0        1018            US        343  ...      13          0         0   \n",
       "2        2133            US        617  ...      11          0         0   \n",
       "4        1015            US        765  ...      12          0         0   \n",
       "5         832            US        295  ...      13          0         0   \n",
       "7        1148            US        356  ...       8          0         0   \n",
       "\n",
       "   CarrierDelay  WeatherDelay  NASDelay SecurityDelay LateAircraftDelay  \\\n",
       "0             0             0         0             0                 0   \n",
       "2             0             0         0             0                 0   \n",
       "4             0             0         0             0                 0   \n",
       "5             0             0         0             0                 0   \n",
       "7             0             0         0             0                 0   \n",
       "\n",
       "   YearOfManufacture  PlaneAge  \n",
       "0               1999         7  \n",
       "2               1997         9  \n",
       "4               1990        16  \n",
       "5               2000         6  \n",
       "7               1989        17  \n",
       "\n",
       "[5 rows x 30 columns]"
      ]
     },
     "execution_count": 23,
     "metadata": {},
     "output_type": "execute_result"
    }
   ],
   "source": [
    "q5data.loc[:, 'PlaneAge'] = q5data['Year'] - q5data['YearOfManufacture']\n",
    "q5data.head()"
   ]
  },
  {
   "cell_type": "code",
   "execution_count": 24,
   "id": "df30aa12",
   "metadata": {},
   "outputs": [],
   "source": [
    "#making plane age = -1 a null value"
   ]
  },
  {
   "cell_type": "code",
   "execution_count": 25,
   "id": "b9ca4114",
   "metadata": {},
   "outputs": [],
   "source": [
    "q5data.loc[q5data['PlaneAge'] == -1 , 'PlaneAge'] = np.nan"
   ]
  },
  {
   "cell_type": "code",
   "execution_count": 26,
   "id": "a8bb8f5b",
   "metadata": {},
   "outputs": [],
   "source": [
    "#checking for null values and dropping them"
   ]
  },
  {
   "cell_type": "code",
   "execution_count": 27,
   "id": "64828b22",
   "metadata": {},
   "outputs": [
    {
     "data": {
      "text/plain": [
       "Year                    0\n",
       "Month                   0\n",
       "DayofMonth              0\n",
       "DayOfWeek               0\n",
       "DepTime                 0\n",
       "CRSDepTime              0\n",
       "ArrTime                 0\n",
       "CRSArrTime              0\n",
       "UniqueCarrier           0\n",
       "FlightNum               0\n",
       "TailNum                 0\n",
       "ActualElapsedTime       0\n",
       "CRSElapsedTime          0\n",
       "AirTime                 0\n",
       "ArrDelay                0\n",
       "DepDelay                0\n",
       "Origin                  0\n",
       "Dest                    0\n",
       "Distance                0\n",
       "TaxiIn                  0\n",
       "TaxiOut                 0\n",
       "Cancelled               0\n",
       "Diverted                0\n",
       "CarrierDelay            0\n",
       "WeatherDelay            0\n",
       "NASDelay                0\n",
       "SecurityDelay           0\n",
       "LateAircraftDelay       0\n",
       "YearOfManufacture       0\n",
       "PlaneAge             1812\n",
       "dtype: int64"
      ]
     },
     "execution_count": 27,
     "metadata": {},
     "output_type": "execute_result"
    }
   ],
   "source": [
    "pd.isnull(q5data).sum(axis=0)"
   ]
  },
  {
   "cell_type": "code",
   "execution_count": 28,
   "id": "062dd89d",
   "metadata": {},
   "outputs": [
    {
     "data": {
      "text/html": [
       "<div>\n",
       "<style scoped>\n",
       "    .dataframe tbody tr th:only-of-type {\n",
       "        vertical-align: middle;\n",
       "    }\n",
       "\n",
       "    .dataframe tbody tr th {\n",
       "        vertical-align: top;\n",
       "    }\n",
       "\n",
       "    .dataframe thead th {\n",
       "        text-align: right;\n",
       "    }\n",
       "</style>\n",
       "<table border=\"1\" class=\"dataframe\">\n",
       "  <thead>\n",
       "    <tr style=\"text-align: right;\">\n",
       "      <th></th>\n",
       "      <th>Year</th>\n",
       "      <th>Month</th>\n",
       "      <th>DayofMonth</th>\n",
       "      <th>DayOfWeek</th>\n",
       "      <th>DepTime</th>\n",
       "      <th>CRSDepTime</th>\n",
       "      <th>ArrTime</th>\n",
       "      <th>CRSArrTime</th>\n",
       "      <th>UniqueCarrier</th>\n",
       "      <th>FlightNum</th>\n",
       "      <th>...</th>\n",
       "      <th>TaxiOut</th>\n",
       "      <th>Cancelled</th>\n",
       "      <th>Diverted</th>\n",
       "      <th>CarrierDelay</th>\n",
       "      <th>WeatherDelay</th>\n",
       "      <th>NASDelay</th>\n",
       "      <th>SecurityDelay</th>\n",
       "      <th>LateAircraftDelay</th>\n",
       "      <th>YearOfManufacture</th>\n",
       "      <th>PlaneAge</th>\n",
       "    </tr>\n",
       "  </thead>\n",
       "  <tbody>\n",
       "    <tr>\n",
       "      <th>0</th>\n",
       "      <td>2006</td>\n",
       "      <td>1</td>\n",
       "      <td>11</td>\n",
       "      <td>3</td>\n",
       "      <td>743.0</td>\n",
       "      <td>745</td>\n",
       "      <td>1024.0</td>\n",
       "      <td>1018</td>\n",
       "      <td>US</td>\n",
       "      <td>343</td>\n",
       "      <td>...</td>\n",
       "      <td>13</td>\n",
       "      <td>0</td>\n",
       "      <td>0</td>\n",
       "      <td>0</td>\n",
       "      <td>0</td>\n",
       "      <td>0</td>\n",
       "      <td>0</td>\n",
       "      <td>0</td>\n",
       "      <td>1999</td>\n",
       "      <td>7.0</td>\n",
       "    </tr>\n",
       "    <tr>\n",
       "      <th>2</th>\n",
       "      <td>2006</td>\n",
       "      <td>1</td>\n",
       "      <td>11</td>\n",
       "      <td>3</td>\n",
       "      <td>1915.0</td>\n",
       "      <td>1915</td>\n",
       "      <td>2110.0</td>\n",
       "      <td>2133</td>\n",
       "      <td>US</td>\n",
       "      <td>617</td>\n",
       "      <td>...</td>\n",
       "      <td>11</td>\n",
       "      <td>0</td>\n",
       "      <td>0</td>\n",
       "      <td>0</td>\n",
       "      <td>0</td>\n",
       "      <td>0</td>\n",
       "      <td>0</td>\n",
       "      <td>0</td>\n",
       "      <td>1997</td>\n",
       "      <td>9.0</td>\n",
       "    </tr>\n",
       "    <tr>\n",
       "      <th>4</th>\n",
       "      <td>2006</td>\n",
       "      <td>1</td>\n",
       "      <td>11</td>\n",
       "      <td>3</td>\n",
       "      <td>824.0</td>\n",
       "      <td>832</td>\n",
       "      <td>1015.0</td>\n",
       "      <td>1015</td>\n",
       "      <td>US</td>\n",
       "      <td>765</td>\n",
       "      <td>...</td>\n",
       "      <td>12</td>\n",
       "      <td>0</td>\n",
       "      <td>0</td>\n",
       "      <td>0</td>\n",
       "      <td>0</td>\n",
       "      <td>0</td>\n",
       "      <td>0</td>\n",
       "      <td>0</td>\n",
       "      <td>1990</td>\n",
       "      <td>16.0</td>\n",
       "    </tr>\n",
       "    <tr>\n",
       "      <th>5</th>\n",
       "      <td>2006</td>\n",
       "      <td>1</td>\n",
       "      <td>11</td>\n",
       "      <td>3</td>\n",
       "      <td>627.0</td>\n",
       "      <td>630</td>\n",
       "      <td>834.0</td>\n",
       "      <td>832</td>\n",
       "      <td>US</td>\n",
       "      <td>295</td>\n",
       "      <td>...</td>\n",
       "      <td>13</td>\n",
       "      <td>0</td>\n",
       "      <td>0</td>\n",
       "      <td>0</td>\n",
       "      <td>0</td>\n",
       "      <td>0</td>\n",
       "      <td>0</td>\n",
       "      <td>0</td>\n",
       "      <td>2000</td>\n",
       "      <td>6.0</td>\n",
       "    </tr>\n",
       "    <tr>\n",
       "      <th>7</th>\n",
       "      <td>2006</td>\n",
       "      <td>1</td>\n",
       "      <td>11</td>\n",
       "      <td>3</td>\n",
       "      <td>942.0</td>\n",
       "      <td>945</td>\n",
       "      <td>1155.0</td>\n",
       "      <td>1148</td>\n",
       "      <td>US</td>\n",
       "      <td>356</td>\n",
       "      <td>...</td>\n",
       "      <td>8</td>\n",
       "      <td>0</td>\n",
       "      <td>0</td>\n",
       "      <td>0</td>\n",
       "      <td>0</td>\n",
       "      <td>0</td>\n",
       "      <td>0</td>\n",
       "      <td>0</td>\n",
       "      <td>1989</td>\n",
       "      <td>17.0</td>\n",
       "    </tr>\n",
       "  </tbody>\n",
       "</table>\n",
       "<p>5 rows × 30 columns</p>\n",
       "</div>"
      ],
      "text/plain": [
       "   Year  Month  DayofMonth  DayOfWeek  DepTime  CRSDepTime  ArrTime  \\\n",
       "0  2006      1          11          3    743.0         745   1024.0   \n",
       "2  2006      1          11          3   1915.0        1915   2110.0   \n",
       "4  2006      1          11          3    824.0         832   1015.0   \n",
       "5  2006      1          11          3    627.0         630    834.0   \n",
       "7  2006      1          11          3    942.0         945   1155.0   \n",
       "\n",
       "   CRSArrTime UniqueCarrier  FlightNum  ... TaxiOut  Cancelled  Diverted  \\\n",
       "0        1018            US        343  ...      13          0         0   \n",
       "2        2133            US        617  ...      11          0         0   \n",
       "4        1015            US        765  ...      12          0         0   \n",
       "5         832            US        295  ...      13          0         0   \n",
       "7        1148            US        356  ...       8          0         0   \n",
       "\n",
       "   CarrierDelay  WeatherDelay  NASDelay SecurityDelay LateAircraftDelay  \\\n",
       "0             0             0         0             0                 0   \n",
       "2             0             0         0             0                 0   \n",
       "4             0             0         0             0                 0   \n",
       "5             0             0         0             0                 0   \n",
       "7             0             0         0             0                 0   \n",
       "\n",
       "   YearOfManufacture  PlaneAge  \n",
       "0               1999       7.0  \n",
       "2               1997       9.0  \n",
       "4               1990      16.0  \n",
       "5               2000       6.0  \n",
       "7               1989      17.0  \n",
       "\n",
       "[5 rows x 30 columns]"
      ]
     },
     "execution_count": 28,
     "metadata": {},
     "output_type": "execute_result"
    }
   ],
   "source": [
    "q5data = q5data.dropna()\n",
    "q5data.head()"
   ]
  },
  {
   "cell_type": "code",
   "execution_count": 29,
   "id": "21770111",
   "metadata": {},
   "outputs": [
    {
     "data": {
      "text/plain": [
       "Year                 0\n",
       "Month                0\n",
       "DayofMonth           0\n",
       "DayOfWeek            0\n",
       "DepTime              0\n",
       "CRSDepTime           0\n",
       "ArrTime              0\n",
       "CRSArrTime           0\n",
       "UniqueCarrier        0\n",
       "FlightNum            0\n",
       "TailNum              0\n",
       "ActualElapsedTime    0\n",
       "CRSElapsedTime       0\n",
       "AirTime              0\n",
       "ArrDelay             0\n",
       "DepDelay             0\n",
       "Origin               0\n",
       "Dest                 0\n",
       "Distance             0\n",
       "TaxiIn               0\n",
       "TaxiOut              0\n",
       "Cancelled            0\n",
       "Diverted             0\n",
       "CarrierDelay         0\n",
       "WeatherDelay         0\n",
       "NASDelay             0\n",
       "SecurityDelay        0\n",
       "LateAircraftDelay    0\n",
       "YearOfManufacture    0\n",
       "PlaneAge             0\n",
       "dtype: int64"
      ]
     },
     "execution_count": 29,
     "metadata": {},
     "output_type": "execute_result"
    }
   ],
   "source": [
    "pd.isnull(q5data).sum(axis=0)"
   ]
  },
  {
   "cell_type": "code",
   "execution_count": 30,
   "id": "9cd4ab42",
   "metadata": {},
   "outputs": [],
   "source": [
    "#dropping columns"
   ]
  },
  {
   "cell_type": "code",
   "execution_count": 31,
   "id": "21f6b07a",
   "metadata": {},
   "outputs": [],
   "source": [
    "q5data = q5data.drop(columns=[\"Cancelled\",\"Diverted\",\"YearOfManufacture\"])"
   ]
  },
  {
   "cell_type": "code",
   "execution_count": 32,
   "id": "b0a87c3f",
   "metadata": {},
   "outputs": [
    {
     "data": {
      "text/plain": [
       "<AxesSubplot:>"
      ]
     },
     "execution_count": 32,
     "metadata": {},
     "output_type": "execute_result"
    },
    {
     "data": {
      "image/png": "[encoded data removed]",
      "text/plain": [
       "<Figure size 1440x1440 with 2 Axes>"
      ]
     },
     "metadata": {
      "needs_background": "light"
     },
     "output_type": "display_data"
    }
   ],
   "source": [
    "#correlation plot\n",
    "plt.figure(figsize=(20,20))\n",
    "correlation = q5data.corr()\n",
    "sns.heatmap(correlation,cmap='GnBu',annot=True)"
   ]
  },
  {
   "cell_type": "markdown",
   "id": "d6a688c1",
   "metadata": {},
   "source": [
    "### Cleaning Data For Modelling on Arrival Delays"
   ]
  },
  {
   "cell_type": "code",
   "execution_count": 33,
   "id": "56b17c22",
   "metadata": {},
   "outputs": [],
   "source": [
    "# Extracting the desired columns "
   ]
  },
  {
   "cell_type": "code",
   "execution_count": 34,
   "id": "c74001c3",
   "metadata": {},
   "outputs": [
    {
     "data": {
      "text/html": [
       "<div>\n",
       "<style scoped>\n",
       "    .dataframe tbody tr th:only-of-type {\n",
       "        vertical-align: middle;\n",
       "    }\n",
       "\n",
       "    .dataframe tbody tr th {\n",
       "        vertical-align: top;\n",
       "    }\n",
       "\n",
       "    .dataframe thead th {\n",
       "        text-align: right;\n",
       "    }\n",
       "</style>\n",
       "<table border=\"1\" class=\"dataframe\">\n",
       "  <thead>\n",
       "    <tr style=\"text-align: right;\">\n",
       "      <th></th>\n",
       "      <th>Year</th>\n",
       "      <th>Month</th>\n",
       "      <th>DayOfWeek</th>\n",
       "      <th>DepDelay</th>\n",
       "      <th>ArrDelay</th>\n",
       "      <th>Distance</th>\n",
       "      <th>YearOfManufacture</th>\n",
       "    </tr>\n",
       "  </thead>\n",
       "  <tbody>\n",
       "    <tr>\n",
       "      <th>0</th>\n",
       "      <td>2006</td>\n",
       "      <td>1</td>\n",
       "      <td>3</td>\n",
       "      <td>-2.0</td>\n",
       "      <td>6.0</td>\n",
       "      <td>1587</td>\n",
       "      <td>1999</td>\n",
       "    </tr>\n",
       "    <tr>\n",
       "      <th>1</th>\n",
       "      <td>2006</td>\n",
       "      <td>1</td>\n",
       "      <td>3</td>\n",
       "      <td>0.0</td>\n",
       "      <td>-5.0</td>\n",
       "      <td>1587</td>\n",
       "      <td>None</td>\n",
       "    </tr>\n",
       "    <tr>\n",
       "      <th>2</th>\n",
       "      <td>2006</td>\n",
       "      <td>1</td>\n",
       "      <td>3</td>\n",
       "      <td>0.0</td>\n",
       "      <td>-23.0</td>\n",
       "      <td>1587</td>\n",
       "      <td>1997</td>\n",
       "    </tr>\n",
       "    <tr>\n",
       "      <th>3</th>\n",
       "      <td>2006</td>\n",
       "      <td>1</td>\n",
       "      <td>3</td>\n",
       "      <td>-2.0</td>\n",
       "      <td>-8.0</td>\n",
       "      <td>872</td>\n",
       "      <td>NaN</td>\n",
       "    </tr>\n",
       "    <tr>\n",
       "      <th>4</th>\n",
       "      <td>2006</td>\n",
       "      <td>1</td>\n",
       "      <td>3</td>\n",
       "      <td>-8.0</td>\n",
       "      <td>0.0</td>\n",
       "      <td>872</td>\n",
       "      <td>1990</td>\n",
       "    </tr>\n",
       "  </tbody>\n",
       "</table>\n",
       "</div>"
      ],
      "text/plain": [
       "   Year  Month  DayOfWeek  DepDelay  ArrDelay  Distance YearOfManufacture\n",
       "0  2006      1          3      -2.0       6.0      1587              1999\n",
       "1  2006      1          3       0.0      -5.0      1587              None\n",
       "2  2006      1          3       0.0     -23.0      1587              1997\n",
       "3  2006      1          3      -2.0      -8.0       872               NaN\n",
       "4  2006      1          3      -8.0       0.0       872              1990"
      ]
     },
     "execution_count": 34,
     "metadata": {},
     "output_type": "execute_result"
    }
   ],
   "source": [
    "q5arrdataset=mergedwithplanedata[[\"Year\",\"Month\",\"DayOfWeek\",\"DepDelay\",\"ArrDelay\",\"Distance\",\"YearOfManufacture\"]]\n",
    "q5arrdataset.head()"
   ]
  },
  {
   "cell_type": "code",
   "execution_count": 35,
   "id": "4cda1e22",
   "metadata": {},
   "outputs": [],
   "source": [
    "#checking for null values"
   ]
  },
  {
   "cell_type": "code",
   "execution_count": 36,
   "id": "c5d46c47",
   "metadata": {},
   "outputs": [
    {
     "data": {
      "text/plain": [
       "Year                       0\n",
       "Month                      0\n",
       "DayOfWeek                  0\n",
       "DepDelay              282682\n",
       "ArrDelay              316046\n",
       "Distance                   0\n",
       "YearOfManufacture    2564554\n",
       "dtype: int64"
      ]
     },
     "execution_count": 36,
     "metadata": {},
     "output_type": "execute_result"
    }
   ],
   "source": [
    "pd.isnull(q5arrdataset).sum(axis=0)"
   ]
  },
  {
   "cell_type": "code",
   "execution_count": 37,
   "id": "f5ff2c1e",
   "metadata": {},
   "outputs": [],
   "source": [
    "# making rows with '0000' values in \"year of manufacture\" column null values"
   ]
  },
  {
   "cell_type": "code",
   "execution_count": 38,
   "id": "328fb71c",
   "metadata": {},
   "outputs": [],
   "source": [
    "q5arrdataset.loc[q5arrdataset['YearOfManufacture'] == '0000', 'YearOfManufacture'] = np.nan"
   ]
  },
  {
   "cell_type": "code",
   "execution_count": 39,
   "id": "550be8ac",
   "metadata": {},
   "outputs": [],
   "source": [
    "q5arrdataset.loc[q5arrdataset['YearOfManufacture'] == 'None', 'YearOfManufacture'] = np.nan"
   ]
  },
  {
   "cell_type": "code",
   "execution_count": 40,
   "id": "05c458e9",
   "metadata": {},
   "outputs": [],
   "source": [
    "#checking for null values and dropping"
   ]
  },
  {
   "cell_type": "code",
   "execution_count": 41,
   "id": "c794de23",
   "metadata": {},
   "outputs": [
    {
     "data": {
      "text/plain": [
       "Year                       0\n",
       "Month                      0\n",
       "DayOfWeek                  0\n",
       "DepDelay              282682\n",
       "ArrDelay              316046\n",
       "Distance                   0\n",
       "YearOfManufacture    2931046\n",
       "dtype: int64"
      ]
     },
     "execution_count": 41,
     "metadata": {},
     "output_type": "execute_result"
    }
   ],
   "source": [
    "pd.isnull(q5arrdataset).sum(axis=0)"
   ]
  },
  {
   "cell_type": "code",
   "execution_count": 42,
   "id": "d028ad98",
   "metadata": {},
   "outputs": [
    {
     "data": {
      "text/html": [
       "<div>\n",
       "<style scoped>\n",
       "    .dataframe tbody tr th:only-of-type {\n",
       "        vertical-align: middle;\n",
       "    }\n",
       "\n",
       "    .dataframe tbody tr th {\n",
       "        vertical-align: top;\n",
       "    }\n",
       "\n",
       "    .dataframe thead th {\n",
       "        text-align: right;\n",
       "    }\n",
       "</style>\n",
       "<table border=\"1\" class=\"dataframe\">\n",
       "  <thead>\n",
       "    <tr style=\"text-align: right;\">\n",
       "      <th></th>\n",
       "      <th>Year</th>\n",
       "      <th>Month</th>\n",
       "      <th>DayOfWeek</th>\n",
       "      <th>DepDelay</th>\n",
       "      <th>ArrDelay</th>\n",
       "      <th>Distance</th>\n",
       "      <th>YearOfManufacture</th>\n",
       "    </tr>\n",
       "  </thead>\n",
       "  <tbody>\n",
       "    <tr>\n",
       "      <th>0</th>\n",
       "      <td>2006</td>\n",
       "      <td>1</td>\n",
       "      <td>3</td>\n",
       "      <td>-2.0</td>\n",
       "      <td>6.0</td>\n",
       "      <td>1587</td>\n",
       "      <td>1999</td>\n",
       "    </tr>\n",
       "    <tr>\n",
       "      <th>2</th>\n",
       "      <td>2006</td>\n",
       "      <td>1</td>\n",
       "      <td>3</td>\n",
       "      <td>0.0</td>\n",
       "      <td>-23.0</td>\n",
       "      <td>1587</td>\n",
       "      <td>1997</td>\n",
       "    </tr>\n",
       "    <tr>\n",
       "      <th>4</th>\n",
       "      <td>2006</td>\n",
       "      <td>1</td>\n",
       "      <td>3</td>\n",
       "      <td>-8.0</td>\n",
       "      <td>0.0</td>\n",
       "      <td>872</td>\n",
       "      <td>1990</td>\n",
       "    </tr>\n",
       "    <tr>\n",
       "      <th>5</th>\n",
       "      <td>2006</td>\n",
       "      <td>1</td>\n",
       "      <td>3</td>\n",
       "      <td>-3.0</td>\n",
       "      <td>2.0</td>\n",
       "      <td>644</td>\n",
       "      <td>2000</td>\n",
       "    </tr>\n",
       "    <tr>\n",
       "      <th>7</th>\n",
       "      <td>2006</td>\n",
       "      <td>1</td>\n",
       "      <td>3</td>\n",
       "      <td>-3.0</td>\n",
       "      <td>7.0</td>\n",
       "      <td>644</td>\n",
       "      <td>1989</td>\n",
       "    </tr>\n",
       "  </tbody>\n",
       "</table>\n",
       "</div>"
      ],
      "text/plain": [
       "   Year  Month  DayOfWeek  DepDelay  ArrDelay  Distance YearOfManufacture\n",
       "0  2006      1          3      -2.0       6.0      1587              1999\n",
       "2  2006      1          3       0.0     -23.0      1587              1997\n",
       "4  2006      1          3      -8.0       0.0       872              1990\n",
       "5  2006      1          3      -3.0       2.0       644              2000\n",
       "7  2006      1          3      -3.0       7.0       644              1989"
      ]
     },
     "execution_count": 42,
     "metadata": {},
     "output_type": "execute_result"
    }
   ],
   "source": [
    "q5arrdataset= q5arrdataset.dropna()\n",
    "q5arrdataset.head()"
   ]
  },
  {
   "cell_type": "code",
   "execution_count": 43,
   "id": "19416cc2",
   "metadata": {},
   "outputs": [
    {
     "data": {
      "text/plain": [
       "Year                 0\n",
       "Month                0\n",
       "DayOfWeek            0\n",
       "DepDelay             0\n",
       "ArrDelay             0\n",
       "Distance             0\n",
       "YearOfManufacture    0\n",
       "dtype: int64"
      ]
     },
     "execution_count": 43,
     "metadata": {},
     "output_type": "execute_result"
    }
   ],
   "source": [
    "pd.isnull(q5arrdataset).sum(axis=0)"
   ]
  },
  {
   "cell_type": "code",
   "execution_count": 44,
   "id": "7d3807e6",
   "metadata": {},
   "outputs": [],
   "source": [
    "# change the data type of year of manufacture column from object to integer"
   ]
  },
  {
   "cell_type": "code",
   "execution_count": 45,
   "id": "ed97bd23",
   "metadata": {},
   "outputs": [],
   "source": [
    "q5arrdataset.loc[:, 'YearOfManufacture'] = q5arrdataset['YearOfManufacture'].astype(int)"
   ]
  },
  {
   "cell_type": "code",
   "execution_count": 46,
   "id": "f69ff58c",
   "metadata": {},
   "outputs": [],
   "source": [
    "#calculating plane age "
   ]
  },
  {
   "cell_type": "code",
   "execution_count": 47,
   "id": "f8aa531b",
   "metadata": {
    "scrolled": false
   },
   "outputs": [
    {
     "data": {
      "text/html": [
       "<div>\n",
       "<style scoped>\n",
       "    .dataframe tbody tr th:only-of-type {\n",
       "        vertical-align: middle;\n",
       "    }\n",
       "\n",
       "    .dataframe tbody tr th {\n",
       "        vertical-align: top;\n",
       "    }\n",
       "\n",
       "    .dataframe thead th {\n",
       "        text-align: right;\n",
       "    }\n",
       "</style>\n",
       "<table border=\"1\" class=\"dataframe\">\n",
       "  <thead>\n",
       "    <tr style=\"text-align: right;\">\n",
       "      <th></th>\n",
       "      <th>Year</th>\n",
       "      <th>Month</th>\n",
       "      <th>DayOfWeek</th>\n",
       "      <th>DepDelay</th>\n",
       "      <th>ArrDelay</th>\n",
       "      <th>Distance</th>\n",
       "      <th>YearOfManufacture</th>\n",
       "      <th>PlaneAge</th>\n",
       "    </tr>\n",
       "  </thead>\n",
       "  <tbody>\n",
       "    <tr>\n",
       "      <th>0</th>\n",
       "      <td>2006</td>\n",
       "      <td>1</td>\n",
       "      <td>3</td>\n",
       "      <td>-2.0</td>\n",
       "      <td>6.0</td>\n",
       "      <td>1587</td>\n",
       "      <td>1999</td>\n",
       "      <td>7</td>\n",
       "    </tr>\n",
       "    <tr>\n",
       "      <th>2</th>\n",
       "      <td>2006</td>\n",
       "      <td>1</td>\n",
       "      <td>3</td>\n",
       "      <td>0.0</td>\n",
       "      <td>-23.0</td>\n",
       "      <td>1587</td>\n",
       "      <td>1997</td>\n",
       "      <td>9</td>\n",
       "    </tr>\n",
       "    <tr>\n",
       "      <th>4</th>\n",
       "      <td>2006</td>\n",
       "      <td>1</td>\n",
       "      <td>3</td>\n",
       "      <td>-8.0</td>\n",
       "      <td>0.0</td>\n",
       "      <td>872</td>\n",
       "      <td>1990</td>\n",
       "      <td>16</td>\n",
       "    </tr>\n",
       "    <tr>\n",
       "      <th>5</th>\n",
       "      <td>2006</td>\n",
       "      <td>1</td>\n",
       "      <td>3</td>\n",
       "      <td>-3.0</td>\n",
       "      <td>2.0</td>\n",
       "      <td>644</td>\n",
       "      <td>2000</td>\n",
       "      <td>6</td>\n",
       "    </tr>\n",
       "    <tr>\n",
       "      <th>7</th>\n",
       "      <td>2006</td>\n",
       "      <td>1</td>\n",
       "      <td>3</td>\n",
       "      <td>-3.0</td>\n",
       "      <td>7.0</td>\n",
       "      <td>644</td>\n",
       "      <td>1989</td>\n",
       "      <td>17</td>\n",
       "    </tr>\n",
       "  </tbody>\n",
       "</table>\n",
       "</div>"
      ],
      "text/plain": [
       "   Year  Month  DayOfWeek  DepDelay  ArrDelay  Distance  YearOfManufacture  \\\n",
       "0  2006      1          3      -2.0       6.0      1587               1999   \n",
       "2  2006      1          3       0.0     -23.0      1587               1997   \n",
       "4  2006      1          3      -8.0       0.0       872               1990   \n",
       "5  2006      1          3      -3.0       2.0       644               2000   \n",
       "7  2006      1          3      -3.0       7.0       644               1989   \n",
       "\n",
       "   PlaneAge  \n",
       "0         7  \n",
       "2         9  \n",
       "4        16  \n",
       "5         6  \n",
       "7        17  "
      ]
     },
     "execution_count": 47,
     "metadata": {},
     "output_type": "execute_result"
    }
   ],
   "source": [
    "q5arrdataset.loc[:, 'PlaneAge'] = q5arrdataset['Year'] -q5arrdataset['YearOfManufacture']\n",
    "q5arrdataset.head()"
   ]
  },
  {
   "cell_type": "code",
   "execution_count": 48,
   "id": "e9864de5",
   "metadata": {},
   "outputs": [],
   "source": [
    "#making plane age = -1 a null value"
   ]
  },
  {
   "cell_type": "code",
   "execution_count": 49,
   "id": "25885890",
   "metadata": {},
   "outputs": [],
   "source": [
    "q5arrdataset.loc[q5arrdataset['PlaneAge'] == -1 , 'PlaneAge'] = np.nan"
   ]
  },
  {
   "cell_type": "code",
   "execution_count": 50,
   "id": "efe4d23c",
   "metadata": {},
   "outputs": [],
   "source": [
    "#checking for null values and dropping them"
   ]
  },
  {
   "cell_type": "code",
   "execution_count": 51,
   "id": "352045f2",
   "metadata": {},
   "outputs": [
    {
     "data": {
      "text/plain": [
       "Year                    0\n",
       "Month                   0\n",
       "DayOfWeek               0\n",
       "DepDelay                0\n",
       "ArrDelay                0\n",
       "Distance                0\n",
       "YearOfManufacture       0\n",
       "PlaneAge             1812\n",
       "dtype: int64"
      ]
     },
     "execution_count": 51,
     "metadata": {},
     "output_type": "execute_result"
    }
   ],
   "source": [
    "pd.isnull(q5arrdataset).sum(axis=0)"
   ]
  },
  {
   "cell_type": "code",
   "execution_count": 52,
   "id": "2c77bd1c",
   "metadata": {
    "scrolled": false
   },
   "outputs": [
    {
     "data": {
      "text/html": [
       "<div>\n",
       "<style scoped>\n",
       "    .dataframe tbody tr th:only-of-type {\n",
       "        vertical-align: middle;\n",
       "    }\n",
       "\n",
       "    .dataframe tbody tr th {\n",
       "        vertical-align: top;\n",
       "    }\n",
       "\n",
       "    .dataframe thead th {\n",
       "        text-align: right;\n",
       "    }\n",
       "</style>\n",
       "<table border=\"1\" class=\"dataframe\">\n",
       "  <thead>\n",
       "    <tr style=\"text-align: right;\">\n",
       "      <th></th>\n",
       "      <th>Year</th>\n",
       "      <th>Month</th>\n",
       "      <th>DayOfWeek</th>\n",
       "      <th>DepDelay</th>\n",
       "      <th>ArrDelay</th>\n",
       "      <th>Distance</th>\n",
       "      <th>YearOfManufacture</th>\n",
       "      <th>PlaneAge</th>\n",
       "    </tr>\n",
       "  </thead>\n",
       "  <tbody>\n",
       "    <tr>\n",
       "      <th>0</th>\n",
       "      <td>2006</td>\n",
       "      <td>1</td>\n",
       "      <td>3</td>\n",
       "      <td>-2.0</td>\n",
       "      <td>6.0</td>\n",
       "      <td>1587</td>\n",
       "      <td>1999</td>\n",
       "      <td>7.0</td>\n",
       "    </tr>\n",
       "    <tr>\n",
       "      <th>2</th>\n",
       "      <td>2006</td>\n",
       "      <td>1</td>\n",
       "      <td>3</td>\n",
       "      <td>0.0</td>\n",
       "      <td>-23.0</td>\n",
       "      <td>1587</td>\n",
       "      <td>1997</td>\n",
       "      <td>9.0</td>\n",
       "    </tr>\n",
       "    <tr>\n",
       "      <th>4</th>\n",
       "      <td>2006</td>\n",
       "      <td>1</td>\n",
       "      <td>3</td>\n",
       "      <td>-8.0</td>\n",
       "      <td>0.0</td>\n",
       "      <td>872</td>\n",
       "      <td>1990</td>\n",
       "      <td>16.0</td>\n",
       "    </tr>\n",
       "    <tr>\n",
       "      <th>5</th>\n",
       "      <td>2006</td>\n",
       "      <td>1</td>\n",
       "      <td>3</td>\n",
       "      <td>-3.0</td>\n",
       "      <td>2.0</td>\n",
       "      <td>644</td>\n",
       "      <td>2000</td>\n",
       "      <td>6.0</td>\n",
       "    </tr>\n",
       "    <tr>\n",
       "      <th>7</th>\n",
       "      <td>2006</td>\n",
       "      <td>1</td>\n",
       "      <td>3</td>\n",
       "      <td>-3.0</td>\n",
       "      <td>7.0</td>\n",
       "      <td>644</td>\n",
       "      <td>1989</td>\n",
       "      <td>17.0</td>\n",
       "    </tr>\n",
       "  </tbody>\n",
       "</table>\n",
       "</div>"
      ],
      "text/plain": [
       "   Year  Month  DayOfWeek  DepDelay  ArrDelay  Distance  YearOfManufacture  \\\n",
       "0  2006      1          3      -2.0       6.0      1587               1999   \n",
       "2  2006      1          3       0.0     -23.0      1587               1997   \n",
       "4  2006      1          3      -8.0       0.0       872               1990   \n",
       "5  2006      1          3      -3.0       2.0       644               2000   \n",
       "7  2006      1          3      -3.0       7.0       644               1989   \n",
       "\n",
       "   PlaneAge  \n",
       "0       7.0  \n",
       "2       9.0  \n",
       "4      16.0  \n",
       "5       6.0  \n",
       "7      17.0  "
      ]
     },
     "execution_count": 52,
     "metadata": {},
     "output_type": "execute_result"
    }
   ],
   "source": [
    "q5arrdataset= q5arrdataset.dropna()\n",
    "q5arrdataset.head()"
   ]
  },
  {
   "cell_type": "code",
   "execution_count": 53,
   "id": "5e0caf11",
   "metadata": {},
   "outputs": [
    {
     "data": {
      "text/plain": [
       "Year                 0\n",
       "Month                0\n",
       "DayOfWeek            0\n",
       "DepDelay             0\n",
       "ArrDelay             0\n",
       "Distance             0\n",
       "YearOfManufacture    0\n",
       "PlaneAge             0\n",
       "dtype: int64"
      ]
     },
     "execution_count": 53,
     "metadata": {},
     "output_type": "execute_result"
    }
   ],
   "source": [
    "pd.isnull(q5arrdataset).sum(axis=0)"
   ]
  },
  {
   "cell_type": "code",
   "execution_count": 54,
   "id": "f3ec7756",
   "metadata": {},
   "outputs": [],
   "source": [
    "#dropping columns"
   ]
  },
  {
   "cell_type": "code",
   "execution_count": 55,
   "id": "6fdc5d2d",
   "metadata": {},
   "outputs": [
    {
     "data": {
      "text/html": [
       "<div>\n",
       "<style scoped>\n",
       "    .dataframe tbody tr th:only-of-type {\n",
       "        vertical-align: middle;\n",
       "    }\n",
       "\n",
       "    .dataframe tbody tr th {\n",
       "        vertical-align: top;\n",
       "    }\n",
       "\n",
       "    .dataframe thead th {\n",
       "        text-align: right;\n",
       "    }\n",
       "</style>\n",
       "<table border=\"1\" class=\"dataframe\">\n",
       "  <thead>\n",
       "    <tr style=\"text-align: right;\">\n",
       "      <th></th>\n",
       "      <th>Month</th>\n",
       "      <th>DayOfWeek</th>\n",
       "      <th>DepDelay</th>\n",
       "      <th>ArrDelay</th>\n",
       "      <th>Distance</th>\n",
       "      <th>PlaneAge</th>\n",
       "    </tr>\n",
       "  </thead>\n",
       "  <tbody>\n",
       "    <tr>\n",
       "      <th>0</th>\n",
       "      <td>1</td>\n",
       "      <td>3</td>\n",
       "      <td>-2.0</td>\n",
       "      <td>6.0</td>\n",
       "      <td>1587</td>\n",
       "      <td>7.0</td>\n",
       "    </tr>\n",
       "    <tr>\n",
       "      <th>2</th>\n",
       "      <td>1</td>\n",
       "      <td>3</td>\n",
       "      <td>0.0</td>\n",
       "      <td>-23.0</td>\n",
       "      <td>1587</td>\n",
       "      <td>9.0</td>\n",
       "    </tr>\n",
       "    <tr>\n",
       "      <th>4</th>\n",
       "      <td>1</td>\n",
       "      <td>3</td>\n",
       "      <td>-8.0</td>\n",
       "      <td>0.0</td>\n",
       "      <td>872</td>\n",
       "      <td>16.0</td>\n",
       "    </tr>\n",
       "    <tr>\n",
       "      <th>5</th>\n",
       "      <td>1</td>\n",
       "      <td>3</td>\n",
       "      <td>-3.0</td>\n",
       "      <td>2.0</td>\n",
       "      <td>644</td>\n",
       "      <td>6.0</td>\n",
       "    </tr>\n",
       "    <tr>\n",
       "      <th>7</th>\n",
       "      <td>1</td>\n",
       "      <td>3</td>\n",
       "      <td>-3.0</td>\n",
       "      <td>7.0</td>\n",
       "      <td>644</td>\n",
       "      <td>17.0</td>\n",
       "    </tr>\n",
       "  </tbody>\n",
       "</table>\n",
       "</div>"
      ],
      "text/plain": [
       "   Month  DayOfWeek  DepDelay  ArrDelay  Distance  PlaneAge\n",
       "0      1          3      -2.0       6.0      1587       7.0\n",
       "2      1          3       0.0     -23.0      1587       9.0\n",
       "4      1          3      -8.0       0.0       872      16.0\n",
       "5      1          3      -3.0       2.0       644       6.0\n",
       "7      1          3      -3.0       7.0       644      17.0"
      ]
     },
     "execution_count": 55,
     "metadata": {},
     "output_type": "execute_result"
    }
   ],
   "source": [
    "q5arrdataset = q5arrdataset.drop(columns=[\"Year\",\"YearOfManufacture\"])\n",
    "q5arrdataset.head()"
   ]
  },
  {
   "cell_type": "code",
   "execution_count": 56,
   "id": "d9742c6e",
   "metadata": {},
   "outputs": [
    {
     "data": {
      "text/html": [
       "<div>\n",
       "<style scoped>\n",
       "    .dataframe tbody tr th:only-of-type {\n",
       "        vertical-align: middle;\n",
       "    }\n",
       "\n",
       "    .dataframe tbody tr th {\n",
       "        vertical-align: top;\n",
       "    }\n",
       "\n",
       "    .dataframe thead th {\n",
       "        text-align: right;\n",
       "    }\n",
       "</style>\n",
       "<table border=\"1\" class=\"dataframe\">\n",
       "  <thead>\n",
       "    <tr style=\"text-align: right;\">\n",
       "      <th></th>\n",
       "      <th>Month</th>\n",
       "      <th>DayOfWeek</th>\n",
       "      <th>DepDelay</th>\n",
       "      <th>ArrDelay</th>\n",
       "      <th>Distance</th>\n",
       "      <th>PlaneAge</th>\n",
       "      <th>DelayStatus</th>\n",
       "    </tr>\n",
       "  </thead>\n",
       "  <tbody>\n",
       "    <tr>\n",
       "      <th>0</th>\n",
       "      <td>1</td>\n",
       "      <td>3</td>\n",
       "      <td>-2.0</td>\n",
       "      <td>6.0</td>\n",
       "      <td>1587</td>\n",
       "      <td>7.0</td>\n",
       "      <td>1</td>\n",
       "    </tr>\n",
       "    <tr>\n",
       "      <th>2</th>\n",
       "      <td>1</td>\n",
       "      <td>3</td>\n",
       "      <td>0.0</td>\n",
       "      <td>-23.0</td>\n",
       "      <td>1587</td>\n",
       "      <td>9.0</td>\n",
       "      <td>0</td>\n",
       "    </tr>\n",
       "    <tr>\n",
       "      <th>4</th>\n",
       "      <td>1</td>\n",
       "      <td>3</td>\n",
       "      <td>-8.0</td>\n",
       "      <td>0.0</td>\n",
       "      <td>872</td>\n",
       "      <td>16.0</td>\n",
       "      <td>0</td>\n",
       "    </tr>\n",
       "    <tr>\n",
       "      <th>5</th>\n",
       "      <td>1</td>\n",
       "      <td>3</td>\n",
       "      <td>-3.0</td>\n",
       "      <td>2.0</td>\n",
       "      <td>644</td>\n",
       "      <td>6.0</td>\n",
       "      <td>1</td>\n",
       "    </tr>\n",
       "    <tr>\n",
       "      <th>7</th>\n",
       "      <td>1</td>\n",
       "      <td>3</td>\n",
       "      <td>-3.0</td>\n",
       "      <td>7.0</td>\n",
       "      <td>644</td>\n",
       "      <td>17.0</td>\n",
       "      <td>1</td>\n",
       "    </tr>\n",
       "  </tbody>\n",
       "</table>\n",
       "</div>"
      ],
      "text/plain": [
       "   Month  DayOfWeek  DepDelay  ArrDelay  Distance  PlaneAge  DelayStatus\n",
       "0      1          3      -2.0       6.0      1587       7.0            1\n",
       "2      1          3       0.0     -23.0      1587       9.0            0\n",
       "4      1          3      -8.0       0.0       872      16.0            0\n",
       "5      1          3      -3.0       2.0       644       6.0            1\n",
       "7      1          3      -3.0       7.0       644      17.0            1"
      ]
     },
     "execution_count": 56,
     "metadata": {},
     "output_type": "execute_result"
    }
   ],
   "source": [
    "q5arrdataset['DelayStatus'] = q5arrdataset['ArrDelay'].apply(lambda x: 1 if x > 0 else 0)\n",
    "q5arrdataset.head()"
   ]
  },
  {
   "cell_type": "code",
   "execution_count": 57,
   "id": "c85041fc",
   "metadata": {},
   "outputs": [],
   "source": [
    "#saving the cleaned data set in question 5 to again upload for linear regression modelling since u get memory error"
   ]
  },
  {
   "cell_type": "code",
   "execution_count": 58,
   "id": "98d42d65",
   "metadata": {},
   "outputs": [],
   "source": [
    "q5arrdataset.to_csv(r\"C:\\Users\\DELL\\Desktop\\Coursework\\coursework data set\\question5cleaneddata.csv\",index=False)"
   ]
  },
  {
   "cell_type": "markdown",
   "id": "c7f8b389",
   "metadata": {},
   "source": [
    "## Supervised Classification"
   ]
  },
  {
   "cell_type": "code",
   "execution_count": 59,
   "id": "56785b9d",
   "metadata": {},
   "outputs": [],
   "source": [
    "#dropping ArrDelay Column as we are modelling for it"
   ]
  },
  {
   "cell_type": "code",
   "execution_count": 60,
   "id": "3ffc4e0a",
   "metadata": {},
   "outputs": [
    {
     "data": {
      "text/plain": [
       "(11564843, 6)"
      ]
     },
     "execution_count": 60,
     "metadata": {},
     "output_type": "execute_result"
    }
   ],
   "source": [
    "q5classif= q5arrdataset.drop(columns=[\"ArrDelay\"])\n",
    "q5classif.shape"
   ]
  },
  {
   "cell_type": "code",
   "execution_count": 61,
   "id": "41fc79d1",
   "metadata": {},
   "outputs": [],
   "source": [
    "#checking if Delay Status is balanced"
   ]
  },
  {
   "cell_type": "code",
   "execution_count": 62,
   "id": "c4da3ea0",
   "metadata": {},
   "outputs": [
    {
     "data": {
      "text/plain": [
       "0    6115514\n",
       "1    5449329\n",
       "Name: DelayStatus, dtype: int64"
      ]
     },
     "execution_count": 62,
     "metadata": {},
     "output_type": "execute_result"
    }
   ],
   "source": [
    "q5classif['DelayStatus'].value_counts()"
   ]
  },
  {
   "cell_type": "code",
   "execution_count": 63,
   "id": "05a62bce",
   "metadata": {},
   "outputs": [
    {
     "data": {
      "text/plain": [
       "0.5288021635918447"
      ]
     },
     "execution_count": 63,
     "metadata": {},
     "output_type": "execute_result"
    }
   ],
   "source": [
    "6115514/11564843"
   ]
  },
  {
   "cell_type": "code",
   "execution_count": 64,
   "id": "e3a9599e",
   "metadata": {},
   "outputs": [
    {
     "data": {
      "text/plain": [
       "0.4711978364081553"
      ]
     },
     "execution_count": 64,
     "metadata": {},
     "output_type": "execute_result"
    }
   ],
   "source": [
    "5449329/11564843"
   ]
  },
  {
   "cell_type": "code",
   "execution_count": 65,
   "id": "d9f3da35",
   "metadata": {},
   "outputs": [],
   "source": [
    "#gives a 52% and 48% respectively showing its approximaely balanced and is not biased"
   ]
  },
  {
   "cell_type": "code",
   "execution_count": 66,
   "id": "a97168a0",
   "metadata": {},
   "outputs": [],
   "source": [
    "#standardising the variables except for categorical data"
   ]
  },
  {
   "cell_type": "code",
   "execution_count": 67,
   "id": "9933ecab",
   "metadata": {},
   "outputs": [
    {
     "data": {
      "text/html": [
       "<div>\n",
       "<style scoped>\n",
       "    .dataframe tbody tr th:only-of-type {\n",
       "        vertical-align: middle;\n",
       "    }\n",
       "\n",
       "    .dataframe tbody tr th {\n",
       "        vertical-align: top;\n",
       "    }\n",
       "\n",
       "    .dataframe thead th {\n",
       "        text-align: right;\n",
       "    }\n",
       "</style>\n",
       "<table border=\"1\" class=\"dataframe\">\n",
       "  <thead>\n",
       "    <tr style=\"text-align: right;\">\n",
       "      <th></th>\n",
       "      <th>Month</th>\n",
       "      <th>DayOfWeek</th>\n",
       "      <th>DepDelay</th>\n",
       "      <th>Distance</th>\n",
       "      <th>PlaneAge</th>\n",
       "      <th>DelayStatus</th>\n",
       "    </tr>\n",
       "  </thead>\n",
       "  <tbody>\n",
       "    <tr>\n",
       "      <th>0</th>\n",
       "      <td>1</td>\n",
       "      <td>3</td>\n",
       "      <td>-0.366732</td>\n",
       "      <td>1.517625</td>\n",
       "      <td>-0.360329</td>\n",
       "      <td>1</td>\n",
       "    </tr>\n",
       "    <tr>\n",
       "      <th>2</th>\n",
       "      <td>1</td>\n",
       "      <td>3</td>\n",
       "      <td>-0.309292</td>\n",
       "      <td>1.517625</td>\n",
       "      <td>-0.086121</td>\n",
       "      <td>0</td>\n",
       "    </tr>\n",
       "    <tr>\n",
       "      <th>4</th>\n",
       "      <td>1</td>\n",
       "      <td>3</td>\n",
       "      <td>-0.539054</td>\n",
       "      <td>0.258009</td>\n",
       "      <td>0.873606</td>\n",
       "      <td>0</td>\n",
       "    </tr>\n",
       "    <tr>\n",
       "      <th>5</th>\n",
       "      <td>1</td>\n",
       "      <td>3</td>\n",
       "      <td>-0.395452</td>\n",
       "      <td>-0.143658</td>\n",
       "      <td>-0.497433</td>\n",
       "      <td>1</td>\n",
       "    </tr>\n",
       "    <tr>\n",
       "      <th>7</th>\n",
       "      <td>1</td>\n",
       "      <td>3</td>\n",
       "      <td>-0.395452</td>\n",
       "      <td>-0.143658</td>\n",
       "      <td>1.010710</td>\n",
       "      <td>1</td>\n",
       "    </tr>\n",
       "  </tbody>\n",
       "</table>\n",
       "</div>"
      ],
      "text/plain": [
       "   Month  DayOfWeek  DepDelay  Distance  PlaneAge  DelayStatus\n",
       "0      1          3 -0.366732  1.517625 -0.360329            1\n",
       "2      1          3 -0.309292  1.517625 -0.086121            0\n",
       "4      1          3 -0.539054  0.258009  0.873606            0\n",
       "5      1          3 -0.395452 -0.143658 -0.497433            1\n",
       "7      1          3 -0.395452 -0.143658  1.010710            1"
      ]
     },
     "execution_count": 67,
     "metadata": {},
     "output_type": "execute_result"
    }
   ],
   "source": [
    "q5num = q5classif.copy()\n",
    "scaler = StandardScaler()\n",
    "num_cols = ['DepDelay', 'Distance', 'PlaneAge']\n",
    "q5num[num_cols] = scaler.fit_transform(q5classif[num_cols])\n",
    "q5num.head()"
   ]
  },
  {
   "cell_type": "code",
   "execution_count": 68,
   "id": "04ee607b",
   "metadata": {},
   "outputs": [
    {
     "name": "stderr",
     "output_type": "stream",
     "text": [
      "C:\\Users\\DELL\\anaconda3\\lib\\site-packages\\sklearn\\utils\\deprecation.py:87: FutureWarning: Function get_feature_names is deprecated; get_feature_names is deprecated in 1.0 and will be removed in 1.2. Please use get_feature_names_out instead.\n",
      "  warnings.warn(msg, category=FutureWarning)\n"
     ]
    },
    {
     "data": {
      "text/html": [
       "<div>\n",
       "<style scoped>\n",
       "    .dataframe tbody tr th:only-of-type {\n",
       "        vertical-align: middle;\n",
       "    }\n",
       "\n",
       "    .dataframe tbody tr th {\n",
       "        vertical-align: top;\n",
       "    }\n",
       "\n",
       "    .dataframe thead th {\n",
       "        text-align: right;\n",
       "    }\n",
       "</style>\n",
       "<table border=\"1\" class=\"dataframe\">\n",
       "  <thead>\n",
       "    <tr style=\"text-align: right;\">\n",
       "      <th></th>\n",
       "      <th>Month_1</th>\n",
       "      <th>Month_2</th>\n",
       "      <th>Month_3</th>\n",
       "      <th>Month_4</th>\n",
       "      <th>Month_5</th>\n",
       "      <th>Month_6</th>\n",
       "      <th>Month_7</th>\n",
       "      <th>Month_8</th>\n",
       "      <th>Month_9</th>\n",
       "      <th>Month_10</th>\n",
       "      <th>Month_11</th>\n",
       "      <th>Month_12</th>\n",
       "      <th>DayOfWeek_1</th>\n",
       "      <th>DayOfWeek_2</th>\n",
       "      <th>DayOfWeek_3</th>\n",
       "      <th>DayOfWeek_4</th>\n",
       "      <th>DayOfWeek_5</th>\n",
       "      <th>DayOfWeek_6</th>\n",
       "      <th>DayOfWeek_7</th>\n",
       "    </tr>\n",
       "  </thead>\n",
       "  <tbody>\n",
       "    <tr>\n",
       "      <th>0</th>\n",
       "      <td>1.0</td>\n",
       "      <td>0.0</td>\n",
       "      <td>0.0</td>\n",
       "      <td>0.0</td>\n",
       "      <td>0.0</td>\n",
       "      <td>0.0</td>\n",
       "      <td>0.0</td>\n",
       "      <td>0.0</td>\n",
       "      <td>0.0</td>\n",
       "      <td>0.0</td>\n",
       "      <td>0.0</td>\n",
       "      <td>0.0</td>\n",
       "      <td>0.0</td>\n",
       "      <td>0.0</td>\n",
       "      <td>1.0</td>\n",
       "      <td>0.0</td>\n",
       "      <td>0.0</td>\n",
       "      <td>0.0</td>\n",
       "      <td>0.0</td>\n",
       "    </tr>\n",
       "    <tr>\n",
       "      <th>2</th>\n",
       "      <td>1.0</td>\n",
       "      <td>0.0</td>\n",
       "      <td>0.0</td>\n",
       "      <td>0.0</td>\n",
       "      <td>0.0</td>\n",
       "      <td>0.0</td>\n",
       "      <td>0.0</td>\n",
       "      <td>0.0</td>\n",
       "      <td>0.0</td>\n",
       "      <td>0.0</td>\n",
       "      <td>0.0</td>\n",
       "      <td>0.0</td>\n",
       "      <td>0.0</td>\n",
       "      <td>0.0</td>\n",
       "      <td>1.0</td>\n",
       "      <td>0.0</td>\n",
       "      <td>0.0</td>\n",
       "      <td>0.0</td>\n",
       "      <td>0.0</td>\n",
       "    </tr>\n",
       "    <tr>\n",
       "      <th>4</th>\n",
       "      <td>1.0</td>\n",
       "      <td>0.0</td>\n",
       "      <td>0.0</td>\n",
       "      <td>0.0</td>\n",
       "      <td>0.0</td>\n",
       "      <td>0.0</td>\n",
       "      <td>0.0</td>\n",
       "      <td>0.0</td>\n",
       "      <td>0.0</td>\n",
       "      <td>0.0</td>\n",
       "      <td>0.0</td>\n",
       "      <td>0.0</td>\n",
       "      <td>0.0</td>\n",
       "      <td>0.0</td>\n",
       "      <td>1.0</td>\n",
       "      <td>0.0</td>\n",
       "      <td>0.0</td>\n",
       "      <td>0.0</td>\n",
       "      <td>0.0</td>\n",
       "    </tr>\n",
       "    <tr>\n",
       "      <th>5</th>\n",
       "      <td>1.0</td>\n",
       "      <td>0.0</td>\n",
       "      <td>0.0</td>\n",
       "      <td>0.0</td>\n",
       "      <td>0.0</td>\n",
       "      <td>0.0</td>\n",
       "      <td>0.0</td>\n",
       "      <td>0.0</td>\n",
       "      <td>0.0</td>\n",
       "      <td>0.0</td>\n",
       "      <td>0.0</td>\n",
       "      <td>0.0</td>\n",
       "      <td>0.0</td>\n",
       "      <td>0.0</td>\n",
       "      <td>1.0</td>\n",
       "      <td>0.0</td>\n",
       "      <td>0.0</td>\n",
       "      <td>0.0</td>\n",
       "      <td>0.0</td>\n",
       "    </tr>\n",
       "    <tr>\n",
       "      <th>7</th>\n",
       "      <td>1.0</td>\n",
       "      <td>0.0</td>\n",
       "      <td>0.0</td>\n",
       "      <td>0.0</td>\n",
       "      <td>0.0</td>\n",
       "      <td>0.0</td>\n",
       "      <td>0.0</td>\n",
       "      <td>0.0</td>\n",
       "      <td>0.0</td>\n",
       "      <td>0.0</td>\n",
       "      <td>0.0</td>\n",
       "      <td>0.0</td>\n",
       "      <td>0.0</td>\n",
       "      <td>0.0</td>\n",
       "      <td>1.0</td>\n",
       "      <td>0.0</td>\n",
       "      <td>0.0</td>\n",
       "      <td>0.0</td>\n",
       "      <td>0.0</td>\n",
       "    </tr>\n",
       "  </tbody>\n",
       "</table>\n",
       "</div>"
      ],
      "text/plain": [
       "   Month_1  Month_2  Month_3  Month_4  Month_5  Month_6  Month_7  Month_8  \\\n",
       "0      1.0      0.0      0.0      0.0      0.0      0.0      0.0      0.0   \n",
       "2      1.0      0.0      0.0      0.0      0.0      0.0      0.0      0.0   \n",
       "4      1.0      0.0      0.0      0.0      0.0      0.0      0.0      0.0   \n",
       "5      1.0      0.0      0.0      0.0      0.0      0.0      0.0      0.0   \n",
       "7      1.0      0.0      0.0      0.0      0.0      0.0      0.0      0.0   \n",
       "\n",
       "   Month_9  Month_10  Month_11  Month_12  DayOfWeek_1  DayOfWeek_2  \\\n",
       "0      0.0       0.0       0.0       0.0          0.0          0.0   \n",
       "2      0.0       0.0       0.0       0.0          0.0          0.0   \n",
       "4      0.0       0.0       0.0       0.0          0.0          0.0   \n",
       "5      0.0       0.0       0.0       0.0          0.0          0.0   \n",
       "7      0.0       0.0       0.0       0.0          0.0          0.0   \n",
       "\n",
       "   DayOfWeek_3  DayOfWeek_4  DayOfWeek_5  DayOfWeek_6  DayOfWeek_7  \n",
       "0          1.0          0.0          0.0          0.0          0.0  \n",
       "2          1.0          0.0          0.0          0.0          0.0  \n",
       "4          1.0          0.0          0.0          0.0          0.0  \n",
       "5          1.0          0.0          0.0          0.0          0.0  \n",
       "7          1.0          0.0          0.0          0.0          0.0  "
      ]
     },
     "execution_count": 68,
     "metadata": {},
     "output_type": "execute_result"
    }
   ],
   "source": [
    "# Using indicator function for categorical variables and encode using OneHotEncoder\n",
    "encoder = OneHotEncoder(sparse=False)\n",
    "cat_cols = ['Month', 'DayOfWeek']\n",
    "q5categorical = q5classif[cat_cols]\n",
    "q5categorical = pd.DataFrame(encoder.fit_transform(q5categorical), columns=encoder.get_feature_names(cat_cols), index=q5num.index)\n",
    "q5categorical.head()\n"
   ]
  },
  {
   "cell_type": "code",
   "execution_count": 69,
   "id": "2f00d111",
   "metadata": {},
   "outputs": [
    {
     "name": "stdout",
     "output_type": "stream",
     "text": [
      "Shape of dataframe: (11564843, 25)\n"
     ]
    },
    {
     "data": {
      "text/html": [
       "<div>\n",
       "<style scoped>\n",
       "    .dataframe tbody tr th:only-of-type {\n",
       "        vertical-align: middle;\n",
       "    }\n",
       "\n",
       "    .dataframe tbody tr th {\n",
       "        vertical-align: top;\n",
       "    }\n",
       "\n",
       "    .dataframe thead th {\n",
       "        text-align: right;\n",
       "    }\n",
       "</style>\n",
       "<table border=\"1\" class=\"dataframe\">\n",
       "  <thead>\n",
       "    <tr style=\"text-align: right;\">\n",
       "      <th></th>\n",
       "      <th>DepDelay</th>\n",
       "      <th>Distance</th>\n",
       "      <th>PlaneAge</th>\n",
       "      <th>DelayStatus</th>\n",
       "      <th>Month_1</th>\n",
       "      <th>Month_2</th>\n",
       "      <th>Month_3</th>\n",
       "      <th>Month_4</th>\n",
       "      <th>Month_5</th>\n",
       "      <th>Month_6</th>\n",
       "      <th>...</th>\n",
       "      <th>Month_10</th>\n",
       "      <th>Month_11</th>\n",
       "      <th>Month_12</th>\n",
       "      <th>DayOfWeek_1</th>\n",
       "      <th>DayOfWeek_2</th>\n",
       "      <th>DayOfWeek_3</th>\n",
       "      <th>DayOfWeek_4</th>\n",
       "      <th>DayOfWeek_5</th>\n",
       "      <th>DayOfWeek_6</th>\n",
       "      <th>DayOfWeek_7</th>\n",
       "    </tr>\n",
       "  </thead>\n",
       "  <tbody>\n",
       "    <tr>\n",
       "      <th>0</th>\n",
       "      <td>-0.366732</td>\n",
       "      <td>1.517625</td>\n",
       "      <td>-0.360329</td>\n",
       "      <td>1</td>\n",
       "      <td>1.0</td>\n",
       "      <td>0.0</td>\n",
       "      <td>0.0</td>\n",
       "      <td>0.0</td>\n",
       "      <td>0.0</td>\n",
       "      <td>0.0</td>\n",
       "      <td>...</td>\n",
       "      <td>0.0</td>\n",
       "      <td>0.0</td>\n",
       "      <td>0.0</td>\n",
       "      <td>0.0</td>\n",
       "      <td>0.0</td>\n",
       "      <td>1.0</td>\n",
       "      <td>0.0</td>\n",
       "      <td>0.0</td>\n",
       "      <td>0.0</td>\n",
       "      <td>0.0</td>\n",
       "    </tr>\n",
       "    <tr>\n",
       "      <th>2</th>\n",
       "      <td>-0.309292</td>\n",
       "      <td>1.517625</td>\n",
       "      <td>-0.086121</td>\n",
       "      <td>0</td>\n",
       "      <td>1.0</td>\n",
       "      <td>0.0</td>\n",
       "      <td>0.0</td>\n",
       "      <td>0.0</td>\n",
       "      <td>0.0</td>\n",
       "      <td>0.0</td>\n",
       "      <td>...</td>\n",
       "      <td>0.0</td>\n",
       "      <td>0.0</td>\n",
       "      <td>0.0</td>\n",
       "      <td>0.0</td>\n",
       "      <td>0.0</td>\n",
       "      <td>1.0</td>\n",
       "      <td>0.0</td>\n",
       "      <td>0.0</td>\n",
       "      <td>0.0</td>\n",
       "      <td>0.0</td>\n",
       "    </tr>\n",
       "    <tr>\n",
       "      <th>4</th>\n",
       "      <td>-0.539054</td>\n",
       "      <td>0.258009</td>\n",
       "      <td>0.873606</td>\n",
       "      <td>0</td>\n",
       "      <td>1.0</td>\n",
       "      <td>0.0</td>\n",
       "      <td>0.0</td>\n",
       "      <td>0.0</td>\n",
       "      <td>0.0</td>\n",
       "      <td>0.0</td>\n",
       "      <td>...</td>\n",
       "      <td>0.0</td>\n",
       "      <td>0.0</td>\n",
       "      <td>0.0</td>\n",
       "      <td>0.0</td>\n",
       "      <td>0.0</td>\n",
       "      <td>1.0</td>\n",
       "      <td>0.0</td>\n",
       "      <td>0.0</td>\n",
       "      <td>0.0</td>\n",
       "      <td>0.0</td>\n",
       "    </tr>\n",
       "    <tr>\n",
       "      <th>5</th>\n",
       "      <td>-0.395452</td>\n",
       "      <td>-0.143658</td>\n",
       "      <td>-0.497433</td>\n",
       "      <td>1</td>\n",
       "      <td>1.0</td>\n",
       "      <td>0.0</td>\n",
       "      <td>0.0</td>\n",
       "      <td>0.0</td>\n",
       "      <td>0.0</td>\n",
       "      <td>0.0</td>\n",
       "      <td>...</td>\n",
       "      <td>0.0</td>\n",
       "      <td>0.0</td>\n",
       "      <td>0.0</td>\n",
       "      <td>0.0</td>\n",
       "      <td>0.0</td>\n",
       "      <td>1.0</td>\n",
       "      <td>0.0</td>\n",
       "      <td>0.0</td>\n",
       "      <td>0.0</td>\n",
       "      <td>0.0</td>\n",
       "    </tr>\n",
       "    <tr>\n",
       "      <th>7</th>\n",
       "      <td>-0.395452</td>\n",
       "      <td>-0.143658</td>\n",
       "      <td>1.010710</td>\n",
       "      <td>1</td>\n",
       "      <td>1.0</td>\n",
       "      <td>0.0</td>\n",
       "      <td>0.0</td>\n",
       "      <td>0.0</td>\n",
       "      <td>0.0</td>\n",
       "      <td>0.0</td>\n",
       "      <td>...</td>\n",
       "      <td>0.0</td>\n",
       "      <td>0.0</td>\n",
       "      <td>0.0</td>\n",
       "      <td>0.0</td>\n",
       "      <td>0.0</td>\n",
       "      <td>1.0</td>\n",
       "      <td>0.0</td>\n",
       "      <td>0.0</td>\n",
       "      <td>0.0</td>\n",
       "      <td>0.0</td>\n",
       "    </tr>\n",
       "  </tbody>\n",
       "</table>\n",
       "<p>5 rows × 23 columns</p>\n",
       "</div>"
      ],
      "text/plain": [
       "   DepDelay  Distance  PlaneAge  DelayStatus  Month_1  Month_2  Month_3  \\\n",
       "0 -0.366732  1.517625 -0.360329            1      1.0      0.0      0.0   \n",
       "2 -0.309292  1.517625 -0.086121            0      1.0      0.0      0.0   \n",
       "4 -0.539054  0.258009  0.873606            0      1.0      0.0      0.0   \n",
       "5 -0.395452 -0.143658 -0.497433            1      1.0      0.0      0.0   \n",
       "7 -0.395452 -0.143658  1.010710            1      1.0      0.0      0.0   \n",
       "\n",
       "   Month_4  Month_5  Month_6  ...  Month_10  Month_11  Month_12  DayOfWeek_1  \\\n",
       "0      0.0      0.0      0.0  ...       0.0       0.0       0.0          0.0   \n",
       "2      0.0      0.0      0.0  ...       0.0       0.0       0.0          0.0   \n",
       "4      0.0      0.0      0.0  ...       0.0       0.0       0.0          0.0   \n",
       "5      0.0      0.0      0.0  ...       0.0       0.0       0.0          0.0   \n",
       "7      0.0      0.0      0.0  ...       0.0       0.0       0.0          0.0   \n",
       "\n",
       "   DayOfWeek_2  DayOfWeek_3  DayOfWeek_4  DayOfWeek_5  DayOfWeek_6  \\\n",
       "0          0.0          1.0          0.0          0.0          0.0   \n",
       "2          0.0          1.0          0.0          0.0          0.0   \n",
       "4          0.0          1.0          0.0          0.0          0.0   \n",
       "5          0.0          1.0          0.0          0.0          0.0   \n",
       "7          0.0          1.0          0.0          0.0          0.0   \n",
       "\n",
       "   DayOfWeek_7  \n",
       "0          0.0  \n",
       "2          0.0  \n",
       "4          0.0  \n",
       "5          0.0  \n",
       "7          0.0  \n",
       "\n",
       "[5 rows x 23 columns]"
      ]
     },
     "execution_count": 69,
     "metadata": {},
     "output_type": "execute_result"
    }
   ],
   "source": [
    "q5classif_new = pd.merge(q5num, q5categorical, left_index=True, right_index=True, how='left')\n",
    "print('Shape of dataframe:',q5classif_new.shape)\n",
    "q5classif_new= q5classif_new.drop(columns=[\"Month\",\"DayOfWeek\"])\n",
    "q5classif_new.head()"
   ]
  },
  {
   "cell_type": "code",
   "execution_count": 70,
   "id": "e85f48f0",
   "metadata": {},
   "outputs": [],
   "source": [
    "#dropping delay status column to predict it"
   ]
  },
  {
   "cell_type": "code",
   "execution_count": 71,
   "id": "e40e85d3",
   "metadata": {},
   "outputs": [
    {
     "data": {
      "text/plain": [
       "(11564843, 22)"
      ]
     },
     "execution_count": 71,
     "metadata": {},
     "output_type": "execute_result"
    }
   ],
   "source": [
    "q5classiftest= q5classif_new.drop(columns=[\"DelayStatus\"])\n",
    "q5classiftest.shape"
   ]
  },
  {
   "cell_type": "code",
   "execution_count": 72,
   "id": "da45e480",
   "metadata": {},
   "outputs": [],
   "source": [
    "#predicting "
   ]
  },
  {
   "cell_type": "code",
   "execution_count": 73,
   "id": "ca09ec9e",
   "metadata": {},
   "outputs": [],
   "source": [
    "y=np.array(q5classif_new['DelayStatus'])"
   ]
  },
  {
   "cell_type": "code",
   "execution_count": 74,
   "id": "a48e5682",
   "metadata": {},
   "outputs": [],
   "source": [
    "#data preperation Train,Test,Split"
   ]
  },
  {
   "cell_type": "code",
   "execution_count": 75,
   "id": "3ca4c879",
   "metadata": {},
   "outputs": [],
   "source": [
    "X_train, X_test, y_train, y_test = train_test_split(q5classiftest, y, test_size=0.3, random_state=0)"
   ]
  },
  {
   "cell_type": "markdown",
   "id": "42e8685c",
   "metadata": {},
   "source": [
    "### Decision Tree"
   ]
  },
  {
   "cell_type": "code",
   "execution_count": 76,
   "id": "87e2e2a3",
   "metadata": {},
   "outputs": [
    {
     "data": {
      "text/plain": [
       "DecisionTreeClassifier(criterion='entropy', random_state=0)"
      ]
     },
     "execution_count": 76,
     "metadata": {},
     "output_type": "execute_result"
    }
   ],
   "source": [
    "decisiontreemodel= DecisionTreeClassifier(criterion='entropy', random_state=0)  \n",
    "decisiontreemodel.fit(X_train, y_train)  "
   ]
  },
  {
   "cell_type": "code",
   "execution_count": 77,
   "id": "f6011704",
   "metadata": {},
   "outputs": [],
   "source": [
    "y_preddt= decisiontreemodel.predict(X_test)  "
   ]
  },
  {
   "cell_type": "code",
   "execution_count": 78,
   "id": "f018ae32",
   "metadata": {},
   "outputs": [],
   "source": [
    "#test accuracy"
   ]
  },
  {
   "cell_type": "code",
   "execution_count": 79,
   "id": "9738a46a",
   "metadata": {},
   "outputs": [
    {
     "data": {
      "text/plain": [
       "array([[1391954,  443310],\n",
       "       [ 548628, 1085561]], dtype=int64)"
      ]
     },
     "execution_count": 79,
     "metadata": {},
     "output_type": "execute_result"
    }
   ],
   "source": [
    "cmdt= confusion_matrix(y_test, y_preddt)\n",
    "cmdt"
   ]
  },
  {
   "cell_type": "code",
   "execution_count": 80,
   "id": "98a8ff75",
   "metadata": {},
   "outputs": [
    {
     "name": "stdout",
     "output_type": "stream",
     "text": [
      "Accuracy: 71.41%\n"
     ]
    }
   ],
   "source": [
    "# Calculate accuracy\n",
    "accuracydt= (cmdt[0,0] + cmdt[1,1]) / sum(sum(cmdt))\n",
    "# Convert to percentage\n",
    "accuracy_percentdt = accuracydt * 100\n",
    "print(\"Accuracy: {:.2f}%\".format(accuracy_percentdt))"
   ]
  },
  {
   "cell_type": "code",
   "execution_count": 81,
   "id": "c256086f",
   "metadata": {},
   "outputs": [
    {
     "name": "stdout",
     "output_type": "stream",
     "text": [
      "F1 score:  0.6863992462994694\n"
     ]
    }
   ],
   "source": [
    "# Calculate F1 score\n",
    "from sklearn.metrics import f1_score\n",
    "threshold_value = 0.5\n",
    "y_preddt_binary = (y_preddt > threshold_value).astype(int)\n",
    "f1_scoredt = f1_score(y_test, y_preddt_binary)\n",
    "print(\"F1 score: \", f1_scoredt)"
   ]
  },
  {
   "cell_type": "markdown",
   "id": "c8355901",
   "metadata": {},
   "source": [
    "### Logistic Regression"
   ]
  },
  {
   "cell_type": "code",
   "execution_count": 82,
   "id": "d1d2ef80",
   "metadata": {},
   "outputs": [
    {
     "data": {
      "text/plain": [
       "LogisticRegression(random_state=16)"
      ]
     },
     "execution_count": 82,
     "metadata": {},
     "output_type": "execute_result"
    }
   ],
   "source": [
    "logisticregressionmodel = LogisticRegression(random_state=16)\n",
    "logisticregressionmodel.fit(X_train, y_train)"
   ]
  },
  {
   "cell_type": "code",
   "execution_count": 83,
   "id": "881d2a83",
   "metadata": {},
   "outputs": [],
   "source": [
    "y_predlr = logisticregressionmodel.predict(X_test)"
   ]
  },
  {
   "cell_type": "code",
   "execution_count": 84,
   "id": "1e97e261",
   "metadata": {},
   "outputs": [],
   "source": [
    "#test accuracy"
   ]
  },
  {
   "cell_type": "code",
   "execution_count": 85,
   "id": "812d3415",
   "metadata": {},
   "outputs": [
    {
     "data": {
      "text/plain": [
       "array([[1669312,  165952],\n",
       "       [ 601204, 1032985]], dtype=int64)"
      ]
     },
     "execution_count": 85,
     "metadata": {},
     "output_type": "execute_result"
    }
   ],
   "source": [
    "#create the confusion matrix\n",
    "cmlr = metrics.confusion_matrix(y_test, y_predlr)\n",
    "cmlr"
   ]
  },
  {
   "cell_type": "code",
   "execution_count": 86,
   "id": "1168fdd5",
   "metadata": {},
   "outputs": [
    {
     "name": "stdout",
     "output_type": "stream",
     "text": [
      "Accuracy: 77.89%\n"
     ]
    }
   ],
   "source": [
    "# Calculate accuracy\n",
    "accuracylr= (cmlr[0,0] + cmlr[1,1]) / sum(sum(cmlr))\n",
    "\n",
    "# Convert to percentage\n",
    "accuracy_percentlr = accuracylr * 100\n",
    "\n",
    "print(\"Accuracy: {:.2f}%\".format(accuracy_percentlr))"
   ]
  },
  {
   "cell_type": "code",
   "execution_count": 87,
   "id": "44cd7343",
   "metadata": {},
   "outputs": [
    {
     "name": "stdout",
     "output_type": "stream",
     "text": [
      "F1 score:  0.7292192440435054\n"
     ]
    }
   ],
   "source": [
    "# Calculate F1 score\n",
    "threshold_value = 0.5\n",
    "y_predlr_binary = (y_predlr > threshold_value).astype(int)\n",
    "f1_scorelr = f1_score(y_test, y_predlr_binary)\n",
    "print(\"F1 score: \", f1_scorelr)"
   ]
  },
  {
   "cell_type": "code",
   "execution_count": 88,
   "id": "389370a9",
   "metadata": {},
   "outputs": [
    {
     "name": "stderr",
     "output_type": "stream",
     "text": [
      "C:\\Users\\DELL\\anaconda3\\lib\\site-packages\\sklearn\\utils\\deprecation.py:87: FutureWarning: Function plot_roc_curve is deprecated; Function :func:`plot_roc_curve` is deprecated in 1.0 and will be removed in 1.2. Use one of the class methods: :meth:`sklearn.metric.RocCurveDisplay.from_predictions` or :meth:`sklearn.metric.RocCurveDisplay.from_estimator`.\n",
      "  warnings.warn(msg, category=FutureWarning)\n"
     ]
    },
    {
     "data": {
      "text/plain": [
       "<Figure size 576x432 with 0 Axes>"
      ]
     },
     "metadata": {},
     "output_type": "display_data"
    },
    {
     "data": {
      "image/png": "[encoded data removed]",
      "text/plain": [
       "<Figure size 432x288 with 1 Axes>"
      ]
     },
     "metadata": {
      "needs_background": "light"
     },
     "output_type": "display_data"
    }
   ],
   "source": [
    "# Get predicted probabilities for positive class\n",
    "y_proba_lr = logisticregressionmodel.predict_proba(X_test)[:, 1]\n",
    "\n",
    "# Calculate false positive rate, true positive rate, and thresholds\n",
    "fpr_lr, tpr_lr, thresholds_lr = roc_curve(y_test, y_proba_lr)\n",
    "\n",
    "# Plotting ROC curve\n",
    "plt.figure(figsize=(8, 6))\n",
    "plot_roc_curve(logisticregressionmodel, X_test, y_test)\n",
    "plt.title('ROC curve - Logistic Regression')\n",
    "plt.xlabel('False Positive Rate')\n",
    "plt.ylabel('True Positive Rate')\n",
    "plt.show()"
   ]
  },
  {
   "cell_type": "markdown",
   "id": "2cd45562",
   "metadata": {},
   "source": [
    "### Random Forest"
   ]
  },
  {
   "cell_type": "code",
   "execution_count": 89,
   "id": "2555435e",
   "metadata": {},
   "outputs": [
    {
     "data": {
      "text/plain": [
       "RandomForestClassifier()"
      ]
     },
     "execution_count": 89,
     "metadata": {},
     "output_type": "execute_result"
    }
   ],
   "source": [
    "randomforestmodel = RandomForestClassifier()\n",
    "randomforestmodel.fit(X_train, y_train)"
   ]
  },
  {
   "cell_type": "code",
   "execution_count": 90,
   "id": "0dd67dc9",
   "metadata": {},
   "outputs": [],
   "source": [
    "y_predrf = randomforestmodel.predict(X_test)"
   ]
  },
  {
   "cell_type": "code",
   "execution_count": 91,
   "id": "4621ec13",
   "metadata": {},
   "outputs": [],
   "source": [
    "#test accuracy"
   ]
  },
  {
   "cell_type": "code",
   "execution_count": 92,
   "id": "ef71d9bc",
   "metadata": {},
   "outputs": [
    {
     "data": {
      "text/plain": [
       "array([[1398290,  436974],\n",
       "       [ 516326, 1117863]], dtype=int64)"
      ]
     },
     "execution_count": 92,
     "metadata": {},
     "output_type": "execute_result"
    }
   ],
   "source": [
    "# Create the confusion matrix\n",
    "cmrf = confusion_matrix(y_test, y_predrf)\n",
    "cmrf"
   ]
  },
  {
   "cell_type": "code",
   "execution_count": 93,
   "id": "416baa31",
   "metadata": {},
   "outputs": [
    {
     "name": "stdout",
     "output_type": "stream",
     "text": [
      "Accuracy: 72.52%\n"
     ]
    }
   ],
   "source": [
    "# Calculate accuracy\n",
    "accuracyrf= (cmrf[0,0] + cmrf[1,1]) / sum(sum(cmrf))\n",
    "\n",
    "# Convert to percentage\n",
    "accuracy_percentrf = accuracyrf * 100\n",
    "\n",
    "print(\"Accuracy: {:.2f}%\".format(accuracy_percentrf))"
   ]
  },
  {
   "cell_type": "code",
   "execution_count": 94,
   "id": "087887d4",
   "metadata": {},
   "outputs": [
    {
     "name": "stdout",
     "output_type": "stream",
     "text": [
      "F1 score:  0.7010686021374551\n"
     ]
    }
   ],
   "source": [
    "# Calculate F1 score\n",
    "threshold_value = 0.5\n",
    "y_predrf_binary = (y_predrf > threshold_value).astype(int)\n",
    "f1_scorerf = f1_score(y_test, y_predrf_binary)\n",
    "print(\"F1 score: \", f1_scorerf)"
   ]
  },
  {
   "cell_type": "code",
   "execution_count": 95,
   "id": "05f42803",
   "metadata": {},
   "outputs": [
    {
     "name": "stdout",
     "output_type": "stream",
     "text": [
      "Decision Tree\n",
      "Accuracy: 71.41%\n",
      "F1 score:  0.6863992462994694\n",
      "Logistic Regression\n",
      "Accuracy: 77.89%\n",
      "F1 score:  0.7292192440435054\n",
      "Random Forest\n",
      "Accuracy: 72.52%\n",
      "F1 score:  0.7010686021374551\n"
     ]
    }
   ],
   "source": [
    "print(\"Decision Tree\")\n",
    "cmdt\n",
    "print(\"Accuracy: {:.2f}%\".format(accuracy_percentdt))\n",
    "print(\"F1 score: \", f1_scoredt)\n",
    "print(\"Logistic Regression\")\n",
    "cmlr\n",
    "print(\"Accuracy: {:.2f}%\".format(accuracy_percentlr))\n",
    "print(\"F1 score: \", f1_scorelr)\n",
    "print(\"Random Forest\")\n",
    "cmrf\n",
    "print(\"Accuracy: {:.2f}%\".format(accuracy_percentrf))\n",
    "print(\"F1 score: \", f1_scorerf)"
   ]
  },
  {
   "cell_type": "code",
   "execution_count": 96,
   "id": "2b30c349",
   "metadata": {},
   "outputs": [],
   "source": [
    "#for the below model,libraries and the cleaned data set have been uploaded again to include all question 5 in 1 jupyter notebook\n",
    "#since RAM is low which gives memory error if high performance device is used to run the code no need to run those line of code."
   ]
  },
  {
   "cell_type": "markdown",
   "id": "1b68da1d",
   "metadata": {},
   "source": [
    "## Linear Regression Model"
   ]
  },
  {
   "cell_type": "code",
   "execution_count": 1,
   "id": "ba29c318",
   "metadata": {},
   "outputs": [],
   "source": [
    "import numpy as np\n",
    "import pandas as pd\n",
    "import seaborn as sns\n",
    "import matplotlib.pyplot as plt\n",
    "from pandas.api.types import is_string_dtype, is_numeric_dtype\n",
    "from sklearn.model_selection  import train_test_split\n",
    "from sklearn.linear_model import LinearRegression\n",
    "from sklearn.preprocessing import MinMaxScaler\n",
    "import math\n",
    "from scipy import stats\n",
    "from sklearn.preprocessing import OneHotEncoder\n",
    "from sklearn.preprocessing import StandardScaler\n",
    "from sklearn import metrics"
   ]
  },
  {
   "cell_type": "code",
   "execution_count": 2,
   "id": "4b6d2b93",
   "metadata": {},
   "outputs": [],
   "source": [
    "#uploading cleaned data set"
   ]
  },
  {
   "cell_type": "code",
   "execution_count": 3,
   "id": "238510f4",
   "metadata": {},
   "outputs": [],
   "source": [
    "q5arrdataset=pd.read_csv(r\"C:\\Users\\DELL\\Desktop\\Coursework\\coursework data set\\question5cleaneddata.csv\")"
   ]
  },
  {
   "cell_type": "code",
   "execution_count": 4,
   "id": "96187c4c",
   "metadata": {},
   "outputs": [],
   "source": [
    "#dropping Delay Status Column "
   ]
  },
  {
   "cell_type": "code",
   "execution_count": 5,
   "id": "e7c6494f",
   "metadata": {},
   "outputs": [
    {
     "data": {
      "text/plain": [
       "(11564843, 6)"
      ]
     },
     "execution_count": 5,
     "metadata": {},
     "output_type": "execute_result"
    }
   ],
   "source": [
    "q5regression= q5arrdataset.drop(columns=[\"DelayStatus\"])\n",
    "q5regression.shape"
   ]
  },
  {
   "cell_type": "code",
   "execution_count": 6,
   "id": "211d8a86",
   "metadata": {},
   "outputs": [],
   "source": [
    "#standardising the variables except for categorical data"
   ]
  },
  {
   "cell_type": "code",
   "execution_count": 7,
   "id": "843bb64e",
   "metadata": {},
   "outputs": [
    {
     "data": {
      "text/html": [
       "<div>\n",
       "<style scoped>\n",
       "    .dataframe tbody tr th:only-of-type {\n",
       "        vertical-align: middle;\n",
       "    }\n",
       "\n",
       "    .dataframe tbody tr th {\n",
       "        vertical-align: top;\n",
       "    }\n",
       "\n",
       "    .dataframe thead th {\n",
       "        text-align: right;\n",
       "    }\n",
       "</style>\n",
       "<table border=\"1\" class=\"dataframe\">\n",
       "  <thead>\n",
       "    <tr style=\"text-align: right;\">\n",
       "      <th></th>\n",
       "      <th>Month</th>\n",
       "      <th>DayOfWeek</th>\n",
       "      <th>DepDelay</th>\n",
       "      <th>ArrDelay</th>\n",
       "      <th>Distance</th>\n",
       "      <th>PlaneAge</th>\n",
       "    </tr>\n",
       "  </thead>\n",
       "  <tbody>\n",
       "    <tr>\n",
       "      <th>0</th>\n",
       "      <td>1</td>\n",
       "      <td>3</td>\n",
       "      <td>-2.0</td>\n",
       "      <td>6.0</td>\n",
       "      <td>1587</td>\n",
       "      <td>7.0</td>\n",
       "    </tr>\n",
       "    <tr>\n",
       "      <th>1</th>\n",
       "      <td>1</td>\n",
       "      <td>3</td>\n",
       "      <td>0.0</td>\n",
       "      <td>-23.0</td>\n",
       "      <td>1587</td>\n",
       "      <td>9.0</td>\n",
       "    </tr>\n",
       "    <tr>\n",
       "      <th>2</th>\n",
       "      <td>1</td>\n",
       "      <td>3</td>\n",
       "      <td>-8.0</td>\n",
       "      <td>0.0</td>\n",
       "      <td>872</td>\n",
       "      <td>16.0</td>\n",
       "    </tr>\n",
       "    <tr>\n",
       "      <th>3</th>\n",
       "      <td>1</td>\n",
       "      <td>3</td>\n",
       "      <td>-3.0</td>\n",
       "      <td>2.0</td>\n",
       "      <td>644</td>\n",
       "      <td>6.0</td>\n",
       "    </tr>\n",
       "    <tr>\n",
       "      <th>4</th>\n",
       "      <td>1</td>\n",
       "      <td>3</td>\n",
       "      <td>-3.0</td>\n",
       "      <td>7.0</td>\n",
       "      <td>644</td>\n",
       "      <td>17.0</td>\n",
       "    </tr>\n",
       "  </tbody>\n",
       "</table>\n",
       "</div>"
      ],
      "text/plain": [
       "   Month  DayOfWeek  DepDelay  ArrDelay  Distance  PlaneAge\n",
       "0      1          3      -2.0       6.0      1587       7.0\n",
       "1      1          3       0.0     -23.0      1587       9.0\n",
       "2      1          3      -8.0       0.0       872      16.0\n",
       "3      1          3      -3.0       2.0       644       6.0\n",
       "4      1          3      -3.0       7.0       644      17.0"
      ]
     },
     "execution_count": 7,
     "metadata": {},
     "output_type": "execute_result"
    }
   ],
   "source": [
    "q5numreg = q5regression.copy()\n",
    "num_cols = ['DepDelay', 'Distance', 'PlaneAge','ArrDelay']\n",
    "q5numreg.head()"
   ]
  },
  {
   "cell_type": "code",
   "execution_count": 8,
   "id": "74e0d637",
   "metadata": {},
   "outputs": [
    {
     "name": "stderr",
     "output_type": "stream",
     "text": [
      "C:\\Users\\DELL\\anaconda3\\lib\\site-packages\\sklearn\\utils\\deprecation.py:87: FutureWarning: Function get_feature_names is deprecated; get_feature_names is deprecated in 1.0 and will be removed in 1.2. Please use get_feature_names_out instead.\n",
      "  warnings.warn(msg, category=FutureWarning)\n"
     ]
    },
    {
     "data": {
      "text/html": [
       "<div>\n",
       "<style scoped>\n",
       "    .dataframe tbody tr th:only-of-type {\n",
       "        vertical-align: middle;\n",
       "    }\n",
       "\n",
       "    .dataframe tbody tr th {\n",
       "        vertical-align: top;\n",
       "    }\n",
       "\n",
       "    .dataframe thead th {\n",
       "        text-align: right;\n",
       "    }\n",
       "</style>\n",
       "<table border=\"1\" class=\"dataframe\">\n",
       "  <thead>\n",
       "    <tr style=\"text-align: right;\">\n",
       "      <th></th>\n",
       "      <th>Month_1</th>\n",
       "      <th>Month_2</th>\n",
       "      <th>Month_3</th>\n",
       "      <th>Month_4</th>\n",
       "      <th>Month_5</th>\n",
       "      <th>Month_6</th>\n",
       "      <th>Month_7</th>\n",
       "      <th>Month_8</th>\n",
       "      <th>Month_9</th>\n",
       "      <th>Month_10</th>\n",
       "      <th>Month_11</th>\n",
       "      <th>Month_12</th>\n",
       "      <th>DayOfWeek_1</th>\n",
       "      <th>DayOfWeek_2</th>\n",
       "      <th>DayOfWeek_3</th>\n",
       "      <th>DayOfWeek_4</th>\n",
       "      <th>DayOfWeek_5</th>\n",
       "      <th>DayOfWeek_6</th>\n",
       "      <th>DayOfWeek_7</th>\n",
       "    </tr>\n",
       "  </thead>\n",
       "  <tbody>\n",
       "    <tr>\n",
       "      <th>0</th>\n",
       "      <td>1.0</td>\n",
       "      <td>0.0</td>\n",
       "      <td>0.0</td>\n",
       "      <td>0.0</td>\n",
       "      <td>0.0</td>\n",
       "      <td>0.0</td>\n",
       "      <td>0.0</td>\n",
       "      <td>0.0</td>\n",
       "      <td>0.0</td>\n",
       "      <td>0.0</td>\n",
       "      <td>0.0</td>\n",
       "      <td>0.0</td>\n",
       "      <td>0.0</td>\n",
       "      <td>0.0</td>\n",
       "      <td>1.0</td>\n",
       "      <td>0.0</td>\n",
       "      <td>0.0</td>\n",
       "      <td>0.0</td>\n",
       "      <td>0.0</td>\n",
       "    </tr>\n",
       "    <tr>\n",
       "      <th>1</th>\n",
       "      <td>1.0</td>\n",
       "      <td>0.0</td>\n",
       "      <td>0.0</td>\n",
       "      <td>0.0</td>\n",
       "      <td>0.0</td>\n",
       "      <td>0.0</td>\n",
       "      <td>0.0</td>\n",
       "      <td>0.0</td>\n",
       "      <td>0.0</td>\n",
       "      <td>0.0</td>\n",
       "      <td>0.0</td>\n",
       "      <td>0.0</td>\n",
       "      <td>0.0</td>\n",
       "      <td>0.0</td>\n",
       "      <td>1.0</td>\n",
       "      <td>0.0</td>\n",
       "      <td>0.0</td>\n",
       "      <td>0.0</td>\n",
       "      <td>0.0</td>\n",
       "    </tr>\n",
       "    <tr>\n",
       "      <th>2</th>\n",
       "      <td>1.0</td>\n",
       "      <td>0.0</td>\n",
       "      <td>0.0</td>\n",
       "      <td>0.0</td>\n",
       "      <td>0.0</td>\n",
       "      <td>0.0</td>\n",
       "      <td>0.0</td>\n",
       "      <td>0.0</td>\n",
       "      <td>0.0</td>\n",
       "      <td>0.0</td>\n",
       "      <td>0.0</td>\n",
       "      <td>0.0</td>\n",
       "      <td>0.0</td>\n",
       "      <td>0.0</td>\n",
       "      <td>1.0</td>\n",
       "      <td>0.0</td>\n",
       "      <td>0.0</td>\n",
       "      <td>0.0</td>\n",
       "      <td>0.0</td>\n",
       "    </tr>\n",
       "    <tr>\n",
       "      <th>3</th>\n",
       "      <td>1.0</td>\n",
       "      <td>0.0</td>\n",
       "      <td>0.0</td>\n",
       "      <td>0.0</td>\n",
       "      <td>0.0</td>\n",
       "      <td>0.0</td>\n",
       "      <td>0.0</td>\n",
       "      <td>0.0</td>\n",
       "      <td>0.0</td>\n",
       "      <td>0.0</td>\n",
       "      <td>0.0</td>\n",
       "      <td>0.0</td>\n",
       "      <td>0.0</td>\n",
       "      <td>0.0</td>\n",
       "      <td>1.0</td>\n",
       "      <td>0.0</td>\n",
       "      <td>0.0</td>\n",
       "      <td>0.0</td>\n",
       "      <td>0.0</td>\n",
       "    </tr>\n",
       "    <tr>\n",
       "      <th>4</th>\n",
       "      <td>1.0</td>\n",
       "      <td>0.0</td>\n",
       "      <td>0.0</td>\n",
       "      <td>0.0</td>\n",
       "      <td>0.0</td>\n",
       "      <td>0.0</td>\n",
       "      <td>0.0</td>\n",
       "      <td>0.0</td>\n",
       "      <td>0.0</td>\n",
       "      <td>0.0</td>\n",
       "      <td>0.0</td>\n",
       "      <td>0.0</td>\n",
       "      <td>0.0</td>\n",
       "      <td>0.0</td>\n",
       "      <td>1.0</td>\n",
       "      <td>0.0</td>\n",
       "      <td>0.0</td>\n",
       "      <td>0.0</td>\n",
       "      <td>0.0</td>\n",
       "    </tr>\n",
       "  </tbody>\n",
       "</table>\n",
       "</div>"
      ],
      "text/plain": [
       "   Month_1  Month_2  Month_3  Month_4  Month_5  Month_6  Month_7  Month_8  \\\n",
       "0      1.0      0.0      0.0      0.0      0.0      0.0      0.0      0.0   \n",
       "1      1.0      0.0      0.0      0.0      0.0      0.0      0.0      0.0   \n",
       "2      1.0      0.0      0.0      0.0      0.0      0.0      0.0      0.0   \n",
       "3      1.0      0.0      0.0      0.0      0.0      0.0      0.0      0.0   \n",
       "4      1.0      0.0      0.0      0.0      0.0      0.0      0.0      0.0   \n",
       "\n",
       "   Month_9  Month_10  Month_11  Month_12  DayOfWeek_1  DayOfWeek_2  \\\n",
       "0      0.0       0.0       0.0       0.0          0.0          0.0   \n",
       "1      0.0       0.0       0.0       0.0          0.0          0.0   \n",
       "2      0.0       0.0       0.0       0.0          0.0          0.0   \n",
       "3      0.0       0.0       0.0       0.0          0.0          0.0   \n",
       "4      0.0       0.0       0.0       0.0          0.0          0.0   \n",
       "\n",
       "   DayOfWeek_3  DayOfWeek_4  DayOfWeek_5  DayOfWeek_6  DayOfWeek_7  \n",
       "0          1.0          0.0          0.0          0.0          0.0  \n",
       "1          1.0          0.0          0.0          0.0          0.0  \n",
       "2          1.0          0.0          0.0          0.0          0.0  \n",
       "3          1.0          0.0          0.0          0.0          0.0  \n",
       "4          1.0          0.0          0.0          0.0          0.0  "
      ]
     },
     "execution_count": 8,
     "metadata": {},
     "output_type": "execute_result"
    }
   ],
   "source": [
    "# Convert categorical variables to indicator variables and encode using OneHotEncoder\n",
    "encoder = OneHotEncoder(sparse=False)\n",
    "cat_cols = ['Month', 'DayOfWeek']\n",
    "q5categoricalreg = q5regression[cat_cols]\n",
    "q5categoricalreg = pd.DataFrame(encoder.fit_transform(q5categoricalreg), columns=encoder.get_feature_names(cat_cols), index=q5numreg.index)\n",
    "q5categoricalreg.head()"
   ]
  },
  {
   "cell_type": "code",
   "execution_count": 9,
   "id": "6d3e5aa8",
   "metadata": {},
   "outputs": [
    {
     "name": "stdout",
     "output_type": "stream",
     "text": [
      "Shape of dataframe: (11564843, 23)\n"
     ]
    },
    {
     "data": {
      "text/html": [
       "<div>\n",
       "<style scoped>\n",
       "    .dataframe tbody tr th:only-of-type {\n",
       "        vertical-align: middle;\n",
       "    }\n",
       "\n",
       "    .dataframe tbody tr th {\n",
       "        vertical-align: top;\n",
       "    }\n",
       "\n",
       "    .dataframe thead th {\n",
       "        text-align: right;\n",
       "    }\n",
       "</style>\n",
       "<table border=\"1\" class=\"dataframe\">\n",
       "  <thead>\n",
       "    <tr style=\"text-align: right;\">\n",
       "      <th></th>\n",
       "      <th>DepDelay</th>\n",
       "      <th>ArrDelay</th>\n",
       "      <th>Distance</th>\n",
       "      <th>PlaneAge</th>\n",
       "      <th>Month_1</th>\n",
       "      <th>Month_2</th>\n",
       "      <th>Month_3</th>\n",
       "      <th>Month_4</th>\n",
       "      <th>Month_5</th>\n",
       "      <th>Month_6</th>\n",
       "      <th>...</th>\n",
       "      <th>Month_10</th>\n",
       "      <th>Month_11</th>\n",
       "      <th>Month_12</th>\n",
       "      <th>DayOfWeek_1</th>\n",
       "      <th>DayOfWeek_2</th>\n",
       "      <th>DayOfWeek_3</th>\n",
       "      <th>DayOfWeek_4</th>\n",
       "      <th>DayOfWeek_5</th>\n",
       "      <th>DayOfWeek_6</th>\n",
       "      <th>DayOfWeek_7</th>\n",
       "    </tr>\n",
       "  </thead>\n",
       "  <tbody>\n",
       "    <tr>\n",
       "      <th>0</th>\n",
       "      <td>-2.0</td>\n",
       "      <td>6.0</td>\n",
       "      <td>1587</td>\n",
       "      <td>7.0</td>\n",
       "      <td>1.0</td>\n",
       "      <td>0.0</td>\n",
       "      <td>0.0</td>\n",
       "      <td>0.0</td>\n",
       "      <td>0.0</td>\n",
       "      <td>0.0</td>\n",
       "      <td>...</td>\n",
       "      <td>0.0</td>\n",
       "      <td>0.0</td>\n",
       "      <td>0.0</td>\n",
       "      <td>0.0</td>\n",
       "      <td>0.0</td>\n",
       "      <td>1.0</td>\n",
       "      <td>0.0</td>\n",
       "      <td>0.0</td>\n",
       "      <td>0.0</td>\n",
       "      <td>0.0</td>\n",
       "    </tr>\n",
       "    <tr>\n",
       "      <th>1</th>\n",
       "      <td>0.0</td>\n",
       "      <td>-23.0</td>\n",
       "      <td>1587</td>\n",
       "      <td>9.0</td>\n",
       "      <td>1.0</td>\n",
       "      <td>0.0</td>\n",
       "      <td>0.0</td>\n",
       "      <td>0.0</td>\n",
       "      <td>0.0</td>\n",
       "      <td>0.0</td>\n",
       "      <td>...</td>\n",
       "      <td>0.0</td>\n",
       "      <td>0.0</td>\n",
       "      <td>0.0</td>\n",
       "      <td>0.0</td>\n",
       "      <td>0.0</td>\n",
       "      <td>1.0</td>\n",
       "      <td>0.0</td>\n",
       "      <td>0.0</td>\n",
       "      <td>0.0</td>\n",
       "      <td>0.0</td>\n",
       "    </tr>\n",
       "    <tr>\n",
       "      <th>2</th>\n",
       "      <td>-8.0</td>\n",
       "      <td>0.0</td>\n",
       "      <td>872</td>\n",
       "      <td>16.0</td>\n",
       "      <td>1.0</td>\n",
       "      <td>0.0</td>\n",
       "      <td>0.0</td>\n",
       "      <td>0.0</td>\n",
       "      <td>0.0</td>\n",
       "      <td>0.0</td>\n",
       "      <td>...</td>\n",
       "      <td>0.0</td>\n",
       "      <td>0.0</td>\n",
       "      <td>0.0</td>\n",
       "      <td>0.0</td>\n",
       "      <td>0.0</td>\n",
       "      <td>1.0</td>\n",
       "      <td>0.0</td>\n",
       "      <td>0.0</td>\n",
       "      <td>0.0</td>\n",
       "      <td>0.0</td>\n",
       "    </tr>\n",
       "    <tr>\n",
       "      <th>3</th>\n",
       "      <td>-3.0</td>\n",
       "      <td>2.0</td>\n",
       "      <td>644</td>\n",
       "      <td>6.0</td>\n",
       "      <td>1.0</td>\n",
       "      <td>0.0</td>\n",
       "      <td>0.0</td>\n",
       "      <td>0.0</td>\n",
       "      <td>0.0</td>\n",
       "      <td>0.0</td>\n",
       "      <td>...</td>\n",
       "      <td>0.0</td>\n",
       "      <td>0.0</td>\n",
       "      <td>0.0</td>\n",
       "      <td>0.0</td>\n",
       "      <td>0.0</td>\n",
       "      <td>1.0</td>\n",
       "      <td>0.0</td>\n",
       "      <td>0.0</td>\n",
       "      <td>0.0</td>\n",
       "      <td>0.0</td>\n",
       "    </tr>\n",
       "    <tr>\n",
       "      <th>4</th>\n",
       "      <td>-3.0</td>\n",
       "      <td>7.0</td>\n",
       "      <td>644</td>\n",
       "      <td>17.0</td>\n",
       "      <td>1.0</td>\n",
       "      <td>0.0</td>\n",
       "      <td>0.0</td>\n",
       "      <td>0.0</td>\n",
       "      <td>0.0</td>\n",
       "      <td>0.0</td>\n",
       "      <td>...</td>\n",
       "      <td>0.0</td>\n",
       "      <td>0.0</td>\n",
       "      <td>0.0</td>\n",
       "      <td>0.0</td>\n",
       "      <td>0.0</td>\n",
       "      <td>1.0</td>\n",
       "      <td>0.0</td>\n",
       "      <td>0.0</td>\n",
       "      <td>0.0</td>\n",
       "      <td>0.0</td>\n",
       "    </tr>\n",
       "  </tbody>\n",
       "</table>\n",
       "<p>5 rows × 23 columns</p>\n",
       "</div>"
      ],
      "text/plain": [
       "   DepDelay  ArrDelay  Distance  PlaneAge  Month_1  Month_2  Month_3  Month_4  \\\n",
       "0      -2.0       6.0      1587       7.0      1.0      0.0      0.0      0.0   \n",
       "1       0.0     -23.0      1587       9.0      1.0      0.0      0.0      0.0   \n",
       "2      -8.0       0.0       872      16.0      1.0      0.0      0.0      0.0   \n",
       "3      -3.0       2.0       644       6.0      1.0      0.0      0.0      0.0   \n",
       "4      -3.0       7.0       644      17.0      1.0      0.0      0.0      0.0   \n",
       "\n",
       "   Month_5  Month_6  ...  Month_10  Month_11  Month_12  DayOfWeek_1  \\\n",
       "0      0.0      0.0  ...       0.0       0.0       0.0          0.0   \n",
       "1      0.0      0.0  ...       0.0       0.0       0.0          0.0   \n",
       "2      0.0      0.0  ...       0.0       0.0       0.0          0.0   \n",
       "3      0.0      0.0  ...       0.0       0.0       0.0          0.0   \n",
       "4      0.0      0.0  ...       0.0       0.0       0.0          0.0   \n",
       "\n",
       "   DayOfWeek_2  DayOfWeek_3  DayOfWeek_4  DayOfWeek_5  DayOfWeek_6  \\\n",
       "0          0.0          1.0          0.0          0.0          0.0   \n",
       "1          0.0          1.0          0.0          0.0          0.0   \n",
       "2          0.0          1.0          0.0          0.0          0.0   \n",
       "3          0.0          1.0          0.0          0.0          0.0   \n",
       "4          0.0          1.0          0.0          0.0          0.0   \n",
       "\n",
       "   DayOfWeek_7  \n",
       "0          0.0  \n",
       "1          0.0  \n",
       "2          0.0  \n",
       "3          0.0  \n",
       "4          0.0  \n",
       "\n",
       "[5 rows x 23 columns]"
      ]
     },
     "execution_count": 9,
     "metadata": {},
     "output_type": "execute_result"
    }
   ],
   "source": [
    "q5regression_new = pd.merge(q5numreg, q5categoricalreg, left_index=True, right_index=True, how='left')\n",
    "q5regression_new= q5regression_new.drop(columns=[\"Month\",\"DayOfWeek\"])\n",
    "print('Shape of dataframe:',q5regression_new.shape)\n",
    "q5regression_new.head()"
   ]
  },
  {
   "cell_type": "code",
   "execution_count": 10,
   "id": "0161e30f",
   "metadata": {},
   "outputs": [],
   "source": [
    "#dropping Arrival Delay column to predict it"
   ]
  },
  {
   "cell_type": "code",
   "execution_count": 11,
   "id": "11f0c195",
   "metadata": {},
   "outputs": [
    {
     "data": {
      "text/html": [
       "<div>\n",
       "<style scoped>\n",
       "    .dataframe tbody tr th:only-of-type {\n",
       "        vertical-align: middle;\n",
       "    }\n",
       "\n",
       "    .dataframe tbody tr th {\n",
       "        vertical-align: top;\n",
       "    }\n",
       "\n",
       "    .dataframe thead th {\n",
       "        text-align: right;\n",
       "    }\n",
       "</style>\n",
       "<table border=\"1\" class=\"dataframe\">\n",
       "  <thead>\n",
       "    <tr style=\"text-align: right;\">\n",
       "      <th></th>\n",
       "      <th>DepDelay</th>\n",
       "      <th>Distance</th>\n",
       "      <th>PlaneAge</th>\n",
       "      <th>Month_1</th>\n",
       "      <th>Month_2</th>\n",
       "      <th>Month_3</th>\n",
       "      <th>Month_4</th>\n",
       "      <th>Month_5</th>\n",
       "      <th>Month_6</th>\n",
       "      <th>Month_7</th>\n",
       "      <th>...</th>\n",
       "      <th>Month_10</th>\n",
       "      <th>Month_11</th>\n",
       "      <th>Month_12</th>\n",
       "      <th>DayOfWeek_1</th>\n",
       "      <th>DayOfWeek_2</th>\n",
       "      <th>DayOfWeek_3</th>\n",
       "      <th>DayOfWeek_4</th>\n",
       "      <th>DayOfWeek_5</th>\n",
       "      <th>DayOfWeek_6</th>\n",
       "      <th>DayOfWeek_7</th>\n",
       "    </tr>\n",
       "  </thead>\n",
       "  <tbody>\n",
       "    <tr>\n",
       "      <th>0</th>\n",
       "      <td>-2.0</td>\n",
       "      <td>1587</td>\n",
       "      <td>7.0</td>\n",
       "      <td>1.0</td>\n",
       "      <td>0.0</td>\n",
       "      <td>0.0</td>\n",
       "      <td>0.0</td>\n",
       "      <td>0.0</td>\n",
       "      <td>0.0</td>\n",
       "      <td>0.0</td>\n",
       "      <td>...</td>\n",
       "      <td>0.0</td>\n",
       "      <td>0.0</td>\n",
       "      <td>0.0</td>\n",
       "      <td>0.0</td>\n",
       "      <td>0.0</td>\n",
       "      <td>1.0</td>\n",
       "      <td>0.0</td>\n",
       "      <td>0.0</td>\n",
       "      <td>0.0</td>\n",
       "      <td>0.0</td>\n",
       "    </tr>\n",
       "    <tr>\n",
       "      <th>1</th>\n",
       "      <td>0.0</td>\n",
       "      <td>1587</td>\n",
       "      <td>9.0</td>\n",
       "      <td>1.0</td>\n",
       "      <td>0.0</td>\n",
       "      <td>0.0</td>\n",
       "      <td>0.0</td>\n",
       "      <td>0.0</td>\n",
       "      <td>0.0</td>\n",
       "      <td>0.0</td>\n",
       "      <td>...</td>\n",
       "      <td>0.0</td>\n",
       "      <td>0.0</td>\n",
       "      <td>0.0</td>\n",
       "      <td>0.0</td>\n",
       "      <td>0.0</td>\n",
       "      <td>1.0</td>\n",
       "      <td>0.0</td>\n",
       "      <td>0.0</td>\n",
       "      <td>0.0</td>\n",
       "      <td>0.0</td>\n",
       "    </tr>\n",
       "    <tr>\n",
       "      <th>2</th>\n",
       "      <td>-8.0</td>\n",
       "      <td>872</td>\n",
       "      <td>16.0</td>\n",
       "      <td>1.0</td>\n",
       "      <td>0.0</td>\n",
       "      <td>0.0</td>\n",
       "      <td>0.0</td>\n",
       "      <td>0.0</td>\n",
       "      <td>0.0</td>\n",
       "      <td>0.0</td>\n",
       "      <td>...</td>\n",
       "      <td>0.0</td>\n",
       "      <td>0.0</td>\n",
       "      <td>0.0</td>\n",
       "      <td>0.0</td>\n",
       "      <td>0.0</td>\n",
       "      <td>1.0</td>\n",
       "      <td>0.0</td>\n",
       "      <td>0.0</td>\n",
       "      <td>0.0</td>\n",
       "      <td>0.0</td>\n",
       "    </tr>\n",
       "    <tr>\n",
       "      <th>3</th>\n",
       "      <td>-3.0</td>\n",
       "      <td>644</td>\n",
       "      <td>6.0</td>\n",
       "      <td>1.0</td>\n",
       "      <td>0.0</td>\n",
       "      <td>0.0</td>\n",
       "      <td>0.0</td>\n",
       "      <td>0.0</td>\n",
       "      <td>0.0</td>\n",
       "      <td>0.0</td>\n",
       "      <td>...</td>\n",
       "      <td>0.0</td>\n",
       "      <td>0.0</td>\n",
       "      <td>0.0</td>\n",
       "      <td>0.0</td>\n",
       "      <td>0.0</td>\n",
       "      <td>1.0</td>\n",
       "      <td>0.0</td>\n",
       "      <td>0.0</td>\n",
       "      <td>0.0</td>\n",
       "      <td>0.0</td>\n",
       "    </tr>\n",
       "    <tr>\n",
       "      <th>4</th>\n",
       "      <td>-3.0</td>\n",
       "      <td>644</td>\n",
       "      <td>17.0</td>\n",
       "      <td>1.0</td>\n",
       "      <td>0.0</td>\n",
       "      <td>0.0</td>\n",
       "      <td>0.0</td>\n",
       "      <td>0.0</td>\n",
       "      <td>0.0</td>\n",
       "      <td>0.0</td>\n",
       "      <td>...</td>\n",
       "      <td>0.0</td>\n",
       "      <td>0.0</td>\n",
       "      <td>0.0</td>\n",
       "      <td>0.0</td>\n",
       "      <td>0.0</td>\n",
       "      <td>1.0</td>\n",
       "      <td>0.0</td>\n",
       "      <td>0.0</td>\n",
       "      <td>0.0</td>\n",
       "      <td>0.0</td>\n",
       "    </tr>\n",
       "  </tbody>\n",
       "</table>\n",
       "<p>5 rows × 22 columns</p>\n",
       "</div>"
      ],
      "text/plain": [
       "   DepDelay  Distance  PlaneAge  Month_1  Month_2  Month_3  Month_4  Month_5  \\\n",
       "0      -2.0      1587       7.0      1.0      0.0      0.0      0.0      0.0   \n",
       "1       0.0      1587       9.0      1.0      0.0      0.0      0.0      0.0   \n",
       "2      -8.0       872      16.0      1.0      0.0      0.0      0.0      0.0   \n",
       "3      -3.0       644       6.0      1.0      0.0      0.0      0.0      0.0   \n",
       "4      -3.0       644      17.0      1.0      0.0      0.0      0.0      0.0   \n",
       "\n",
       "   Month_6  Month_7  ...  Month_10  Month_11  Month_12  DayOfWeek_1  \\\n",
       "0      0.0      0.0  ...       0.0       0.0       0.0          0.0   \n",
       "1      0.0      0.0  ...       0.0       0.0       0.0          0.0   \n",
       "2      0.0      0.0  ...       0.0       0.0       0.0          0.0   \n",
       "3      0.0      0.0  ...       0.0       0.0       0.0          0.0   \n",
       "4      0.0      0.0  ...       0.0       0.0       0.0          0.0   \n",
       "\n",
       "   DayOfWeek_2  DayOfWeek_3  DayOfWeek_4  DayOfWeek_5  DayOfWeek_6  \\\n",
       "0          0.0          1.0          0.0          0.0          0.0   \n",
       "1          0.0          1.0          0.0          0.0          0.0   \n",
       "2          0.0          1.0          0.0          0.0          0.0   \n",
       "3          0.0          1.0          0.0          0.0          0.0   \n",
       "4          0.0          1.0          0.0          0.0          0.0   \n",
       "\n",
       "   DayOfWeek_7  \n",
       "0          0.0  \n",
       "1          0.0  \n",
       "2          0.0  \n",
       "3          0.0  \n",
       "4          0.0  \n",
       "\n",
       "[5 rows x 22 columns]"
      ]
     },
     "execution_count": 11,
     "metadata": {},
     "output_type": "execute_result"
    }
   ],
   "source": [
    "q5regressiontest= q5regression_new.drop(columns=[\"ArrDelay\"])\n",
    "q5regressiontest.shape\n",
    "q5regressiontest.head()"
   ]
  },
  {
   "cell_type": "code",
   "execution_count": 12,
   "id": "4f0e72a4",
   "metadata": {},
   "outputs": [],
   "source": [
    "#predicting "
   ]
  },
  {
   "cell_type": "code",
   "execution_count": 13,
   "id": "512a82be",
   "metadata": {},
   "outputs": [],
   "source": [
    "y=np.array(q5regression_new['ArrDelay'])"
   ]
  },
  {
   "cell_type": "code",
   "execution_count": 14,
   "id": "6b7d1f9b",
   "metadata": {},
   "outputs": [],
   "source": [
    "#data preperation Train,Test,Split"
   ]
  },
  {
   "cell_type": "code",
   "execution_count": 15,
   "id": "d4b73a08",
   "metadata": {},
   "outputs": [],
   "source": [
    "X_train, X_test, y_train, y_test = train_test_split(q5regressiontest, y, test_size=0.3, random_state=0)"
   ]
  },
  {
   "cell_type": "code",
   "execution_count": 16,
   "id": "899c5706",
   "metadata": {},
   "outputs": [],
   "source": [
    "regressionmodel = LinearRegression(n_jobs=-1)"
   ]
  },
  {
   "cell_type": "code",
   "execution_count": 17,
   "id": "2e3095e0",
   "metadata": {},
   "outputs": [],
   "source": [
    "model=regressionmodel.fit(X_train, y_train)"
   ]
  },
  {
   "cell_type": "code",
   "execution_count": 18,
   "id": "72da8f09",
   "metadata": {},
   "outputs": [
    {
     "data": {
      "text/plain": [
       "0.8563129453848972"
      ]
     },
     "execution_count": 18,
     "metadata": {},
     "output_type": "execute_result"
    }
   ],
   "source": [
    "r_sq = model.score(X_train, y_train)\n",
    "r_sq"
   ]
  },
  {
   "cell_type": "code",
   "execution_count": 19,
   "id": "40d2ce93",
   "metadata": {},
   "outputs": [
    {
     "data": {
      "text/plain": [
       "0.8539055391061231"
      ]
     },
     "execution_count": 19,
     "metadata": {},
     "output_type": "execute_result"
    }
   ],
   "source": [
    "model.score(X_test,y_test)"
   ]
  },
  {
   "cell_type": "code",
   "execution_count": 20,
   "id": "70b75d1f",
   "metadata": {},
   "outputs": [
    {
     "data": {
      "text/plain": [
       "Text(0.5, 1.0, 'Actual Values vs Predicted Values')"
      ]
     },
     "execution_count": 20,
     "metadata": {},
     "output_type": "execute_result"
    },
    {
     "data": {
      "image/png": "[encoded data removed]",
      "text/plain": [
       "<Figure size 432x288 with 1 Axes>"
      ]
     },
     "metadata": {
      "needs_background": "light"
     },
     "output_type": "display_data"
    }
   ],
   "source": [
    "predictions=model.predict(X_test)\n",
    "plt.scatter(y_test,predictions)\n",
    "x = plt.xlabel('Actual Values')\n",
    "y = plt.ylabel('Predicted Values')\n",
    "plt.title('Actual Values vs Predicted Values')"
   ]
  },
  {
   "cell_type": "code",
   "execution_count": 21,
   "id": "9b3d1793",
   "metadata": {},
   "outputs": [],
   "source": [
    "#residual error diagnosis"
   ]
  },
  {
   "cell_type": "code",
   "execution_count": 22,
   "id": "6ad7d035",
   "metadata": {},
   "outputs": [],
   "source": [
    "residuals=y_test-predictions"
   ]
  },
  {
   "cell_type": "code",
   "execution_count": 23,
   "id": "97d6055f",
   "metadata": {},
   "outputs": [
    {
     "data": {
      "image/png": "[encoded data removed]",
      "text/plain": [
       "<Figure size 432x288 with 1 Axes>"
      ]
     },
     "metadata": {
      "needs_background": "light"
     },
     "output_type": "display_data"
    }
   ],
   "source": [
    "plt.hist(residuals, bins=range(-250, 260, 2), alpha=0.9, rwidth=0.85)\n",
    "plt.xlim([-250, 250])\n",
    "plt.title('Residual Plot')\n",
    "plt.xlabel('Residuals')\n",
    "plt.ylabel('Frequency')\n",
    "plt.show()"
   ]
  },
  {
   "cell_type": "code",
   "execution_count": 24,
   "id": "139ce431",
   "metadata": {},
   "outputs": [
    {
     "name": "stdout",
     "output_type": "stream",
     "text": [
      "intercept:-0.9737296792308321\n"
     ]
    }
   ],
   "source": [
    "print(f\"intercept:{model.intercept_}\")"
   ]
  },
  {
   "cell_type": "code",
   "execution_count": 25,
   "id": "f3e6bf62",
   "metadata": {},
   "outputs": [
    {
     "name": "stdout",
     "output_type": "stream",
     "text": [
      "coefficients:[ 1.01032082e+00 -1.08273875e-03  5.74597211e-02 -9.33681957e-02\n",
      "  2.00140260e-01 -4.94393603e-01 -4.07770540e-01 -2.76554535e-01\n",
      "  7.29605521e-01  2.14745120e-01  8.92018471e-02 -9.50420713e-02\n",
      "  6.21150059e-01 -9.29714363e-01  4.42000502e-01 -1.08575993e-01\n",
      "  5.33732748e-02  5.59633705e-01  1.15787974e+00  6.71101257e-01\n",
      " -1.79862676e+00 -5.34785228e-01]\n"
     ]
    }
   ],
   "source": [
    "print(f\"coefficients:{model.coef_}\")"
   ]
  }
 ],
 "metadata": {
  "kernelspec": {
   "display_name": "Python 3 (ipykernel)",
   "language": "python",
   "name": "python3"
  },
  "language_info": {
   "codemirror_mode": {
    "name": "ipython",
    "version": 3
   },
   "file_extension": ".py",
   "mimetype": "text/x-python",
   "name": "python",
   "nbconvert_exporter": "python",
   "pygments_lexer": "ipython3",
   "version": "3.9.12"
  }
 },
 "nbformat": 4,
 "nbformat_minor": 5
}
