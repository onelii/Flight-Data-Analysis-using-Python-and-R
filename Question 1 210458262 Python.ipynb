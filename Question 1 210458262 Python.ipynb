{
 "cells": [
  {
   "cell_type": "markdown",
   "id": "56976d2f",
   "metadata": {},
   "source": [
    "# Cleaning data for Question 1"
   ]
  },
  {
   "cell_type": "code",
   "execution_count": 1,
   "id": "439b7056",
   "metadata": {},
   "outputs": [],
   "source": [
    "import numpy as np\n",
    "import pandas as pd\n",
    "import matplotlib.pyplot as plt"
   ]
  },
  {
   "cell_type": "code",
   "execution_count": 2,
   "id": "a174202b",
   "metadata": {},
   "outputs": [],
   "source": [
    "mergeddataset=pd.read_csv(r\"C:\\Users\\DELL\\Desktop\\Coursework\\coursework data set\\2006and2007mergeddataset.csv\")"
   ]
  },
  {
   "cell_type": "code",
   "execution_count": 3,
   "id": "60a2bafe",
   "metadata": {},
   "outputs": [],
   "source": [
    "#checking data type"
   ]
  },
  {
   "cell_type": "code",
   "execution_count": 4,
   "id": "b598acb1",
   "metadata": {},
   "outputs": [
    {
     "data": {
      "text/plain": [
       "Year                   int64\n",
       "Month                  int64\n",
       "DayofMonth             int64\n",
       "DayOfWeek              int64\n",
       "DepTime              float64\n",
       "CRSDepTime             int64\n",
       "ArrTime              float64\n",
       "CRSArrTime             int64\n",
       "UniqueCarrier         object\n",
       "FlightNum              int64\n",
       "TailNum               object\n",
       "ActualElapsedTime    float64\n",
       "CRSElapsedTime       float64\n",
       "AirTime              float64\n",
       "ArrDelay             float64\n",
       "DepDelay             float64\n",
       "Origin                object\n",
       "Dest                  object\n",
       "Distance               int64\n",
       "TaxiIn                 int64\n",
       "TaxiOut                int64\n",
       "Cancelled              int64\n",
       "CancellationCode      object\n",
       "Diverted               int64\n",
       "CarrierDelay           int64\n",
       "WeatherDelay           int64\n",
       "NASDelay               int64\n",
       "SecurityDelay          int64\n",
       "LateAircraftDelay      int64\n",
       "dtype: object"
      ]
     },
     "execution_count": 4,
     "metadata": {},
     "output_type": "execute_result"
    }
   ],
   "source": [
    "mergeddataset.dtypes"
   ]
  },
  {
   "cell_type": "code",
   "execution_count": 5,
   "id": "5fb52463",
   "metadata": {},
   "outputs": [],
   "source": [
    "#changing CRSDepTime data type to integer"
   ]
  },
  {
   "cell_type": "code",
   "execution_count": 6,
   "id": "4bf5a5cb",
   "metadata": {},
   "outputs": [],
   "source": [
    "mergeddataset['CRSDepTime'] = mergeddataset['CRSDepTime'].astype(int)"
   ]
  },
  {
   "cell_type": "code",
   "execution_count": 7,
   "id": "f099b338",
   "metadata": {},
   "outputs": [],
   "source": [
    "#rechecking data type"
   ]
  },
  {
   "cell_type": "code",
   "execution_count": 8,
   "id": "f84726ce",
   "metadata": {},
   "outputs": [
    {
     "data": {
      "text/plain": [
       "Year                   int64\n",
       "Month                  int64\n",
       "DayofMonth             int64\n",
       "DayOfWeek              int64\n",
       "DepTime              float64\n",
       "CRSDepTime             int32\n",
       "ArrTime              float64\n",
       "CRSArrTime             int64\n",
       "UniqueCarrier         object\n",
       "FlightNum              int64\n",
       "TailNum               object\n",
       "ActualElapsedTime    float64\n",
       "CRSElapsedTime       float64\n",
       "AirTime              float64\n",
       "ArrDelay             float64\n",
       "DepDelay             float64\n",
       "Origin                object\n",
       "Dest                  object\n",
       "Distance               int64\n",
       "TaxiIn                 int64\n",
       "TaxiOut                int64\n",
       "Cancelled              int64\n",
       "CancellationCode      object\n",
       "Diverted               int64\n",
       "CarrierDelay           int64\n",
       "WeatherDelay           int64\n",
       "NASDelay               int64\n",
       "SecurityDelay          int64\n",
       "LateAircraftDelay      int64\n",
       "dtype: object"
      ]
     },
     "execution_count": 8,
     "metadata": {},
     "output_type": "execute_result"
    }
   ],
   "source": [
    "mergeddataset.dtypes"
   ]
  },
  {
   "cell_type": "markdown",
   "id": "4805c8b1",
   "metadata": {},
   "source": [
    "## Arrival Delay"
   ]
  },
  {
   "cell_type": "code",
   "execution_count": 9,
   "id": "9b935e17",
   "metadata": {},
   "outputs": [],
   "source": [
    "# Extracting the desired columns for question 1 for arrival delay"
   ]
  },
  {
   "cell_type": "code",
   "execution_count": 10,
   "id": "86a10e7d",
   "metadata": {},
   "outputs": [
    {
     "data": {
      "text/html": [
       "<div>\n",
       "<style scoped>\n",
       "    .dataframe tbody tr th:only-of-type {\n",
       "        vertical-align: middle;\n",
       "    }\n",
       "\n",
       "    .dataframe tbody tr th {\n",
       "        vertical-align: top;\n",
       "    }\n",
       "\n",
       "    .dataframe thead th {\n",
       "        text-align: right;\n",
       "    }\n",
       "</style>\n",
       "<table border=\"1\" class=\"dataframe\">\n",
       "  <thead>\n",
       "    <tr style=\"text-align: right;\">\n",
       "      <th></th>\n",
       "      <th>Month</th>\n",
       "      <th>DayOfWeek</th>\n",
       "      <th>CRSDepTime</th>\n",
       "      <th>ArrDelay</th>\n",
       "    </tr>\n",
       "  </thead>\n",
       "  <tbody>\n",
       "    <tr>\n",
       "      <th>0</th>\n",
       "      <td>1</td>\n",
       "      <td>3</td>\n",
       "      <td>745</td>\n",
       "      <td>6.0</td>\n",
       "    </tr>\n",
       "    <tr>\n",
       "      <th>1</th>\n",
       "      <td>1</td>\n",
       "      <td>3</td>\n",
       "      <td>1053</td>\n",
       "      <td>-5.0</td>\n",
       "    </tr>\n",
       "    <tr>\n",
       "      <th>2</th>\n",
       "      <td>1</td>\n",
       "      <td>3</td>\n",
       "      <td>1915</td>\n",
       "      <td>-23.0</td>\n",
       "    </tr>\n",
       "    <tr>\n",
       "      <th>3</th>\n",
       "      <td>1</td>\n",
       "      <td>3</td>\n",
       "      <td>1755</td>\n",
       "      <td>-8.0</td>\n",
       "    </tr>\n",
       "    <tr>\n",
       "      <th>4</th>\n",
       "      <td>1</td>\n",
       "      <td>3</td>\n",
       "      <td>832</td>\n",
       "      <td>0.0</td>\n",
       "    </tr>\n",
       "    <tr>\n",
       "      <th>...</th>\n",
       "      <td>...</td>\n",
       "      <td>...</td>\n",
       "      <td>...</td>\n",
       "      <td>...</td>\n",
       "    </tr>\n",
       "    <tr>\n",
       "      <th>14595098</th>\n",
       "      <td>12</td>\n",
       "      <td>6</td>\n",
       "      <td>1605</td>\n",
       "      <td>13.0</td>\n",
       "    </tr>\n",
       "    <tr>\n",
       "      <th>14595099</th>\n",
       "      <td>12</td>\n",
       "      <td>6</td>\n",
       "      <td>1851</td>\n",
       "      <td>5.0</td>\n",
       "    </tr>\n",
       "    <tr>\n",
       "      <th>14595100</th>\n",
       "      <td>12</td>\n",
       "      <td>6</td>\n",
       "      <td>1025</td>\n",
       "      <td>15.0</td>\n",
       "    </tr>\n",
       "    <tr>\n",
       "      <th>14595101</th>\n",
       "      <td>12</td>\n",
       "      <td>6</td>\n",
       "      <td>1315</td>\n",
       "      <td>36.0</td>\n",
       "    </tr>\n",
       "    <tr>\n",
       "      <th>14595102</th>\n",
       "      <td>12</td>\n",
       "      <td>6</td>\n",
       "      <td>1800</td>\n",
       "      <td>33.0</td>\n",
       "    </tr>\n",
       "  </tbody>\n",
       "</table>\n",
       "<p>14595103 rows × 4 columns</p>\n",
       "</div>"
      ],
      "text/plain": [
       "          Month  DayOfWeek  CRSDepTime  ArrDelay\n",
       "0             1          3         745       6.0\n",
       "1             1          3        1053      -5.0\n",
       "2             1          3        1915     -23.0\n",
       "3             1          3        1755      -8.0\n",
       "4             1          3         832       0.0\n",
       "...         ...        ...         ...       ...\n",
       "14595098     12          6        1605      13.0\n",
       "14595099     12          6        1851       5.0\n",
       "14595100     12          6        1025      15.0\n",
       "14595101     12          6        1315      36.0\n",
       "14595102     12          6        1800      33.0\n",
       "\n",
       "[14595103 rows x 4 columns]"
      ]
     },
     "execution_count": 10,
     "metadata": {},
     "output_type": "execute_result"
    }
   ],
   "source": [
    "q1arrdataset=mergeddataset[[\"Month\",\"DayOfWeek\",\"CRSDepTime\",\"ArrDelay\"]]\n",
    "q1arrdataset"
   ]
  },
  {
   "cell_type": "code",
   "execution_count": 11,
   "id": "9fbb3507",
   "metadata": {},
   "outputs": [],
   "source": [
    "#checking null values"
   ]
  },
  {
   "cell_type": "code",
   "execution_count": 12,
   "id": "a249273e",
   "metadata": {},
   "outputs": [
    {
     "data": {
      "text/plain": [
       "Month              0\n",
       "DayOfWeek          0\n",
       "CRSDepTime         0\n",
       "ArrDelay      316046\n",
       "dtype: int64"
      ]
     },
     "execution_count": 12,
     "metadata": {},
     "output_type": "execute_result"
    }
   ],
   "source": [
    "pd.isnull(q1arrdataset).sum(axis=0)"
   ]
  },
  {
   "cell_type": "code",
   "execution_count": 13,
   "id": "404ef079",
   "metadata": {},
   "outputs": [],
   "source": [
    "#dropping null values"
   ]
  },
  {
   "cell_type": "code",
   "execution_count": 14,
   "id": "feeff81b",
   "metadata": {},
   "outputs": [
    {
     "data": {
      "text/html": [
       "<div>\n",
       "<style scoped>\n",
       "    .dataframe tbody tr th:only-of-type {\n",
       "        vertical-align: middle;\n",
       "    }\n",
       "\n",
       "    .dataframe tbody tr th {\n",
       "        vertical-align: top;\n",
       "    }\n",
       "\n",
       "    .dataframe thead th {\n",
       "        text-align: right;\n",
       "    }\n",
       "</style>\n",
       "<table border=\"1\" class=\"dataframe\">\n",
       "  <thead>\n",
       "    <tr style=\"text-align: right;\">\n",
       "      <th></th>\n",
       "      <th>Month</th>\n",
       "      <th>DayOfWeek</th>\n",
       "      <th>CRSDepTime</th>\n",
       "      <th>ArrDelay</th>\n",
       "    </tr>\n",
       "  </thead>\n",
       "  <tbody>\n",
       "    <tr>\n",
       "      <th>0</th>\n",
       "      <td>1</td>\n",
       "      <td>3</td>\n",
       "      <td>745</td>\n",
       "      <td>6.0</td>\n",
       "    </tr>\n",
       "    <tr>\n",
       "      <th>1</th>\n",
       "      <td>1</td>\n",
       "      <td>3</td>\n",
       "      <td>1053</td>\n",
       "      <td>-5.0</td>\n",
       "    </tr>\n",
       "    <tr>\n",
       "      <th>2</th>\n",
       "      <td>1</td>\n",
       "      <td>3</td>\n",
       "      <td>1915</td>\n",
       "      <td>-23.0</td>\n",
       "    </tr>\n",
       "    <tr>\n",
       "      <th>3</th>\n",
       "      <td>1</td>\n",
       "      <td>3</td>\n",
       "      <td>1755</td>\n",
       "      <td>-8.0</td>\n",
       "    </tr>\n",
       "    <tr>\n",
       "      <th>4</th>\n",
       "      <td>1</td>\n",
       "      <td>3</td>\n",
       "      <td>832</td>\n",
       "      <td>0.0</td>\n",
       "    </tr>\n",
       "    <tr>\n",
       "      <th>...</th>\n",
       "      <td>...</td>\n",
       "      <td>...</td>\n",
       "      <td>...</td>\n",
       "      <td>...</td>\n",
       "    </tr>\n",
       "    <tr>\n",
       "      <th>14595098</th>\n",
       "      <td>12</td>\n",
       "      <td>6</td>\n",
       "      <td>1605</td>\n",
       "      <td>13.0</td>\n",
       "    </tr>\n",
       "    <tr>\n",
       "      <th>14595099</th>\n",
       "      <td>12</td>\n",
       "      <td>6</td>\n",
       "      <td>1851</td>\n",
       "      <td>5.0</td>\n",
       "    </tr>\n",
       "    <tr>\n",
       "      <th>14595100</th>\n",
       "      <td>12</td>\n",
       "      <td>6</td>\n",
       "      <td>1025</td>\n",
       "      <td>15.0</td>\n",
       "    </tr>\n",
       "    <tr>\n",
       "      <th>14595101</th>\n",
       "      <td>12</td>\n",
       "      <td>6</td>\n",
       "      <td>1315</td>\n",
       "      <td>36.0</td>\n",
       "    </tr>\n",
       "    <tr>\n",
       "      <th>14595102</th>\n",
       "      <td>12</td>\n",
       "      <td>6</td>\n",
       "      <td>1800</td>\n",
       "      <td>33.0</td>\n",
       "    </tr>\n",
       "  </tbody>\n",
       "</table>\n",
       "<p>14279057 rows × 4 columns</p>\n",
       "</div>"
      ],
      "text/plain": [
       "          Month  DayOfWeek  CRSDepTime  ArrDelay\n",
       "0             1          3         745       6.0\n",
       "1             1          3        1053      -5.0\n",
       "2             1          3        1915     -23.0\n",
       "3             1          3        1755      -8.0\n",
       "4             1          3         832       0.0\n",
       "...         ...        ...         ...       ...\n",
       "14595098     12          6        1605      13.0\n",
       "14595099     12          6        1851       5.0\n",
       "14595100     12          6        1025      15.0\n",
       "14595101     12          6        1315      36.0\n",
       "14595102     12          6        1800      33.0\n",
       "\n",
       "[14279057 rows x 4 columns]"
      ]
     },
     "execution_count": 14,
     "metadata": {},
     "output_type": "execute_result"
    }
   ],
   "source": [
    "q1arrdataset = q1arrdataset.dropna()\n",
    "q1arrdataset"
   ]
  },
  {
   "cell_type": "code",
   "execution_count": 15,
   "id": "090be9d5",
   "metadata": {},
   "outputs": [],
   "source": [
    "#rechecking null values"
   ]
  },
  {
   "cell_type": "code",
   "execution_count": 16,
   "id": "3b2314ce",
   "metadata": {},
   "outputs": [
    {
     "data": {
      "text/plain": [
       "Month         0\n",
       "DayOfWeek     0\n",
       "CRSDepTime    0\n",
       "ArrDelay      0\n",
       "dtype: int64"
      ]
     },
     "execution_count": 16,
     "metadata": {},
     "output_type": "execute_result"
    }
   ],
   "source": [
    "pd.isnull(q1arrdataset).sum(axis=0)"
   ]
  },
  {
   "cell_type": "code",
   "execution_count": 17,
   "id": "523cb04a",
   "metadata": {},
   "outputs": [],
   "source": [
    "#removing early arrivals"
   ]
  },
  {
   "cell_type": "code",
   "execution_count": 18,
   "id": "e7ff1d8c",
   "metadata": {},
   "outputs": [
    {
     "data": {
      "text/html": [
       "<div>\n",
       "<style scoped>\n",
       "    .dataframe tbody tr th:only-of-type {\n",
       "        vertical-align: middle;\n",
       "    }\n",
       "\n",
       "    .dataframe tbody tr th {\n",
       "        vertical-align: top;\n",
       "    }\n",
       "\n",
       "    .dataframe thead th {\n",
       "        text-align: right;\n",
       "    }\n",
       "</style>\n",
       "<table border=\"1\" class=\"dataframe\">\n",
       "  <thead>\n",
       "    <tr style=\"text-align: right;\">\n",
       "      <th></th>\n",
       "      <th>Month</th>\n",
       "      <th>DayOfWeek</th>\n",
       "      <th>CRSDepTime</th>\n",
       "      <th>ArrDelay</th>\n",
       "    </tr>\n",
       "  </thead>\n",
       "  <tbody>\n",
       "    <tr>\n",
       "      <th>0</th>\n",
       "      <td>1</td>\n",
       "      <td>3</td>\n",
       "      <td>745</td>\n",
       "      <td>6.0</td>\n",
       "    </tr>\n",
       "    <tr>\n",
       "      <th>4</th>\n",
       "      <td>1</td>\n",
       "      <td>3</td>\n",
       "      <td>832</td>\n",
       "      <td>0.0</td>\n",
       "    </tr>\n",
       "    <tr>\n",
       "      <th>5</th>\n",
       "      <td>1</td>\n",
       "      <td>3</td>\n",
       "      <td>630</td>\n",
       "      <td>2.0</td>\n",
       "    </tr>\n",
       "    <tr>\n",
       "      <th>6</th>\n",
       "      <td>1</td>\n",
       "      <td>3</td>\n",
       "      <td>820</td>\n",
       "      <td>20.0</td>\n",
       "    </tr>\n",
       "    <tr>\n",
       "      <th>7</th>\n",
       "      <td>1</td>\n",
       "      <td>3</td>\n",
       "      <td>945</td>\n",
       "      <td>7.0</td>\n",
       "    </tr>\n",
       "    <tr>\n",
       "      <th>...</th>\n",
       "      <td>...</td>\n",
       "      <td>...</td>\n",
       "      <td>...</td>\n",
       "      <td>...</td>\n",
       "    </tr>\n",
       "    <tr>\n",
       "      <th>14595098</th>\n",
       "      <td>12</td>\n",
       "      <td>6</td>\n",
       "      <td>1605</td>\n",
       "      <td>13.0</td>\n",
       "    </tr>\n",
       "    <tr>\n",
       "      <th>14595099</th>\n",
       "      <td>12</td>\n",
       "      <td>6</td>\n",
       "      <td>1851</td>\n",
       "      <td>5.0</td>\n",
       "    </tr>\n",
       "    <tr>\n",
       "      <th>14595100</th>\n",
       "      <td>12</td>\n",
       "      <td>6</td>\n",
       "      <td>1025</td>\n",
       "      <td>15.0</td>\n",
       "    </tr>\n",
       "    <tr>\n",
       "      <th>14595101</th>\n",
       "      <td>12</td>\n",
       "      <td>6</td>\n",
       "      <td>1315</td>\n",
       "      <td>36.0</td>\n",
       "    </tr>\n",
       "    <tr>\n",
       "      <th>14595102</th>\n",
       "      <td>12</td>\n",
       "      <td>6</td>\n",
       "      <td>1800</td>\n",
       "      <td>33.0</td>\n",
       "    </tr>\n",
       "  </tbody>\n",
       "</table>\n",
       "<p>7089121 rows × 4 columns</p>\n",
       "</div>"
      ],
      "text/plain": [
       "          Month  DayOfWeek  CRSDepTime  ArrDelay\n",
       "0             1          3         745       6.0\n",
       "4             1          3         832       0.0\n",
       "5             1          3         630       2.0\n",
       "6             1          3         820      20.0\n",
       "7             1          3         945       7.0\n",
       "...         ...        ...         ...       ...\n",
       "14595098     12          6        1605      13.0\n",
       "14595099     12          6        1851       5.0\n",
       "14595100     12          6        1025      15.0\n",
       "14595101     12          6        1315      36.0\n",
       "14595102     12          6        1800      33.0\n",
       "\n",
       "[7089121 rows x 4 columns]"
      ]
     },
     "execution_count": 18,
     "metadata": {},
     "output_type": "execute_result"
    }
   ],
   "source": [
    "q1arrdataset = q1arrdataset[q1arrdataset[\"ArrDelay\"] >= 0]\n",
    "q1arrdataset"
   ]
  },
  {
   "cell_type": "markdown",
   "id": "4cdf018b",
   "metadata": {},
   "source": [
    "## Departure Delays"
   ]
  },
  {
   "cell_type": "code",
   "execution_count": 19,
   "id": "3c8f8bce",
   "metadata": {},
   "outputs": [],
   "source": [
    "#extracting the desired columns for question 1 for departure delay"
   ]
  },
  {
   "cell_type": "code",
   "execution_count": 20,
   "id": "f94e124c",
   "metadata": {},
   "outputs": [
    {
     "data": {
      "text/html": [
       "<div>\n",
       "<style scoped>\n",
       "    .dataframe tbody tr th:only-of-type {\n",
       "        vertical-align: middle;\n",
       "    }\n",
       "\n",
       "    .dataframe tbody tr th {\n",
       "        vertical-align: top;\n",
       "    }\n",
       "\n",
       "    .dataframe thead th {\n",
       "        text-align: right;\n",
       "    }\n",
       "</style>\n",
       "<table border=\"1\" class=\"dataframe\">\n",
       "  <thead>\n",
       "    <tr style=\"text-align: right;\">\n",
       "      <th></th>\n",
       "      <th>Month</th>\n",
       "      <th>DayOfWeek</th>\n",
       "      <th>CRSDepTime</th>\n",
       "      <th>DepDelay</th>\n",
       "    </tr>\n",
       "  </thead>\n",
       "  <tbody>\n",
       "    <tr>\n",
       "      <th>0</th>\n",
       "      <td>1</td>\n",
       "      <td>3</td>\n",
       "      <td>745</td>\n",
       "      <td>-2.0</td>\n",
       "    </tr>\n",
       "    <tr>\n",
       "      <th>1</th>\n",
       "      <td>1</td>\n",
       "      <td>3</td>\n",
       "      <td>1053</td>\n",
       "      <td>0.0</td>\n",
       "    </tr>\n",
       "    <tr>\n",
       "      <th>2</th>\n",
       "      <td>1</td>\n",
       "      <td>3</td>\n",
       "      <td>1915</td>\n",
       "      <td>0.0</td>\n",
       "    </tr>\n",
       "    <tr>\n",
       "      <th>3</th>\n",
       "      <td>1</td>\n",
       "      <td>3</td>\n",
       "      <td>1755</td>\n",
       "      <td>-2.0</td>\n",
       "    </tr>\n",
       "    <tr>\n",
       "      <th>4</th>\n",
       "      <td>1</td>\n",
       "      <td>3</td>\n",
       "      <td>832</td>\n",
       "      <td>-8.0</td>\n",
       "    </tr>\n",
       "    <tr>\n",
       "      <th>...</th>\n",
       "      <td>...</td>\n",
       "      <td>...</td>\n",
       "      <td>...</td>\n",
       "      <td>...</td>\n",
       "    </tr>\n",
       "    <tr>\n",
       "      <th>14595098</th>\n",
       "      <td>12</td>\n",
       "      <td>6</td>\n",
       "      <td>1605</td>\n",
       "      <td>-7.0</td>\n",
       "    </tr>\n",
       "    <tr>\n",
       "      <th>14595099</th>\n",
       "      <td>12</td>\n",
       "      <td>6</td>\n",
       "      <td>1851</td>\n",
       "      <td>11.0</td>\n",
       "    </tr>\n",
       "    <tr>\n",
       "      <th>14595100</th>\n",
       "      <td>12</td>\n",
       "      <td>6</td>\n",
       "      <td>1025</td>\n",
       "      <td>-1.0</td>\n",
       "    </tr>\n",
       "    <tr>\n",
       "      <th>14595101</th>\n",
       "      <td>12</td>\n",
       "      <td>6</td>\n",
       "      <td>1315</td>\n",
       "      <td>38.0</td>\n",
       "    </tr>\n",
       "    <tr>\n",
       "      <th>14595102</th>\n",
       "      <td>12</td>\n",
       "      <td>6</td>\n",
       "      <td>1800</td>\n",
       "      <td>24.0</td>\n",
       "    </tr>\n",
       "  </tbody>\n",
       "</table>\n",
       "<p>14595103 rows × 4 columns</p>\n",
       "</div>"
      ],
      "text/plain": [
       "          Month  DayOfWeek  CRSDepTime  DepDelay\n",
       "0             1          3         745      -2.0\n",
       "1             1          3        1053       0.0\n",
       "2             1          3        1915       0.0\n",
       "3             1          3        1755      -2.0\n",
       "4             1          3         832      -8.0\n",
       "...         ...        ...         ...       ...\n",
       "14595098     12          6        1605      -7.0\n",
       "14595099     12          6        1851      11.0\n",
       "14595100     12          6        1025      -1.0\n",
       "14595101     12          6        1315      38.0\n",
       "14595102     12          6        1800      24.0\n",
       "\n",
       "[14595103 rows x 4 columns]"
      ]
     },
     "execution_count": 20,
     "metadata": {},
     "output_type": "execute_result"
    }
   ],
   "source": [
    "q1depdataset=mergeddataset[[\"Month\",\"DayOfWeek\",\"CRSDepTime\",\"DepDelay\"]]\n",
    "q1depdataset"
   ]
  },
  {
   "cell_type": "code",
   "execution_count": 21,
   "id": "0aa204e8",
   "metadata": {},
   "outputs": [],
   "source": [
    "#checking null values"
   ]
  },
  {
   "cell_type": "code",
   "execution_count": 22,
   "id": "932d975d",
   "metadata": {},
   "outputs": [
    {
     "data": {
      "text/plain": [
       "Month              0\n",
       "DayOfWeek          0\n",
       "CRSDepTime         0\n",
       "DepDelay      282682\n",
       "dtype: int64"
      ]
     },
     "execution_count": 22,
     "metadata": {},
     "output_type": "execute_result"
    }
   ],
   "source": [
    "pd.isnull(q1depdataset).sum(axis=0)"
   ]
  },
  {
   "cell_type": "code",
   "execution_count": 23,
   "id": "f0b394ef",
   "metadata": {},
   "outputs": [],
   "source": [
    "#dropping null values"
   ]
  },
  {
   "cell_type": "code",
   "execution_count": 24,
   "id": "89365119",
   "metadata": {},
   "outputs": [
    {
     "data": {
      "text/html": [
       "<div>\n",
       "<style scoped>\n",
       "    .dataframe tbody tr th:only-of-type {\n",
       "        vertical-align: middle;\n",
       "    }\n",
       "\n",
       "    .dataframe tbody tr th {\n",
       "        vertical-align: top;\n",
       "    }\n",
       "\n",
       "    .dataframe thead th {\n",
       "        text-align: right;\n",
       "    }\n",
       "</style>\n",
       "<table border=\"1\" class=\"dataframe\">\n",
       "  <thead>\n",
       "    <tr style=\"text-align: right;\">\n",
       "      <th></th>\n",
       "      <th>Month</th>\n",
       "      <th>DayOfWeek</th>\n",
       "      <th>CRSDepTime</th>\n",
       "      <th>DepDelay</th>\n",
       "    </tr>\n",
       "  </thead>\n",
       "  <tbody>\n",
       "    <tr>\n",
       "      <th>0</th>\n",
       "      <td>1</td>\n",
       "      <td>3</td>\n",
       "      <td>745</td>\n",
       "      <td>-2.0</td>\n",
       "    </tr>\n",
       "    <tr>\n",
       "      <th>1</th>\n",
       "      <td>1</td>\n",
       "      <td>3</td>\n",
       "      <td>1053</td>\n",
       "      <td>0.0</td>\n",
       "    </tr>\n",
       "    <tr>\n",
       "      <th>2</th>\n",
       "      <td>1</td>\n",
       "      <td>3</td>\n",
       "      <td>1915</td>\n",
       "      <td>0.0</td>\n",
       "    </tr>\n",
       "    <tr>\n",
       "      <th>3</th>\n",
       "      <td>1</td>\n",
       "      <td>3</td>\n",
       "      <td>1755</td>\n",
       "      <td>-2.0</td>\n",
       "    </tr>\n",
       "    <tr>\n",
       "      <th>4</th>\n",
       "      <td>1</td>\n",
       "      <td>3</td>\n",
       "      <td>832</td>\n",
       "      <td>-8.0</td>\n",
       "    </tr>\n",
       "    <tr>\n",
       "      <th>...</th>\n",
       "      <td>...</td>\n",
       "      <td>...</td>\n",
       "      <td>...</td>\n",
       "      <td>...</td>\n",
       "    </tr>\n",
       "    <tr>\n",
       "      <th>14595098</th>\n",
       "      <td>12</td>\n",
       "      <td>6</td>\n",
       "      <td>1605</td>\n",
       "      <td>-7.0</td>\n",
       "    </tr>\n",
       "    <tr>\n",
       "      <th>14595099</th>\n",
       "      <td>12</td>\n",
       "      <td>6</td>\n",
       "      <td>1851</td>\n",
       "      <td>11.0</td>\n",
       "    </tr>\n",
       "    <tr>\n",
       "      <th>14595100</th>\n",
       "      <td>12</td>\n",
       "      <td>6</td>\n",
       "      <td>1025</td>\n",
       "      <td>-1.0</td>\n",
       "    </tr>\n",
       "    <tr>\n",
       "      <th>14595101</th>\n",
       "      <td>12</td>\n",
       "      <td>6</td>\n",
       "      <td>1315</td>\n",
       "      <td>38.0</td>\n",
       "    </tr>\n",
       "    <tr>\n",
       "      <th>14595102</th>\n",
       "      <td>12</td>\n",
       "      <td>6</td>\n",
       "      <td>1800</td>\n",
       "      <td>24.0</td>\n",
       "    </tr>\n",
       "  </tbody>\n",
       "</table>\n",
       "<p>14312421 rows × 4 columns</p>\n",
       "</div>"
      ],
      "text/plain": [
       "          Month  DayOfWeek  CRSDepTime  DepDelay\n",
       "0             1          3         745      -2.0\n",
       "1             1          3        1053       0.0\n",
       "2             1          3        1915       0.0\n",
       "3             1          3        1755      -2.0\n",
       "4             1          3         832      -8.0\n",
       "...         ...        ...         ...       ...\n",
       "14595098     12          6        1605      -7.0\n",
       "14595099     12          6        1851      11.0\n",
       "14595100     12          6        1025      -1.0\n",
       "14595101     12          6        1315      38.0\n",
       "14595102     12          6        1800      24.0\n",
       "\n",
       "[14312421 rows x 4 columns]"
      ]
     },
     "execution_count": 24,
     "metadata": {},
     "output_type": "execute_result"
    }
   ],
   "source": [
    "q1depdataset = q1depdataset.dropna()\n",
    "q1depdataset"
   ]
  },
  {
   "cell_type": "code",
   "execution_count": 25,
   "id": "80d74007",
   "metadata": {},
   "outputs": [],
   "source": [
    "#rechecking null values"
   ]
  },
  {
   "cell_type": "code",
   "execution_count": 26,
   "id": "fb7cbacd",
   "metadata": {},
   "outputs": [
    {
     "data": {
      "text/plain": [
       "Month         0\n",
       "DayOfWeek     0\n",
       "CRSDepTime    0\n",
       "DepDelay      0\n",
       "dtype: int64"
      ]
     },
     "execution_count": 26,
     "metadata": {},
     "output_type": "execute_result"
    }
   ],
   "source": [
    "pd.isnull(q1depdataset).sum(axis=0)"
   ]
  },
  {
   "cell_type": "code",
   "execution_count": 27,
   "id": "42f4aca0",
   "metadata": {},
   "outputs": [],
   "source": [
    "#removing early departures"
   ]
  },
  {
   "cell_type": "code",
   "execution_count": 28,
   "id": "9369e82f",
   "metadata": {},
   "outputs": [
    {
     "data": {
      "text/html": [
       "<div>\n",
       "<style scoped>\n",
       "    .dataframe tbody tr th:only-of-type {\n",
       "        vertical-align: middle;\n",
       "    }\n",
       "\n",
       "    .dataframe tbody tr th {\n",
       "        vertical-align: top;\n",
       "    }\n",
       "\n",
       "    .dataframe thead th {\n",
       "        text-align: right;\n",
       "    }\n",
       "</style>\n",
       "<table border=\"1\" class=\"dataframe\">\n",
       "  <thead>\n",
       "    <tr style=\"text-align: right;\">\n",
       "      <th></th>\n",
       "      <th>Month</th>\n",
       "      <th>DayOfWeek</th>\n",
       "      <th>CRSDepTime</th>\n",
       "      <th>DepDelay</th>\n",
       "    </tr>\n",
       "  </thead>\n",
       "  <tbody>\n",
       "    <tr>\n",
       "      <th>1</th>\n",
       "      <td>1</td>\n",
       "      <td>3</td>\n",
       "      <td>1053</td>\n",
       "      <td>0.0</td>\n",
       "    </tr>\n",
       "    <tr>\n",
       "      <th>2</th>\n",
       "      <td>1</td>\n",
       "      <td>3</td>\n",
       "      <td>1915</td>\n",
       "      <td>0.0</td>\n",
       "    </tr>\n",
       "    <tr>\n",
       "      <th>6</th>\n",
       "      <td>1</td>\n",
       "      <td>3</td>\n",
       "      <td>820</td>\n",
       "      <td>5.0</td>\n",
       "    </tr>\n",
       "    <tr>\n",
       "      <th>10</th>\n",
       "      <td>1</td>\n",
       "      <td>3</td>\n",
       "      <td>1835</td>\n",
       "      <td>1.0</td>\n",
       "    </tr>\n",
       "    <tr>\n",
       "      <th>13</th>\n",
       "      <td>1</td>\n",
       "      <td>3</td>\n",
       "      <td>1125</td>\n",
       "      <td>0.0</td>\n",
       "    </tr>\n",
       "    <tr>\n",
       "      <th>...</th>\n",
       "      <td>...</td>\n",
       "      <td>...</td>\n",
       "      <td>...</td>\n",
       "      <td>...</td>\n",
       "    </tr>\n",
       "    <tr>\n",
       "      <th>14595095</th>\n",
       "      <td>12</td>\n",
       "      <td>6</td>\n",
       "      <td>1335</td>\n",
       "      <td>6.0</td>\n",
       "    </tr>\n",
       "    <tr>\n",
       "      <th>14595096</th>\n",
       "      <td>12</td>\n",
       "      <td>6</td>\n",
       "      <td>1645</td>\n",
       "      <td>1.0</td>\n",
       "    </tr>\n",
       "    <tr>\n",
       "      <th>14595099</th>\n",
       "      <td>12</td>\n",
       "      <td>6</td>\n",
       "      <td>1851</td>\n",
       "      <td>11.0</td>\n",
       "    </tr>\n",
       "    <tr>\n",
       "      <th>14595101</th>\n",
       "      <td>12</td>\n",
       "      <td>6</td>\n",
       "      <td>1315</td>\n",
       "      <td>38.0</td>\n",
       "    </tr>\n",
       "    <tr>\n",
       "      <th>14595102</th>\n",
       "      <td>12</td>\n",
       "      <td>6</td>\n",
       "      <td>1800</td>\n",
       "      <td>24.0</td>\n",
       "    </tr>\n",
       "  </tbody>\n",
       "</table>\n",
       "<p>7442519 rows × 4 columns</p>\n",
       "</div>"
      ],
      "text/plain": [
       "          Month  DayOfWeek  CRSDepTime  DepDelay\n",
       "1             1          3        1053       0.0\n",
       "2             1          3        1915       0.0\n",
       "6             1          3         820       5.0\n",
       "10            1          3        1835       1.0\n",
       "13            1          3        1125       0.0\n",
       "...         ...        ...         ...       ...\n",
       "14595095     12          6        1335       6.0\n",
       "14595096     12          6        1645       1.0\n",
       "14595099     12          6        1851      11.0\n",
       "14595101     12          6        1315      38.0\n",
       "14595102     12          6        1800      24.0\n",
       "\n",
       "[7442519 rows x 4 columns]"
      ]
     },
     "execution_count": 28,
     "metadata": {},
     "output_type": "execute_result"
    }
   ],
   "source": [
    "q1depdataset = q1depdataset[q1depdataset[\"DepDelay\"] >= 0]\n",
    "q1depdataset"
   ]
  },
  {
   "cell_type": "markdown",
   "id": "a3880fa7",
   "metadata": {},
   "source": [
    "## Checking the distribution of the two variables using box plot of arrival delay and departure delay"
   ]
  },
  {
   "cell_type": "code",
   "execution_count": 29,
   "id": "450fc8b9",
   "metadata": {},
   "outputs": [],
   "source": [
    "arrival_delay=q1arrdataset[\"ArrDelay\"]"
   ]
  },
  {
   "cell_type": "code",
   "execution_count": 30,
   "id": "a8807f74",
   "metadata": {},
   "outputs": [],
   "source": [
    "departure_delay=q1depdataset[\"DepDelay\"]"
   ]
  },
  {
   "cell_type": "code",
   "execution_count": 31,
   "id": "12569d9e",
   "metadata": {},
   "outputs": [
    {
     "data": {
      "image/png": "[encoded data removed]",
      "text/plain": [
       "<Figure size 720x576 with 1 Axes>"
      ]
     },
     "metadata": {
      "needs_background": "light"
     },
     "output_type": "display_data"
    }
   ],
   "source": [
    "fig, ax = plt.subplots(figsize=(10,8))\n",
    "ax.boxplot([arrival_delay, departure_delay],showfliers=True)\n",
    "ax.set_xticklabels(['Arrival Delay', 'Departure Delay'])\n",
    "ax.set_ylabel('Delay Time (minutes)')\n",
    "plt.show()"
   ]
  },
  {
   "cell_type": "code",
   "execution_count": 32,
   "id": "09947697",
   "metadata": {},
   "outputs": [],
   "source": [
    "#Box plot without outliers for visualisation purpose"
   ]
  },
  {
   "cell_type": "code",
   "execution_count": 33,
   "id": "8bc35524",
   "metadata": {},
   "outputs": [
    {
     "data": {
      "image/png": "[encoded data removed]",
      "text/plain": [
       "<Figure size 720x576 with 1 Axes>"
      ]
     },
     "metadata": {
      "needs_background": "light"
     },
     "output_type": "display_data"
    }
   ],
   "source": [
    "fig, ax = plt.subplots(figsize=(10,8))\n",
    "ax.boxplot([arrival_delay, departure_delay],showfliers=False)\n",
    "ax.set_xticklabels(['Arrival Delay', 'Departure Delay'])\n",
    "ax.set_ylabel('Delay Time (minutes)')\n",
    "plt.show()"
   ]
  },
  {
   "cell_type": "code",
   "execution_count": 34,
   "id": "88379b9c",
   "metadata": {},
   "outputs": [],
   "source": [
    "#Correlation of Arrival and Departure Delay"
   ]
  },
  {
   "cell_type": "markdown",
   "id": "94bd0332",
   "metadata": {},
   "source": [
    "## Analysis for the Best time of the day to travel"
   ]
  },
  {
   "cell_type": "code",
   "execution_count": 35,
   "id": "89efb589",
   "metadata": {},
   "outputs": [],
   "source": [
    "# binning the hours of Shedule Departure Time for arrival delays dataset"
   ]
  },
  {
   "cell_type": "code",
   "execution_count": 36,
   "id": "7f70e486",
   "metadata": {},
   "outputs": [
    {
     "name": "stderr",
     "output_type": "stream",
     "text": [
      "C:\\Users\\DELL\\AppData\\Local\\Temp\\ipykernel_15560\\3575885966.py:1: SettingWithCopyWarning: \n",
      "A value is trying to be set on a copy of a slice from a DataFrame.\n",
      "Try using .loc[row_indexer,col_indexer] = value instead\n",
      "\n",
      "See the caveats in the documentation: https://pandas.pydata.org/pandas-docs/stable/user_guide/indexing.html#returning-a-view-versus-a-copy\n",
      "  q1arrdataset.loc[:, 'HoursBinned'] = q1arrdataset['CRSDepTime'].apply(lambda x: x // 100)\n"
     ]
    }
   ],
   "source": [
    "q1arrdataset.loc[:, 'HoursBinned'] = q1arrdataset['CRSDepTime'].apply(lambda x: x // 100)"
   ]
  },
  {
   "cell_type": "code",
   "execution_count": 37,
   "id": "a3aef312",
   "metadata": {},
   "outputs": [
    {
     "data": {
      "text/html": [
       "<div>\n",
       "<style scoped>\n",
       "    .dataframe tbody tr th:only-of-type {\n",
       "        vertical-align: middle;\n",
       "    }\n",
       "\n",
       "    .dataframe tbody tr th {\n",
       "        vertical-align: top;\n",
       "    }\n",
       "\n",
       "    .dataframe thead th {\n",
       "        text-align: right;\n",
       "    }\n",
       "</style>\n",
       "<table border=\"1\" class=\"dataframe\">\n",
       "  <thead>\n",
       "    <tr style=\"text-align: right;\">\n",
       "      <th></th>\n",
       "      <th>Month</th>\n",
       "      <th>DayOfWeek</th>\n",
       "      <th>CRSDepTime</th>\n",
       "      <th>ArrDelay</th>\n",
       "      <th>HoursBinned</th>\n",
       "    </tr>\n",
       "  </thead>\n",
       "  <tbody>\n",
       "    <tr>\n",
       "      <th>0</th>\n",
       "      <td>1</td>\n",
       "      <td>3</td>\n",
       "      <td>745</td>\n",
       "      <td>6.0</td>\n",
       "      <td>7</td>\n",
       "    </tr>\n",
       "    <tr>\n",
       "      <th>4</th>\n",
       "      <td>1</td>\n",
       "      <td>3</td>\n",
       "      <td>832</td>\n",
       "      <td>0.0</td>\n",
       "      <td>8</td>\n",
       "    </tr>\n",
       "    <tr>\n",
       "      <th>5</th>\n",
       "      <td>1</td>\n",
       "      <td>3</td>\n",
       "      <td>630</td>\n",
       "      <td>2.0</td>\n",
       "      <td>6</td>\n",
       "    </tr>\n",
       "    <tr>\n",
       "      <th>6</th>\n",
       "      <td>1</td>\n",
       "      <td>3</td>\n",
       "      <td>820</td>\n",
       "      <td>20.0</td>\n",
       "      <td>8</td>\n",
       "    </tr>\n",
       "    <tr>\n",
       "      <th>7</th>\n",
       "      <td>1</td>\n",
       "      <td>3</td>\n",
       "      <td>945</td>\n",
       "      <td>7.0</td>\n",
       "      <td>9</td>\n",
       "    </tr>\n",
       "    <tr>\n",
       "      <th>...</th>\n",
       "      <td>...</td>\n",
       "      <td>...</td>\n",
       "      <td>...</td>\n",
       "      <td>...</td>\n",
       "      <td>...</td>\n",
       "    </tr>\n",
       "    <tr>\n",
       "      <th>14595098</th>\n",
       "      <td>12</td>\n",
       "      <td>6</td>\n",
       "      <td>1605</td>\n",
       "      <td>13.0</td>\n",
       "      <td>16</td>\n",
       "    </tr>\n",
       "    <tr>\n",
       "      <th>14595099</th>\n",
       "      <td>12</td>\n",
       "      <td>6</td>\n",
       "      <td>1851</td>\n",
       "      <td>5.0</td>\n",
       "      <td>18</td>\n",
       "    </tr>\n",
       "    <tr>\n",
       "      <th>14595100</th>\n",
       "      <td>12</td>\n",
       "      <td>6</td>\n",
       "      <td>1025</td>\n",
       "      <td>15.0</td>\n",
       "      <td>10</td>\n",
       "    </tr>\n",
       "    <tr>\n",
       "      <th>14595101</th>\n",
       "      <td>12</td>\n",
       "      <td>6</td>\n",
       "      <td>1315</td>\n",
       "      <td>36.0</td>\n",
       "      <td>13</td>\n",
       "    </tr>\n",
       "    <tr>\n",
       "      <th>14595102</th>\n",
       "      <td>12</td>\n",
       "      <td>6</td>\n",
       "      <td>1800</td>\n",
       "      <td>33.0</td>\n",
       "      <td>18</td>\n",
       "    </tr>\n",
       "  </tbody>\n",
       "</table>\n",
       "<p>7089121 rows × 5 columns</p>\n",
       "</div>"
      ],
      "text/plain": [
       "          Month  DayOfWeek  CRSDepTime  ArrDelay  HoursBinned\n",
       "0             1          3         745       6.0            7\n",
       "4             1          3         832       0.0            8\n",
       "5             1          3         630       2.0            6\n",
       "6             1          3         820      20.0            8\n",
       "7             1          3         945       7.0            9\n",
       "...         ...        ...         ...       ...          ...\n",
       "14595098     12          6        1605      13.0           16\n",
       "14595099     12          6        1851       5.0           18\n",
       "14595100     12          6        1025      15.0           10\n",
       "14595101     12          6        1315      36.0           13\n",
       "14595102     12          6        1800      33.0           18\n",
       "\n",
       "[7089121 rows x 5 columns]"
      ]
     },
     "execution_count": 37,
     "metadata": {},
     "output_type": "execute_result"
    }
   ],
   "source": [
    "q1arrdataset"
   ]
  },
  {
   "cell_type": "code",
   "execution_count": 38,
   "id": "b5238d53",
   "metadata": {},
   "outputs": [],
   "source": [
    "#binning the hours of Shedule Departure Time for departure delays dataset"
   ]
  },
  {
   "cell_type": "code",
   "execution_count": 39,
   "id": "678dc4c4",
   "metadata": {},
   "outputs": [
    {
     "name": "stderr",
     "output_type": "stream",
     "text": [
      "C:\\Users\\DELL\\AppData\\Local\\Temp\\ipykernel_15560\\3129495643.py:1: SettingWithCopyWarning: \n",
      "A value is trying to be set on a copy of a slice from a DataFrame.\n",
      "Try using .loc[row_indexer,col_indexer] = value instead\n",
      "\n",
      "See the caveats in the documentation: https://pandas.pydata.org/pandas-docs/stable/user_guide/indexing.html#returning-a-view-versus-a-copy\n",
      "  q1depdataset.loc[:,'Hours_Binned'] = q1depdataset['CRSDepTime'].apply(lambda x:x//100)\n"
     ]
    }
   ],
   "source": [
    "q1depdataset.loc[:,'Hours_Binned'] = q1depdataset['CRSDepTime'].apply(lambda x:x//100)"
   ]
  },
  {
   "cell_type": "code",
   "execution_count": 40,
   "id": "9c7c6b4d",
   "metadata": {},
   "outputs": [
    {
     "data": {
      "text/html": [
       "<div>\n",
       "<style scoped>\n",
       "    .dataframe tbody tr th:only-of-type {\n",
       "        vertical-align: middle;\n",
       "    }\n",
       "\n",
       "    .dataframe tbody tr th {\n",
       "        vertical-align: top;\n",
       "    }\n",
       "\n",
       "    .dataframe thead th {\n",
       "        text-align: right;\n",
       "    }\n",
       "</style>\n",
       "<table border=\"1\" class=\"dataframe\">\n",
       "  <thead>\n",
       "    <tr style=\"text-align: right;\">\n",
       "      <th></th>\n",
       "      <th>Month</th>\n",
       "      <th>DayOfWeek</th>\n",
       "      <th>CRSDepTime</th>\n",
       "      <th>DepDelay</th>\n",
       "      <th>Hours_Binned</th>\n",
       "    </tr>\n",
       "  </thead>\n",
       "  <tbody>\n",
       "    <tr>\n",
       "      <th>1</th>\n",
       "      <td>1</td>\n",
       "      <td>3</td>\n",
       "      <td>1053</td>\n",
       "      <td>0.0</td>\n",
       "      <td>10</td>\n",
       "    </tr>\n",
       "    <tr>\n",
       "      <th>2</th>\n",
       "      <td>1</td>\n",
       "      <td>3</td>\n",
       "      <td>1915</td>\n",
       "      <td>0.0</td>\n",
       "      <td>19</td>\n",
       "    </tr>\n",
       "    <tr>\n",
       "      <th>6</th>\n",
       "      <td>1</td>\n",
       "      <td>3</td>\n",
       "      <td>820</td>\n",
       "      <td>5.0</td>\n",
       "      <td>8</td>\n",
       "    </tr>\n",
       "    <tr>\n",
       "      <th>10</th>\n",
       "      <td>1</td>\n",
       "      <td>3</td>\n",
       "      <td>1835</td>\n",
       "      <td>1.0</td>\n",
       "      <td>18</td>\n",
       "    </tr>\n",
       "    <tr>\n",
       "      <th>13</th>\n",
       "      <td>1</td>\n",
       "      <td>3</td>\n",
       "      <td>1125</td>\n",
       "      <td>0.0</td>\n",
       "      <td>11</td>\n",
       "    </tr>\n",
       "    <tr>\n",
       "      <th>...</th>\n",
       "      <td>...</td>\n",
       "      <td>...</td>\n",
       "      <td>...</td>\n",
       "      <td>...</td>\n",
       "      <td>...</td>\n",
       "    </tr>\n",
       "    <tr>\n",
       "      <th>14595095</th>\n",
       "      <td>12</td>\n",
       "      <td>6</td>\n",
       "      <td>1335</td>\n",
       "      <td>6.0</td>\n",
       "      <td>13</td>\n",
       "    </tr>\n",
       "    <tr>\n",
       "      <th>14595096</th>\n",
       "      <td>12</td>\n",
       "      <td>6</td>\n",
       "      <td>1645</td>\n",
       "      <td>1.0</td>\n",
       "      <td>16</td>\n",
       "    </tr>\n",
       "    <tr>\n",
       "      <th>14595099</th>\n",
       "      <td>12</td>\n",
       "      <td>6</td>\n",
       "      <td>1851</td>\n",
       "      <td>11.0</td>\n",
       "      <td>18</td>\n",
       "    </tr>\n",
       "    <tr>\n",
       "      <th>14595101</th>\n",
       "      <td>12</td>\n",
       "      <td>6</td>\n",
       "      <td>1315</td>\n",
       "      <td>38.0</td>\n",
       "      <td>13</td>\n",
       "    </tr>\n",
       "    <tr>\n",
       "      <th>14595102</th>\n",
       "      <td>12</td>\n",
       "      <td>6</td>\n",
       "      <td>1800</td>\n",
       "      <td>24.0</td>\n",
       "      <td>18</td>\n",
       "    </tr>\n",
       "  </tbody>\n",
       "</table>\n",
       "<p>7442519 rows × 5 columns</p>\n",
       "</div>"
      ],
      "text/plain": [
       "          Month  DayOfWeek  CRSDepTime  DepDelay  Hours_Binned\n",
       "1             1          3        1053       0.0            10\n",
       "2             1          3        1915       0.0            19\n",
       "6             1          3         820       5.0             8\n",
       "10            1          3        1835       1.0            18\n",
       "13            1          3        1125       0.0            11\n",
       "...         ...        ...         ...       ...           ...\n",
       "14595095     12          6        1335       6.0            13\n",
       "14595096     12          6        1645       1.0            16\n",
       "14595099     12          6        1851      11.0            18\n",
       "14595101     12          6        1315      38.0            13\n",
       "14595102     12          6        1800      24.0            18\n",
       "\n",
       "[7442519 rows x 5 columns]"
      ]
     },
     "execution_count": 40,
     "metadata": {},
     "output_type": "execute_result"
    }
   ],
   "source": [
    "q1depdataset"
   ]
  },
  {
   "cell_type": "code",
   "execution_count": 41,
   "id": "7d385cae",
   "metadata": {},
   "outputs": [],
   "source": [
    "#checking the data type"
   ]
  },
  {
   "cell_type": "code",
   "execution_count": 42,
   "id": "0d9213b7",
   "metadata": {},
   "outputs": [
    {
     "data": {
      "text/plain": [
       "Month            int64\n",
       "DayOfWeek        int64\n",
       "CRSDepTime       int32\n",
       "ArrDelay       float64\n",
       "HoursBinned      int64\n",
       "dtype: object"
      ]
     },
     "execution_count": 42,
     "metadata": {},
     "output_type": "execute_result"
    }
   ],
   "source": [
    "q1arrdataset.dtypes"
   ]
  },
  {
   "cell_type": "code",
   "execution_count": 43,
   "id": "293a26fa",
   "metadata": {},
   "outputs": [
    {
     "data": {
      "text/plain": [
       "Month             int64\n",
       "DayOfWeek         int64\n",
       "CRSDepTime        int32\n",
       "DepDelay        float64\n",
       "Hours_Binned      int64\n",
       "dtype: object"
      ]
     },
     "execution_count": 43,
     "metadata": {},
     "output_type": "execute_result"
    }
   ],
   "source": [
    "q1depdataset.dtypes"
   ]
  },
  {
   "cell_type": "code",
   "execution_count": 44,
   "id": "610d210b",
   "metadata": {},
   "outputs": [],
   "source": [
    "# giving a range and labels for the plot"
   ]
  },
  {
   "cell_type": "code",
   "execution_count": 45,
   "id": "1315464a",
   "metadata": {},
   "outputs": [],
   "source": [
    "range = [0,100,200,300,400,500,600,700,800,900,1000,1100,1200,1300,1400,1500,1600,1700,1800,1900,2000,2100,2200,2300,2400]\n",
    "labels = ['0-1','1-2','2-3','3-4','4-5','5-6','6-7','7-8','8-9','9-10','10-11','11-12','12-13','13-14','14-15','15-16','16-17','17-18','18-19','19-20','20-21','21-22','22-23','23-24'] "
   ]
  },
  {
   "cell_type": "code",
   "execution_count": 46,
   "id": "81f88af4",
   "metadata": {},
   "outputs": [],
   "source": [
    "# changing the type of the variable CRSDepTime to category"
   ]
  },
  {
   "cell_type": "code",
   "execution_count": 47,
   "id": "93dd19e9",
   "metadata": {},
   "outputs": [
    {
     "name": "stderr",
     "output_type": "stream",
     "text": [
      "C:\\Users\\DELL\\AppData\\Local\\Temp\\ipykernel_15560\\4132564892.py:1: SettingWithCopyWarning: \n",
      "A value is trying to be set on a copy of a slice from a DataFrame.\n",
      "Try using .loc[row_indexer,col_indexer] = value instead\n",
      "\n",
      "See the caveats in the documentation: https://pandas.pydata.org/pandas-docs/stable/user_guide/indexing.html#returning-a-view-versus-a-copy\n",
      "  q1arrdataset.loc[:, 'CRSDepTime'] = pd.cut(q1arrdataset.CRSDepTime, range, labels=labels).astype('category')\n"
     ]
    }
   ],
   "source": [
    "q1arrdataset.loc[:, 'CRSDepTime'] = pd.cut(q1arrdataset.CRSDepTime, range, labels=labels).astype('category')"
   ]
  },
  {
   "cell_type": "code",
   "execution_count": 48,
   "id": "b276897c",
   "metadata": {},
   "outputs": [
    {
     "name": "stderr",
     "output_type": "stream",
     "text": [
      "C:\\Users\\DELL\\AppData\\Local\\Temp\\ipykernel_15560\\2314797414.py:1: SettingWithCopyWarning: \n",
      "A value is trying to be set on a copy of a slice from a DataFrame.\n",
      "Try using .loc[row_indexer,col_indexer] = value instead\n",
      "\n",
      "See the caveats in the documentation: https://pandas.pydata.org/pandas-docs/stable/user_guide/indexing.html#returning-a-view-versus-a-copy\n",
      "  q1depdataset.loc[:,'CRSDepTime'] = pd.cut(q1depdataset.CRSDepTime, range, labels=labels).astype('category')\n"
     ]
    }
   ],
   "source": [
    "q1depdataset.loc[:,'CRSDepTime'] = pd.cut(q1depdataset.CRSDepTime, range, labels=labels).astype('category')"
   ]
  },
  {
   "cell_type": "code",
   "execution_count": 49,
   "id": "c0bd8ecc",
   "metadata": {},
   "outputs": [],
   "source": [
    "#rechecking data types"
   ]
  },
  {
   "cell_type": "code",
   "execution_count": 50,
   "id": "6f69072b",
   "metadata": {},
   "outputs": [
    {
     "data": {
      "text/plain": [
       "Month             int64\n",
       "DayOfWeek         int64\n",
       "CRSDepTime     category\n",
       "ArrDelay        float64\n",
       "HoursBinned       int64\n",
       "dtype: object"
      ]
     },
     "execution_count": 50,
     "metadata": {},
     "output_type": "execute_result"
    }
   ],
   "source": [
    "q1arrdataset.dtypes"
   ]
  },
  {
   "cell_type": "code",
   "execution_count": 51,
   "id": "752afc8e",
   "metadata": {},
   "outputs": [
    {
     "data": {
      "text/plain": [
       "Month              int64\n",
       "DayOfWeek          int64\n",
       "CRSDepTime      category\n",
       "DepDelay         float64\n",
       "Hours_Binned       int64\n",
       "dtype: object"
      ]
     },
     "execution_count": 51,
     "metadata": {},
     "output_type": "execute_result"
    }
   ],
   "source": [
    "q1depdataset.dtypes"
   ]
  },
  {
   "cell_type": "code",
   "execution_count": 52,
   "id": "2860bb19",
   "metadata": {},
   "outputs": [],
   "source": [
    "#calculating median arrival and departure delays by Shedule Departure Time"
   ]
  },
  {
   "cell_type": "code",
   "execution_count": 53,
   "id": "82d7a4b1",
   "metadata": {},
   "outputs": [],
   "source": [
    "arr_delay_median_byday = q1arrdataset.groupby('CRSDepTime')['ArrDelay'].median()\n",
    "dep_delay_median_byday = q1depdataset.groupby('CRSDepTime')['DepDelay'].median()"
   ]
  },
  {
   "cell_type": "code",
   "execution_count": 54,
   "id": "b4aebcec",
   "metadata": {},
   "outputs": [],
   "source": [
    "#creating a line graph "
   ]
  },
  {
   "cell_type": "code",
   "execution_count": 55,
   "id": "62f23af7",
   "metadata": {},
   "outputs": [
    {
     "data": {
      "image/png": "[encoded data removed]",
      "text/plain": [
       "<Figure size 1296x720 with 1 Axes>"
      ]
     },
     "metadata": {
      "needs_background": "light"
     },
     "output_type": "display_data"
    }
   ],
   "source": [
    "fig, ax = plt.subplots(figsize=[18,10])\n",
    "ax.plot(arr_delay_median_byday.index, arr_delay_median_byday, label='Median Arrival Delay',marker=\"o\")\n",
    "ax.plot(dep_delay_median_byday.index, dep_delay_median_byday, label='Median Departure Delay',marker=\"o\")\n",
    "total_delay_median_byday = arr_delay_median_byday + dep_delay_median_byday\n",
    "ax.plot(total_delay_median_byday.index, total_delay_median_byday, label='Total Median Delay', marker=\"o\")\n",
    "\n",
    "for x, y in zip(arr_delay_median_byday.index, arr_delay_median_byday):\n",
    "    ax.annotate(f\"{y:.1f}\", xy=(x, y), xytext=(5, -10), textcoords='offset points', ha='left', va='center')\n",
    "for x, y in zip(dep_delay_median_byday.index, dep_delay_median_byday):\n",
    "    ax.annotate(f\"{y:.1f}\", xy=(x, y), xytext=(-5, 10), textcoords='offset points', ha='right', va='center')\n",
    "for x, y in zip(total_delay_median_byday.index, total_delay_median_byday):\n",
    "    ax.annotate(f\"{y:.1f}\", xy=(x, y), xytext=(5, 10), textcoords='offset points', ha='left', va='center')\n",
    "\n",
    "plt.xticks(rotation=45)\n",
    "ax.set_xlabel('Time')\n",
    "ax.set_ylabel('Delay Time (minutes)')\n",
    "ax.set_title('Median Arrival and Departure Delays by Time')\n",
    "ax.set_xticks(arr_delay_median_byday.index)\n",
    "ax.set_xticks(dep_delay_median_byday.index)\n",
    "ax.legend()\n",
    "plt.show()"
   ]
  },
  {
   "cell_type": "markdown",
   "id": "eb4b1e6b",
   "metadata": {},
   "source": [
    "## Analysis for the Best day of the week to travel"
   ]
  },
  {
   "cell_type": "code",
   "execution_count": 56,
   "id": "bdd27453",
   "metadata": {},
   "outputs": [],
   "source": [
    "#calculating median arrival and departure delays by Day Of Week"
   ]
  },
  {
   "cell_type": "code",
   "execution_count": 57,
   "id": "4010aefa",
   "metadata": {},
   "outputs": [],
   "source": [
    "arr_delay_median_byweek = q1arrdataset.groupby('DayOfWeek')['ArrDelay'].median()\n",
    "dep_delay_median_byweek = q1depdataset.groupby('DayOfWeek')['DepDelay'].median()"
   ]
  },
  {
   "cell_type": "code",
   "execution_count": 58,
   "id": "d52ad036",
   "metadata": {},
   "outputs": [],
   "source": [
    "#creating a line graph for day of week against arrival and departure delay times"
   ]
  },
  {
   "cell_type": "code",
   "execution_count": 59,
   "id": "51950a6f",
   "metadata": {},
   "outputs": [
    {
     "data": {
      "image/png": "[encoded data removed]",
      "text/plain": [
       "<Figure size 720x576 with 1 Axes>"
      ]
     },
     "metadata": {
      "needs_background": "light"
     },
     "output_type": "display_data"
    }
   ],
   "source": [
    "fig, ax = plt.subplots(figsize=[10,8])\n",
    "ax.plot(arr_delay_median_byweek.index, arr_delay_median_byweek, label='Median Arrival Delay',marker=\"o\")\n",
    "ax.plot(dep_delay_median_byweek.index, dep_delay_median_byweek, label='Median Departure Delay',marker=\"o\")\n",
    "total_delay_median_byweek = arr_delay_median_byweek + dep_delay_median_byweek\n",
    "ax.plot(total_delay_median_byweek.index, total_delay_median_byweek, label='Total Median Delay', marker=\"o\")\n",
    "for x, y in zip(arr_delay_median_byweek.index, arr_delay_median_byweek):\n",
    "    ax.annotate(f\"{y:.1f}\", xy=(x, y), xytext=(5, -10), textcoords='offset points', ha='left', va='center')\n",
    "for x, y in zip(dep_delay_median_byweek.index, dep_delay_median_byweek):\n",
    "    ax.annotate(f\"{y:.1f}\", xy=(x, y), xytext=(-5, 10), textcoords='offset points', ha='right', va='center')\n",
    "for x, y in zip(total_delay_median_byweek.index, total_delay_median_byweek):\n",
    "    ax.annotate(f\"{y:.1f}\", xy=(x, y), xytext=(5, 10), textcoords='offset points', ha='left', va='center')\n",
    "\n",
    "ax.set_xlabel('DayOfWeek')\n",
    "ax.set_ylabel('Delay Time (minutes)')\n",
    "ax.set_title('Median Arrival and Departure Delays by Week')\n",
    "ax.set_xticks([1,2,3,4,5,6,7])\n",
    "ax.set_xticklabels([\"MON\",\"TUE\",\"WED\",\"THU\",\"FRI\",\"SAT\",\"SUN\"])\n",
    "ax.legend()\n",
    "plt.show()"
   ]
  },
  {
   "cell_type": "markdown",
   "id": "b986dc24",
   "metadata": {},
   "source": [
    "## Analysis for the Best time of the year to travel"
   ]
  },
  {
   "cell_type": "code",
   "execution_count": 60,
   "id": "6c44212b",
   "metadata": {},
   "outputs": [],
   "source": [
    "#calculating median arrival and departure delays by Month"
   ]
  },
  {
   "cell_type": "code",
   "execution_count": 61,
   "id": "70a4dd70",
   "metadata": {},
   "outputs": [],
   "source": [
    "arr_delay_median_bymonth = q1arrdataset.groupby('Month')['ArrDelay'].median()\n",
    "dep_delay_median_bymonth = q1depdataset.groupby('Month')['DepDelay'].median()"
   ]
  },
  {
   "cell_type": "code",
   "execution_count": 62,
   "id": "90e7e185",
   "metadata": {},
   "outputs": [],
   "source": [
    "#creating a line graph for month against arrival and departure delay times"
   ]
  },
  {
   "cell_type": "code",
   "execution_count": 63,
   "id": "091467a3",
   "metadata": {},
   "outputs": [
    {
     "data": {
      "image/png": "[encoded data removed]",
      "text/plain": [
       "<Figure size 720x576 with 1 Axes>"
      ]
     },
     "metadata": {
      "needs_background": "light"
     },
     "output_type": "display_data"
    }
   ],
   "source": [
    "fig, ax = plt.subplots(figsize=[10,8])\n",
    "ax.plot(arr_delay_median_bymonth.index, arr_delay_median_bymonth, label='Median Arrival Delay',marker=\"o\")\n",
    "ax.plot(dep_delay_median_bymonth.index, dep_delay_median_bymonth, label='Median Departure Delay',marker=\"o\")\n",
    "total_delay_median_bymonth = arr_delay_median_bymonth + dep_delay_median_bymonth\n",
    "ax.plot(total_delay_median_bymonth.index, total_delay_median_bymonth, label='Total Median Delay', marker=\"o\")\n",
    "for x, y in zip(arr_delay_median_bymonth.index, arr_delay_median_bymonth):\n",
    "    ax.annotate(f\"{y:.1f}\", xy=(x, y), xytext=(5, -10), textcoords='offset points', ha='left', va='center')\n",
    "for x, y in zip(dep_delay_median_bymonth.index, dep_delay_median_bymonth):\n",
    "    ax.annotate(f\"{y:.1f}\", xy=(x, y), xytext=(-5, 10), textcoords='offset points', ha='right', va='center')\n",
    "for x, y in zip(total_delay_median_bymonth.index, total_delay_median_bymonth):\n",
    "    ax.annotate(f\"{y:.1f}\", xy=(x, y), xytext=(5, 10), textcoords='offset points', ha='left', va='center')\n",
    "\n",
    "ax.set_xlabel('Month')\n",
    "ax.set_ylabel('Delay Time (minutes)')\n",
    "ax.set_title('Median Arrival and Departure Delays by Month')\n",
    "ax.set_xticks([1,2,3,4,5,6,7,8,9,10,11,12])\n",
    "ax.set_xticklabels([\"JAN\",\"FEB\",\"MAR\",\"APR\",\"MAY\",\"JUN\",\"JUL\",\"AUG\",\"SEP\",\"OCT\",\"NOV\",\"DEC\"])\n",
    "ax.legend()\n",
    "plt.show()"
   ]
  }
 ],
 "metadata": {
  "kernelspec": {
   "display_name": "Python 3 (ipykernel)",
   "language": "python",
   "name": "python3"
  },
  "language_info": {
   "codemirror_mode": {
    "name": "ipython",
    "version": 3
   },
   "file_extension": ".py",
   "mimetype": "text/x-python",
   "name": "python",
   "nbconvert_exporter": "python",
   "pygments_lexer": "ipython3",
   "version": "3.9.12"
  }
 },
 "nbformat": 4,
 "nbformat_minor": 5
}
