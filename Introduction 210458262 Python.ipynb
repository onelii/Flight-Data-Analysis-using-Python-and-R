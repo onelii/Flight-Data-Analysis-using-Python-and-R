{
 "cells": [
  {
   "cell_type": "markdown",
   "id": "40871566",
   "metadata": {},
   "source": [
    "# Initial Data Cleaning And Wrangling"
   ]
  },
  {
   "cell_type": "code",
   "execution_count": 1,
   "id": "e41505ea",
   "metadata": {},
   "outputs": [],
   "source": [
    "import numpy as np\n",
    "import pandas as pd"
   ]
  },
  {
   "cell_type": "markdown",
   "id": "8ccf8e02",
   "metadata": {},
   "source": [
    "## Reading the data sets "
   ]
  },
  {
   "cell_type": "code",
   "execution_count": 2,
   "id": "9fea1fc3",
   "metadata": {},
   "outputs": [],
   "source": [
    "dataset2006 = pd.read_csv(r\"C:\\Users\\DELL\\Desktop\\Coursework\\coursework data set\\2006.csv\")\n",
    "dataset2007 = pd.read_csv(r\"C:\\Users\\DELL\\Desktop\\Coursework\\coursework data set\\2007.csv\")\n",
    "datasetairports = pd.read_csv(r\"C:\\Users\\DELL\\Desktop\\Coursework\\coursework data set\\airports.csv\")\n",
    "datasetcarriers = pd.read_csv(r\"C:\\Users\\DELL\\Desktop\\Coursework\\coursework data set\\carriers.csv\")\n",
    "datasetplanedata = pd.read_csv(r\"C:\\Users\\DELL\\Desktop\\Coursework\\coursework data set\\plane-data.csv\")"
   ]
  },
  {
   "cell_type": "markdown",
   "id": "19d7e972",
   "metadata": {},
   "source": [
    "## Merging the two years of data into one data set"
   ]
  },
  {
   "cell_type": "code",
   "execution_count": 3,
   "id": "024511f8",
   "metadata": {},
   "outputs": [
    {
     "data": {
      "text/html": [
       "<div>\n",
       "<style scoped>\n",
       "    .dataframe tbody tr th:only-of-type {\n",
       "        vertical-align: middle;\n",
       "    }\n",
       "\n",
       "    .dataframe tbody tr th {\n",
       "        vertical-align: top;\n",
       "    }\n",
       "\n",
       "    .dataframe thead th {\n",
       "        text-align: right;\n",
       "    }\n",
       "</style>\n",
       "<table border=\"1\" class=\"dataframe\">\n",
       "  <thead>\n",
       "    <tr style=\"text-align: right;\">\n",
       "      <th></th>\n",
       "      <th>Year</th>\n",
       "      <th>Month</th>\n",
       "      <th>DayofMonth</th>\n",
       "      <th>DayOfWeek</th>\n",
       "      <th>DepTime</th>\n",
       "      <th>CRSDepTime</th>\n",
       "      <th>ArrTime</th>\n",
       "      <th>CRSArrTime</th>\n",
       "      <th>UniqueCarrier</th>\n",
       "      <th>FlightNum</th>\n",
       "      <th>...</th>\n",
       "      <th>TaxiIn</th>\n",
       "      <th>TaxiOut</th>\n",
       "      <th>Cancelled</th>\n",
       "      <th>CancellationCode</th>\n",
       "      <th>Diverted</th>\n",
       "      <th>CarrierDelay</th>\n",
       "      <th>WeatherDelay</th>\n",
       "      <th>NASDelay</th>\n",
       "      <th>SecurityDelay</th>\n",
       "      <th>LateAircraftDelay</th>\n",
       "    </tr>\n",
       "  </thead>\n",
       "  <tbody>\n",
       "    <tr>\n",
       "      <th>0</th>\n",
       "      <td>2006</td>\n",
       "      <td>1</td>\n",
       "      <td>11</td>\n",
       "      <td>3</td>\n",
       "      <td>743.0</td>\n",
       "      <td>745</td>\n",
       "      <td>1024.0</td>\n",
       "      <td>1018</td>\n",
       "      <td>US</td>\n",
       "      <td>343</td>\n",
       "      <td>...</td>\n",
       "      <td>45</td>\n",
       "      <td>13</td>\n",
       "      <td>0</td>\n",
       "      <td>NaN</td>\n",
       "      <td>0</td>\n",
       "      <td>0</td>\n",
       "      <td>0</td>\n",
       "      <td>0</td>\n",
       "      <td>0</td>\n",
       "      <td>0</td>\n",
       "    </tr>\n",
       "    <tr>\n",
       "      <th>1</th>\n",
       "      <td>2006</td>\n",
       "      <td>1</td>\n",
       "      <td>11</td>\n",
       "      <td>3</td>\n",
       "      <td>1053.0</td>\n",
       "      <td>1053</td>\n",
       "      <td>1313.0</td>\n",
       "      <td>1318</td>\n",
       "      <td>US</td>\n",
       "      <td>613</td>\n",
       "      <td>...</td>\n",
       "      <td>27</td>\n",
       "      <td>19</td>\n",
       "      <td>0</td>\n",
       "      <td>NaN</td>\n",
       "      <td>0</td>\n",
       "      <td>0</td>\n",
       "      <td>0</td>\n",
       "      <td>0</td>\n",
       "      <td>0</td>\n",
       "      <td>0</td>\n",
       "    </tr>\n",
       "    <tr>\n",
       "      <th>2</th>\n",
       "      <td>2006</td>\n",
       "      <td>1</td>\n",
       "      <td>11</td>\n",
       "      <td>3</td>\n",
       "      <td>1915.0</td>\n",
       "      <td>1915</td>\n",
       "      <td>2110.0</td>\n",
       "      <td>2133</td>\n",
       "      <td>US</td>\n",
       "      <td>617</td>\n",
       "      <td>...</td>\n",
       "      <td>4</td>\n",
       "      <td>11</td>\n",
       "      <td>0</td>\n",
       "      <td>NaN</td>\n",
       "      <td>0</td>\n",
       "      <td>0</td>\n",
       "      <td>0</td>\n",
       "      <td>0</td>\n",
       "      <td>0</td>\n",
       "      <td>0</td>\n",
       "    </tr>\n",
       "    <tr>\n",
       "      <th>3</th>\n",
       "      <td>2006</td>\n",
       "      <td>1</td>\n",
       "      <td>11</td>\n",
       "      <td>3</td>\n",
       "      <td>1753.0</td>\n",
       "      <td>1755</td>\n",
       "      <td>1925.0</td>\n",
       "      <td>1933</td>\n",
       "      <td>US</td>\n",
       "      <td>300</td>\n",
       "      <td>...</td>\n",
       "      <td>16</td>\n",
       "      <td>10</td>\n",
       "      <td>0</td>\n",
       "      <td>NaN</td>\n",
       "      <td>0</td>\n",
       "      <td>0</td>\n",
       "      <td>0</td>\n",
       "      <td>0</td>\n",
       "      <td>0</td>\n",
       "      <td>0</td>\n",
       "    </tr>\n",
       "    <tr>\n",
       "      <th>4</th>\n",
       "      <td>2006</td>\n",
       "      <td>1</td>\n",
       "      <td>11</td>\n",
       "      <td>3</td>\n",
       "      <td>824.0</td>\n",
       "      <td>832</td>\n",
       "      <td>1015.0</td>\n",
       "      <td>1015</td>\n",
       "      <td>US</td>\n",
       "      <td>765</td>\n",
       "      <td>...</td>\n",
       "      <td>27</td>\n",
       "      <td>12</td>\n",
       "      <td>0</td>\n",
       "      <td>NaN</td>\n",
       "      <td>0</td>\n",
       "      <td>0</td>\n",
       "      <td>0</td>\n",
       "      <td>0</td>\n",
       "      <td>0</td>\n",
       "      <td>0</td>\n",
       "    </tr>\n",
       "    <tr>\n",
       "      <th>...</th>\n",
       "      <td>...</td>\n",
       "      <td>...</td>\n",
       "      <td>...</td>\n",
       "      <td>...</td>\n",
       "      <td>...</td>\n",
       "      <td>...</td>\n",
       "      <td>...</td>\n",
       "      <td>...</td>\n",
       "      <td>...</td>\n",
       "      <td>...</td>\n",
       "      <td>...</td>\n",
       "      <td>...</td>\n",
       "      <td>...</td>\n",
       "      <td>...</td>\n",
       "      <td>...</td>\n",
       "      <td>...</td>\n",
       "      <td>...</td>\n",
       "      <td>...</td>\n",
       "      <td>...</td>\n",
       "      <td>...</td>\n",
       "      <td>...</td>\n",
       "    </tr>\n",
       "    <tr>\n",
       "      <th>7453210</th>\n",
       "      <td>2007</td>\n",
       "      <td>12</td>\n",
       "      <td>15</td>\n",
       "      <td>6</td>\n",
       "      <td>1558.0</td>\n",
       "      <td>1605</td>\n",
       "      <td>1749.0</td>\n",
       "      <td>1736</td>\n",
       "      <td>DL</td>\n",
       "      <td>58</td>\n",
       "      <td>...</td>\n",
       "      <td>14</td>\n",
       "      <td>17</td>\n",
       "      <td>0</td>\n",
       "      <td>NaN</td>\n",
       "      <td>0</td>\n",
       "      <td>0</td>\n",
       "      <td>0</td>\n",
       "      <td>0</td>\n",
       "      <td>0</td>\n",
       "      <td>0</td>\n",
       "    </tr>\n",
       "    <tr>\n",
       "      <th>7453211</th>\n",
       "      <td>2007</td>\n",
       "      <td>12</td>\n",
       "      <td>15</td>\n",
       "      <td>6</td>\n",
       "      <td>1902.0</td>\n",
       "      <td>1851</td>\n",
       "      <td>2110.0</td>\n",
       "      <td>2105</td>\n",
       "      <td>DL</td>\n",
       "      <td>59</td>\n",
       "      <td>...</td>\n",
       "      <td>6</td>\n",
       "      <td>21</td>\n",
       "      <td>0</td>\n",
       "      <td>NaN</td>\n",
       "      <td>0</td>\n",
       "      <td>0</td>\n",
       "      <td>0</td>\n",
       "      <td>0</td>\n",
       "      <td>0</td>\n",
       "      <td>0</td>\n",
       "    </tr>\n",
       "    <tr>\n",
       "      <th>7453212</th>\n",
       "      <td>2007</td>\n",
       "      <td>12</td>\n",
       "      <td>15</td>\n",
       "      <td>6</td>\n",
       "      <td>1024.0</td>\n",
       "      <td>1025</td>\n",
       "      <td>1750.0</td>\n",
       "      <td>1735</td>\n",
       "      <td>DL</td>\n",
       "      <td>61</td>\n",
       "      <td>...</td>\n",
       "      <td>14</td>\n",
       "      <td>19</td>\n",
       "      <td>0</td>\n",
       "      <td>NaN</td>\n",
       "      <td>0</td>\n",
       "      <td>0</td>\n",
       "      <td>0</td>\n",
       "      <td>15</td>\n",
       "      <td>0</td>\n",
       "      <td>0</td>\n",
       "    </tr>\n",
       "    <tr>\n",
       "      <th>7453213</th>\n",
       "      <td>2007</td>\n",
       "      <td>12</td>\n",
       "      <td>15</td>\n",
       "      <td>6</td>\n",
       "      <td>1353.0</td>\n",
       "      <td>1315</td>\n",
       "      <td>1658.0</td>\n",
       "      <td>1622</td>\n",
       "      <td>DL</td>\n",
       "      <td>62</td>\n",
       "      <td>...</td>\n",
       "      <td>11</td>\n",
       "      <td>14</td>\n",
       "      <td>0</td>\n",
       "      <td>NaN</td>\n",
       "      <td>0</td>\n",
       "      <td>0</td>\n",
       "      <td>0</td>\n",
       "      <td>0</td>\n",
       "      <td>0</td>\n",
       "      <td>36</td>\n",
       "    </tr>\n",
       "    <tr>\n",
       "      <th>7453214</th>\n",
       "      <td>2007</td>\n",
       "      <td>12</td>\n",
       "      <td>15</td>\n",
       "      <td>6</td>\n",
       "      <td>1824.0</td>\n",
       "      <td>1800</td>\n",
       "      <td>2001.0</td>\n",
       "      <td>1928</td>\n",
       "      <td>DL</td>\n",
       "      <td>63</td>\n",
       "      <td>...</td>\n",
       "      <td>10</td>\n",
       "      <td>26</td>\n",
       "      <td>0</td>\n",
       "      <td>NaN</td>\n",
       "      <td>0</td>\n",
       "      <td>24</td>\n",
       "      <td>0</td>\n",
       "      <td>9</td>\n",
       "      <td>0</td>\n",
       "      <td>0</td>\n",
       "    </tr>\n",
       "  </tbody>\n",
       "</table>\n",
       "<p>14595137 rows × 29 columns</p>\n",
       "</div>"
      ],
      "text/plain": [
       "         Year  Month  DayofMonth  DayOfWeek  DepTime  CRSDepTime  ArrTime  \\\n",
       "0        2006      1          11          3    743.0         745   1024.0   \n",
       "1        2006      1          11          3   1053.0        1053   1313.0   \n",
       "2        2006      1          11          3   1915.0        1915   2110.0   \n",
       "3        2006      1          11          3   1753.0        1755   1925.0   \n",
       "4        2006      1          11          3    824.0         832   1015.0   \n",
       "...       ...    ...         ...        ...      ...         ...      ...   \n",
       "7453210  2007     12          15          6   1558.0        1605   1749.0   \n",
       "7453211  2007     12          15          6   1902.0        1851   2110.0   \n",
       "7453212  2007     12          15          6   1024.0        1025   1750.0   \n",
       "7453213  2007     12          15          6   1353.0        1315   1658.0   \n",
       "7453214  2007     12          15          6   1824.0        1800   2001.0   \n",
       "\n",
       "         CRSArrTime UniqueCarrier  FlightNum  ... TaxiIn  TaxiOut  Cancelled  \\\n",
       "0              1018            US        343  ...     45       13          0   \n",
       "1              1318            US        613  ...     27       19          0   \n",
       "2              2133            US        617  ...      4       11          0   \n",
       "3              1933            US        300  ...     16       10          0   \n",
       "4              1015            US        765  ...     27       12          0   \n",
       "...             ...           ...        ...  ...    ...      ...        ...   \n",
       "7453210        1736            DL         58  ...     14       17          0   \n",
       "7453211        2105            DL         59  ...      6       21          0   \n",
       "7453212        1735            DL         61  ...     14       19          0   \n",
       "7453213        1622            DL         62  ...     11       14          0   \n",
       "7453214        1928            DL         63  ...     10       26          0   \n",
       "\n",
       "         CancellationCode  Diverted  CarrierDelay WeatherDelay NASDelay  \\\n",
       "0                     NaN         0             0            0        0   \n",
       "1                     NaN         0             0            0        0   \n",
       "2                     NaN         0             0            0        0   \n",
       "3                     NaN         0             0            0        0   \n",
       "4                     NaN         0             0            0        0   \n",
       "...                   ...       ...           ...          ...      ...   \n",
       "7453210               NaN         0             0            0        0   \n",
       "7453211               NaN         0             0            0        0   \n",
       "7453212               NaN         0             0            0       15   \n",
       "7453213               NaN         0             0            0        0   \n",
       "7453214               NaN         0            24            0        9   \n",
       "\n",
       "         SecurityDelay  LateAircraftDelay  \n",
       "0                    0                  0  \n",
       "1                    0                  0  \n",
       "2                    0                  0  \n",
       "3                    0                  0  \n",
       "4                    0                  0  \n",
       "...                ...                ...  \n",
       "7453210              0                  0  \n",
       "7453211              0                  0  \n",
       "7453212              0                  0  \n",
       "7453213              0                 36  \n",
       "7453214              0                  0  \n",
       "\n",
       "[14595137 rows x 29 columns]"
      ]
     },
     "execution_count": 3,
     "metadata": {},
     "output_type": "execute_result"
    }
   ],
   "source": [
    "mergeddataset = pd.concat([dataset2006, dataset2007])\n",
    "mergeddataset"
   ]
  },
  {
   "cell_type": "code",
   "execution_count": 4,
   "id": "7bf22892",
   "metadata": {},
   "outputs": [],
   "source": [
    "#dropping duplicated rows"
   ]
  },
  {
   "cell_type": "code",
   "execution_count": 5,
   "id": "22791fa3",
   "metadata": {},
   "outputs": [],
   "source": [
    "mergeddataset.drop_duplicates(inplace=True)"
   ]
  },
  {
   "cell_type": "code",
   "execution_count": 6,
   "id": "4110e377",
   "metadata": {},
   "outputs": [],
   "source": [
    "#saving merged data set with duplicate rows removed"
   ]
  },
  {
   "cell_type": "code",
   "execution_count": 7,
   "id": "882a53c9",
   "metadata": {},
   "outputs": [],
   "source": [
    "mergeddataset.to_csv(r\"C:\\Users\\DELL\\Desktop\\Coursework\\coursework data set\\2006and2007mergeddataset.csv\",index=False)"
   ]
  },
  {
   "cell_type": "markdown",
   "id": "7e28389b",
   "metadata": {},
   "source": [
    "## Explore the datasets"
   ]
  },
  {
   "cell_type": "code",
   "execution_count": 8,
   "id": "913b8868",
   "metadata": {},
   "outputs": [
    {
     "data": {
      "text/plain": [
       "(7141922, 29)"
      ]
     },
     "execution_count": 8,
     "metadata": {},
     "output_type": "execute_result"
    }
   ],
   "source": [
    "dataset2006.shape"
   ]
  },
  {
   "cell_type": "code",
   "execution_count": 9,
   "id": "a460ed1d",
   "metadata": {},
   "outputs": [
    {
     "data": {
      "text/plain": [
       "(7453215, 29)"
      ]
     },
     "execution_count": 9,
     "metadata": {},
     "output_type": "execute_result"
    }
   ],
   "source": [
    "dataset2007.shape"
   ]
  },
  {
   "cell_type": "code",
   "execution_count": 10,
   "id": "31ee9345",
   "metadata": {},
   "outputs": [
    {
     "data": {
      "text/plain": [
       "(3376, 7)"
      ]
     },
     "execution_count": 10,
     "metadata": {},
     "output_type": "execute_result"
    }
   ],
   "source": [
    "datasetairports.shape"
   ]
  },
  {
   "cell_type": "code",
   "execution_count": 11,
   "id": "00e5ec33",
   "metadata": {},
   "outputs": [
    {
     "data": {
      "text/plain": [
       "(1491, 2)"
      ]
     },
     "execution_count": 11,
     "metadata": {},
     "output_type": "execute_result"
    }
   ],
   "source": [
    "datasetcarriers.shape"
   ]
  },
  {
   "cell_type": "code",
   "execution_count": 12,
   "id": "dc29ea2b",
   "metadata": {},
   "outputs": [
    {
     "data": {
      "text/plain": [
       "(5029, 9)"
      ]
     },
     "execution_count": 12,
     "metadata": {},
     "output_type": "execute_result"
    }
   ],
   "source": [
    "datasetplanedata.shape"
   ]
  },
  {
   "cell_type": "code",
   "execution_count": 13,
   "id": "eb04ba4e",
   "metadata": {},
   "outputs": [
    {
     "data": {
      "text/plain": [
       "(14595103, 29)"
      ]
     },
     "execution_count": 13,
     "metadata": {},
     "output_type": "execute_result"
    }
   ],
   "source": [
    "mergeddataset.shape"
   ]
  },
  {
   "cell_type": "code",
   "execution_count": 14,
   "id": "7b6498d6",
   "metadata": {},
   "outputs": [
    {
     "data": {
      "text/plain": [
       "Index(['Year', 'Month', 'DayofMonth', 'DayOfWeek', 'DepTime', 'CRSDepTime',\n",
       "       'ArrTime', 'CRSArrTime', 'UniqueCarrier', 'FlightNum', 'TailNum',\n",
       "       'ActualElapsedTime', 'CRSElapsedTime', 'AirTime', 'ArrDelay',\n",
       "       'DepDelay', 'Origin', 'Dest', 'Distance', 'TaxiIn', 'TaxiOut',\n",
       "       'Cancelled', 'CancellationCode', 'Diverted', 'CarrierDelay',\n",
       "       'WeatherDelay', 'NASDelay', 'SecurityDelay', 'LateAircraftDelay'],\n",
       "      dtype='object')"
      ]
     },
     "execution_count": 14,
     "metadata": {},
     "output_type": "execute_result"
    }
   ],
   "source": [
    "mergeddataset.columns"
   ]
  },
  {
   "cell_type": "code",
   "execution_count": 15,
   "id": "112ce4ab",
   "metadata": {},
   "outputs": [
    {
     "data": {
      "text/plain": [
       "Index(['iata', 'airport', 'city', 'state', 'country', 'lat', 'long'], dtype='object')"
      ]
     },
     "execution_count": 15,
     "metadata": {},
     "output_type": "execute_result"
    }
   ],
   "source": [
    "datasetairports.columns"
   ]
  },
  {
   "cell_type": "code",
   "execution_count": 16,
   "id": "e3111e07",
   "metadata": {},
   "outputs": [
    {
     "data": {
      "text/plain": [
       "Index(['Code', 'Description'], dtype='object')"
      ]
     },
     "execution_count": 16,
     "metadata": {},
     "output_type": "execute_result"
    }
   ],
   "source": [
    "datasetcarriers.columns"
   ]
  },
  {
   "cell_type": "code",
   "execution_count": 17,
   "id": "4cef5db4",
   "metadata": {},
   "outputs": [
    {
     "data": {
      "text/plain": [
       "Index(['tailnum', 'type', 'manufacturer', 'issue_date', 'model', 'status',\n",
       "       'aircraft_type', 'engine_type', 'year'],\n",
       "      dtype='object')"
      ]
     },
     "execution_count": 17,
     "metadata": {},
     "output_type": "execute_result"
    }
   ],
   "source": [
    "datasetplanedata.columns"
   ]
  },
  {
   "cell_type": "code",
   "execution_count": 18,
   "id": "3535ba93",
   "metadata": {},
   "outputs": [
    {
     "data": {
      "text/plain": [
       "Year                   int64\n",
       "Month                  int64\n",
       "DayofMonth             int64\n",
       "DayOfWeek              int64\n",
       "DepTime              float64\n",
       "CRSDepTime             int64\n",
       "ArrTime              float64\n",
       "CRSArrTime             int64\n",
       "UniqueCarrier         object\n",
       "FlightNum              int64\n",
       "TailNum               object\n",
       "ActualElapsedTime    float64\n",
       "CRSElapsedTime       float64\n",
       "AirTime              float64\n",
       "ArrDelay             float64\n",
       "DepDelay             float64\n",
       "Origin                object\n",
       "Dest                  object\n",
       "Distance               int64\n",
       "TaxiIn                 int64\n",
       "TaxiOut                int64\n",
       "Cancelled              int64\n",
       "CancellationCode      object\n",
       "Diverted               int64\n",
       "CarrierDelay           int64\n",
       "WeatherDelay           int64\n",
       "NASDelay               int64\n",
       "SecurityDelay          int64\n",
       "LateAircraftDelay      int64\n",
       "dtype: object"
      ]
     },
     "execution_count": 18,
     "metadata": {},
     "output_type": "execute_result"
    }
   ],
   "source": [
    "mergeddataset.dtypes"
   ]
  },
  {
   "cell_type": "code",
   "execution_count": 19,
   "id": "83b84781",
   "metadata": {},
   "outputs": [
    {
     "data": {
      "text/plain": [
       "iata        object\n",
       "airport     object\n",
       "city        object\n",
       "state       object\n",
       "country     object\n",
       "lat        float64\n",
       "long       float64\n",
       "dtype: object"
      ]
     },
     "execution_count": 19,
     "metadata": {},
     "output_type": "execute_result"
    }
   ],
   "source": [
    "datasetairports.dtypes"
   ]
  },
  {
   "cell_type": "code",
   "execution_count": 20,
   "id": "6b2393e6",
   "metadata": {},
   "outputs": [
    {
     "data": {
      "text/plain": [
       "Code           object\n",
       "Description    object\n",
       "dtype: object"
      ]
     },
     "execution_count": 20,
     "metadata": {},
     "output_type": "execute_result"
    }
   ],
   "source": [
    "datasetcarriers.dtypes"
   ]
  },
  {
   "cell_type": "code",
   "execution_count": 21,
   "id": "55178073",
   "metadata": {},
   "outputs": [
    {
     "data": {
      "text/plain": [
       "tailnum          object\n",
       "type             object\n",
       "manufacturer     object\n",
       "issue_date       object\n",
       "model            object\n",
       "status           object\n",
       "aircraft_type    object\n",
       "engine_type      object\n",
       "year             object\n",
       "dtype: object"
      ]
     },
     "execution_count": 21,
     "metadata": {},
     "output_type": "execute_result"
    }
   ],
   "source": [
    "datasetplanedata.dtypes"
   ]
  }
 ],
 "metadata": {
  "kernelspec": {
   "display_name": "Python 3 (ipykernel)",
   "language": "python",
   "name": "python3"
  },
  "language_info": {
   "codemirror_mode": {
    "name": "ipython",
    "version": 3
   },
   "file_extension": ".py",
   "mimetype": "text/x-python",
   "name": "python",
   "nbconvert_exporter": "python",
   "pygments_lexer": "ipython3",
   "version": "3.9.12"
  }
 },
 "nbformat": 4,
 "nbformat_minor": 5
}
